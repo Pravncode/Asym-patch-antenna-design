{
 "cells": [
  {
   "cell_type": "code",
   "execution_count": 1,
   "id": "7aaf8e55",
   "metadata": {},
   "outputs": [
    {
     "name": "stderr",
     "output_type": "stream",
     "text": [
      "2024-05-01 14:38:52.236764: I tensorflow/stream_executor/platform/default/dso_loader.cc:49] Successfully opened dynamic library libcudart.so.10.1\n",
      "2024-05-01 14:38:53.657405: I tensorflow/compiler/jit/xla_cpu_device.cc:41] Not creating XLA devices, tf_xla_enable_xla_devices not set\n",
      "2024-05-01 14:38:53.658302: I tensorflow/stream_executor/platform/default/dso_loader.cc:49] Successfully opened dynamic library libcuda.so.1\n",
      "2024-05-01 14:38:53.687384: I tensorflow/core/common_runtime/gpu/gpu_device.cc:1720] Found device 0 with properties: \n",
      "pciBusID: 0000:0a:00.0 name: NVIDIA GeForce GTX 1070 computeCapability: 6.1\n",
      "coreClock: 1.683GHz coreCount: 15 deviceMemorySize: 7.92GiB deviceMemoryBandwidth: 238.66GiB/s\n",
      "2024-05-01 14:38:53.687415: I tensorflow/stream_executor/platform/default/dso_loader.cc:49] Successfully opened dynamic library libcudart.so.10.1\n",
      "2024-05-01 14:38:53.689266: I tensorflow/stream_executor/platform/default/dso_loader.cc:49] Successfully opened dynamic library libcublas.so.10\n",
      "2024-05-01 14:38:53.689307: I tensorflow/stream_executor/platform/default/dso_loader.cc:49] Successfully opened dynamic library libcublasLt.so.10\n",
      "2024-05-01 14:38:53.690866: I tensorflow/stream_executor/platform/default/dso_loader.cc:49] Successfully opened dynamic library libcufft.so.10\n",
      "2024-05-01 14:38:53.691182: I tensorflow/stream_executor/platform/default/dso_loader.cc:49] Successfully opened dynamic library libcurand.so.10\n",
      "2024-05-01 14:38:53.692971: I tensorflow/stream_executor/platform/default/dso_loader.cc:49] Successfully opened dynamic library libcusolver.so.10\n",
      "2024-05-01 14:38:53.693907: I tensorflow/stream_executor/platform/default/dso_loader.cc:49] Successfully opened dynamic library libcusparse.so.10\n",
      "2024-05-01 14:38:53.697629: I tensorflow/stream_executor/platform/default/dso_loader.cc:49] Successfully opened dynamic library libcudnn.so.7\n",
      "2024-05-01 14:38:53.698021: I tensorflow/core/common_runtime/gpu/gpu_device.cc:1862] Adding visible gpu devices: 0\n",
      "2024-05-01 14:38:53.698423: I tensorflow/core/platform/cpu_feature_guard.cc:142] This TensorFlow binary is optimized with oneAPI Deep Neural Network Library (oneDNN) to use the following CPU instructions in performance-critical operations:  SSE4.1 SSE4.2 AVX AVX2 FMA\n",
      "To enable them in other operations, rebuild TensorFlow with the appropriate compiler flags.\n",
      "2024-05-01 14:38:53.699891: I tensorflow/core/common_runtime/gpu/gpu_device.cc:1720] Found device 0 with properties: \n",
      "pciBusID: 0000:0a:00.0 name: NVIDIA GeForce GTX 1070 computeCapability: 6.1\n",
      "coreClock: 1.683GHz coreCount: 15 deviceMemorySize: 7.92GiB deviceMemoryBandwidth: 238.66GiB/s\n",
      "2024-05-01 14:38:53.699914: I tensorflow/stream_executor/platform/default/dso_loader.cc:49] Successfully opened dynamic library libcudart.so.10.1\n",
      "2024-05-01 14:38:53.699934: I tensorflow/stream_executor/platform/default/dso_loader.cc:49] Successfully opened dynamic library libcublas.so.10\n",
      "2024-05-01 14:38:53.699952: I tensorflow/stream_executor/platform/default/dso_loader.cc:49] Successfully opened dynamic library libcublasLt.so.10\n",
      "2024-05-01 14:38:53.699969: I tensorflow/stream_executor/platform/default/dso_loader.cc:49] Successfully opened dynamic library libcufft.so.10\n",
      "2024-05-01 14:38:53.699986: I tensorflow/stream_executor/platform/default/dso_loader.cc:49] Successfully opened dynamic library libcurand.so.10\n",
      "2024-05-01 14:38:53.700003: I tensorflow/stream_executor/platform/default/dso_loader.cc:49] Successfully opened dynamic library libcusolver.so.10\n",
      "2024-05-01 14:38:53.700020: I tensorflow/stream_executor/platform/default/dso_loader.cc:49] Successfully opened dynamic library libcusparse.so.10\n",
      "2024-05-01 14:38:53.700037: I tensorflow/stream_executor/platform/default/dso_loader.cc:49] Successfully opened dynamic library libcudnn.so.7\n",
      "2024-05-01 14:38:53.700348: I tensorflow/core/common_runtime/gpu/gpu_device.cc:1862] Adding visible gpu devices: 0\n",
      "2024-05-01 14:38:53.700384: I tensorflow/stream_executor/platform/default/dso_loader.cc:49] Successfully opened dynamic library libcudart.so.10.1\n",
      "2024-05-01 14:38:54.179623: I tensorflow/core/common_runtime/gpu/gpu_device.cc:1261] Device interconnect StreamExecutor with strength 1 edge matrix:\n",
      "2024-05-01 14:38:54.179655: I tensorflow/core/common_runtime/gpu/gpu_device.cc:1267]      0 \n",
      "2024-05-01 14:38:54.179661: I tensorflow/core/common_runtime/gpu/gpu_device.cc:1280] 0:   N \n",
      "2024-05-01 14:38:54.180308: I tensorflow/core/common_runtime/gpu/gpu_device.cc:1406] Created TensorFlow device (/job:localhost/replica:0/task:0/device:GPU:0 with 7005 MB memory) -> physical GPU (device: 0, name: NVIDIA GeForce GTX 1070, pci bus id: 0000:0a:00.0, compute capability: 6.1)\n",
      "2024-05-01 14:38:54.180702: I tensorflow/compiler/jit/xla_gpu_device.cc:99] Not creating XLA devices, tf_xla_enable_xla_devices not set\n"
     ]
    },
    {
     "ename": "ModuleNotFoundError",
     "evalue": "No module named 'matlabmultidimarrayforpython'",
     "output_type": "error",
     "traceback": [
      "\u001b[0;31m---------------------------------------------------------------------------\u001b[0m",
      "\u001b[0;31mModuleNotFoundError\u001b[0m                       Traceback (most recent call last)",
      "\u001b[0;32m/tmp/ipykernel_25450/4119456642.py\u001b[0m in \u001b[0;36m<module>\u001b[0;34m\u001b[0m\n\u001b[1;32m     25\u001b[0m \u001b[0;32mimport\u001b[0m \u001b[0mpred2\u001b[0m\u001b[0;34m\u001b[0m\u001b[0;34m\u001b[0m\u001b[0m\n\u001b[1;32m     26\u001b[0m \u001b[0;32mimport\u001b[0m \u001b[0mpred\u001b[0m\u001b[0;34m\u001b[0m\u001b[0;34m\u001b[0m\u001b[0m\n\u001b[0;32m---> 27\u001b[0;31m \u001b[0;32mimport\u001b[0m \u001b[0mmatlab\u001b[0m\u001b[0;34m.\u001b[0m\u001b[0mengine\u001b[0m\u001b[0;34m\u001b[0m\u001b[0;34m\u001b[0m\u001b[0m\n\u001b[0m",
      "\u001b[0;32m~/anaconda3/envs/ssp/lib/python3.9/site-packages/matlab/__init__.py\u001b[0m in \u001b[0;36m<module>\u001b[0;34m\u001b[0m\n\u001b[1;32m    216\u001b[0m         \u001b[0m_mpi\u001b[0m\u001b[0;34m.\u001b[0m\u001b[0mput_extern_bin_on_py_sys_path\u001b[0m\u001b[0;34m(\u001b[0m\u001b[0;34m)\u001b[0m\u001b[0;34m\u001b[0m\u001b[0;34m\u001b[0m\u001b[0m\n\u001b[1;32m    217\u001b[0m \u001b[0;34m\u001b[0m\u001b[0m\n\u001b[0;32m--> 218\u001b[0;31m \u001b[0;32mfrom\u001b[0m \u001b[0mmatlabmultidimarrayforpython\u001b[0m \u001b[0;32mimport\u001b[0m \u001b[0mdouble\u001b[0m\u001b[0;34m,\u001b[0m \u001b[0msingle\u001b[0m\u001b[0;34m,\u001b[0m \u001b[0muint8\u001b[0m\u001b[0;34m,\u001b[0m \u001b[0mint8\u001b[0m\u001b[0;34m,\u001b[0m \u001b[0muint16\u001b[0m\u001b[0;34m,\u001b[0m\u001b[0;31m \u001b[0m\u001b[0;31m\\\u001b[0m\u001b[0;34m\u001b[0m\u001b[0;34m\u001b[0m\u001b[0m\n\u001b[0m\u001b[1;32m    219\u001b[0m     \u001b[0mint16\u001b[0m\u001b[0;34m,\u001b[0m \u001b[0muint32\u001b[0m\u001b[0;34m,\u001b[0m \u001b[0mint32\u001b[0m\u001b[0;34m,\u001b[0m \u001b[0muint64\u001b[0m\u001b[0;34m,\u001b[0m \u001b[0mint64\u001b[0m\u001b[0;34m,\u001b[0m \u001b[0mlogical\u001b[0m\u001b[0;34m,\u001b[0m \u001b[0mShapeError\u001b[0m\u001b[0;34m,\u001b[0m \u001b[0mSizeError\u001b[0m\u001b[0;34m\u001b[0m\u001b[0;34m\u001b[0m\u001b[0m\n\u001b[1;32m    220\u001b[0m \u001b[0;34m\u001b[0m\u001b[0m\n",
      "\u001b[0;31mModuleNotFoundError\u001b[0m: No module named 'matlabmultidimarrayforpython'"
     ]
    }
   ],
   "source": [
    "import numpy as np\n",
    "import matplotlib.pyplot as plt\n",
    "import tensorflow as tf\n",
    "%reload_ext autoreload\n",
    "from os import system\n",
    "import subprocess\n",
    "import numpy as np\n",
    "import itertools as itt\n",
    "import multiprocessing\n",
    "import time\n",
    "import math\n",
    "import de_nn as de_nn\n",
    "from scipy.stats import qmc\n",
    "from numpy import *\n",
    "import random\n",
    "from matplotlib.patches import Circle, Wedge, Polygon\n",
    "from matplotlib.collections import PatchCollection\n",
    "import matplotlib.pyplot as plt\n",
    "#import mxnet.ndarray as nd\n",
    "#import mxnet as mx\n",
    "from itertools import chain\n",
    "import time\n",
    "from tensorflow.keras import layers, models\n",
    "from tensorflow.keras.models import load_model\n",
    "import pred2\n",
    "import pred\n",
    "import matlab.engine"
   ]
  },
  {
   "cell_type": "code",
   "execution_count": 3,
   "id": "0b91faa7",
   "metadata": {},
   "outputs": [],
   "source": [
    "# physical_devices = tf.config.list_physical_devices('GPU')\n",
    "# tf.config.experimental.set_memory_growth(physical_devices[0], True)\n",
    "# gpus = tf.config.list_physical_devices('GPU')\n",
    "# print(gpus)"
   ]
  },
  {
   "cell_type": "code",
   "execution_count": 52,
   "id": "fd6ad662",
   "metadata": {},
   "outputs": [
    {
     "name": "stdout",
     "output_type": "stream",
     "text": [
      "Size of Population matrix: (3, 85, 17)\n"
     ]
    }
   ],
   "source": [
    "D = 17\n",
    "N_P=85\n",
    "N_I=3\n",
    "pi=math.pi\n",
    "\n",
    "L = np.array([5,5,5,5,5,5,5,5,\n",
    "                  10,10,10,10,10,10,10,10,\n",
    "                  2*pi-5*pi/12]) #R1,R2,Phi1,Phi2,Alpha\n",
    "\n",
    "U = np.array([25,25,25,25,25,25,25,25,\n",
    "                  100,100,100,100,100,100,100,100,\n",
    "                  2*pi-pi/12])\n",
    "\n",
    "def create_population(L,U,N_P,N_I):\n",
    "    pop = []\n",
    "    count_isl = 0\n",
    "    while count_isl < N_I:  \n",
    "        pop1 = []\n",
    "        count_pop = 0\n",
    "        while count_pop < N_P:\n",
    "            sol = np.zeros(D)\n",
    "            for i in range(D):\n",
    "                sol[i] = L[i] + qmc.LatinHypercube(d=1).random(n=1)*(U[i] - L[i])\n",
    "            pop1.append(sol)\n",
    "            count_pop += 1\n",
    "        pop.append(pop1)\n",
    "        count_isl += 1\n",
    "    return(pop)\n",
    "\n",
    "population = create_population(L,U,N_P,N_I)\n",
    "print(\"Size of Population matrix:\",np.shape(population))\n",
    "# print(\"--                                             --\")\n",
    "# print(\"-------- Population(Mutant vector)--------------- \")\n",
    "# print(\"--                                            --\")\n",
    "# # print(population[0])"
   ]
  },
  {
   "cell_type": "code",
   "execution_count": 13,
   "id": "ad9869f2",
   "metadata": {},
   "outputs": [
    {
     "data": {
      "text/plain": [
       "5.93485513393762"
      ]
     },
     "execution_count": 13,
     "metadata": {},
     "output_type": "execute_result"
    }
   ],
   "source": [
    "pat_tar = np.loadtxt('ant128patt_rect.txt',delimiter=',')\n",
    "pat=np.reshape(pat_tar,(13,25,128))\n",
    "aaa=np.swapaxes(pat,0,2)\n",
    "aaa = aaa[55:65,:,:]\n",
    "np.shape(aaa)\n",
    "np.max(aaa)"
   ]
  },
  {
   "cell_type": "code",
   "execution_count": 14,
   "id": "d5dbdae0",
   "metadata": {},
   "outputs": [
    {
     "data": {
      "text/plain": [
       "3.921800643038441"
      ]
     },
     "execution_count": 14,
     "metadata": {},
     "output_type": "execute_result"
    }
   ],
   "source": [
    "aaa=aaa/10\n",
    "aaa=10**aaa\n",
    "np.max(aaa)"
   ]
  },
  {
   "cell_type": "code",
   "execution_count": 23,
   "id": "50601d26",
   "metadata": {},
   "outputs": [
    {
     "name": "stdout",
     "output_type": "stream",
     "text": [
      "3.921800643038441\n"
     ]
    },
    {
     "data": {
      "text/plain": [
       "[<matplotlib.lines.Line2D at 0x79720722e160>]"
      ]
     },
     "execution_count": 23,
     "metadata": {},
     "output_type": "execute_result"
    },
    {
     "data": {
      "image/png": "[encoded data removed]",
      "text/plain": [
       "<Figure size 432x288 with 1 Axes>"
      ]
     },
     "metadata": {
      "needs_background": "light"
     },
     "output_type": "display_data"
    }
   ],
   "source": [
    "tgt1=np.zeros(41600)\n",
    "y1_te=np.reshape(tgt1,(128,25,13))\n",
    "# y1_te=np.swapaxes(y1_te,0,2)\n",
    "y1_te[55:65,:,:] = aaa\n",
    "\n",
    "target1=np.reshape(y1_te,(41600))\n",
    "np.shape(target1)\n",
    "target2 = np.ones(128)\n",
    "target2[55:60] = 0.14\n",
    "# target2[74:79] = 0.1\n",
    "target3 = np.zeros(128)\n",
    "target3[55:60] = 50\n",
    "# target3[74:79] = 50\n",
    "\n",
    "target = np.concatenate((target1,target2,target3),axis=0)\n",
    "print(np.max(target1))\n",
    "plt.plot((target))"
   ]
  },
  {
   "cell_type": "code",
   "execution_count": 14,
   "id": "da061d32",
   "metadata": {},
   "outputs": [],
   "source": [
    "# def get_mse3(pop, tar,n_i,n_p):\n",
    "#     isl = np.array(list(chain.from_iterable(pop)))\n",
    "#     Gtar = tar[0:41600]\n",
    "#     Gtar = np.reshape(Gtar,(128,25,13))\n",
    "#     Gtar = Gtar[52,:,:]\n",
    "#     Star = tar[41600:41728]\n",
    "#     Rtar = tar[41728:41856]\n",
    "    \n",
    "#     tar1 = np.tile(Gtar, (n_i*n_p,1,1,1))\n",
    "#     tar2 = np.tile(Star, (n_i*n_p,1))\n",
    "#     tar3 = np.tile(Rtar, (n_i*n_p,1))\n",
    "    \n",
    "#     y = pred.prediction(isl)\n",
    "#     y1=y[:,0:41600]\n",
    "#     y1=np.reshape(y1,(n_i*n_p,13,25,128))\n",
    "#     y1=np.swapaxes(y1,1,3)\n",
    "#     y1=y1[:,48:54,:,:]\n",
    "\n",
    "#     y2=y[:,41600:41728]\n",
    "#     y3=y[:,41728:41856]\n",
    "# #     print(np.shape(Gtar),np.shape(tar1),np.shape(y1))\n",
    "#     m_1 = np.mean(np.mean(np.mean((y1-tar1)**2, axis = 3), axis = 2), axis =1)\n",
    "# #     m_1 = np.reshape(m_1,(n_i*n_p,325))\n",
    "#     m_2 = np.mean((y2-tar2)**2, axis = 1)\n",
    "#     m_3 = np.mean((y3-tar3)**2, axis = 1)\n",
    "# #     print(np.shape(m_1),np.shape(m_2))\n",
    "#     mse = 0.01*m_1 + m_2 + 0.01*m_3\n",
    "#     print(m_1,m_2,m_3)\n",
    "#     return np.reshape(mse,(n_i,n_p))"
   ]
  },
  {
   "cell_type": "code",
   "execution_count": 4,
   "id": "75b1fffc",
   "metadata": {},
   "outputs": [
    {
     "data": {
      "text/plain": [
       "(255, 17)"
      ]
     },
     "execution_count": 4,
     "metadata": {},
     "output_type": "execute_result"
    }
   ],
   "source": [
    "# isl = np.array(list(chain.from_iterable(population)))\n",
    "# np.shape(isl)"
   ]
  },
  {
   "cell_type": "code",
   "execution_count": 6,
   "id": "ec2eaf00",
   "metadata": {},
   "outputs": [
    {
     "data": {
      "text/plain": [
       "(3, 85)"
      ]
     },
     "execution_count": 6,
     "metadata": {},
     "output_type": "execute_result"
    }
   ],
   "source": [
    "# pred.get_mse(population,target,N_I,N_P)\n",
    "# np.shape(pred.get_mse(population,target,N_I,N_P))"
   ]
  },
  {
   "cell_type": "code",
   "execution_count": 53,
   "id": "f40cd762",
   "metadata": {
    "scrolled": true
   },
   "outputs": [
    {
     "name": "stdout",
     "output_type": "stream",
     "text": [
      "2024-05-01 15:17:58.893256\n",
      "(3, 85, 17)\n",
      "==============================\n",
      "Epoch #:1\n",
      "==============================\n",
      "(3, 85)\n",
      "Iteration =    0  -- \n",
      "===== [0.92689076 0.93884842 0.95730414] ======\n",
      "Iteration =    1  -- \n",
      "===== [0.92689076 0.93884842 0.95730414] ======\n",
      "Iteration =    2  -- \n",
      "===== [0.90230954 0.93884842 0.95730414] ======\n",
      "Iteration =    3  -- \n",
      "===== [0.90230954 0.93884842 0.95730414] ======\n",
      "Iteration =    4  -- \n",
      "===== [0.90230954 0.93884842 0.95730414] ======\n",
      "Iteration =    5  -- \n",
      "===== [0.90230954 0.93749975 0.95730414] ======\n",
      "Iteration =    6  -- \n",
      "===== [0.88123351 0.84599029 0.9198259 ] ======\n",
      "Iteration =    7  -- \n",
      "===== [0.85489403 0.84599029 0.90708706] ======\n",
      "Iteration =    8  -- \n",
      "===== [0.83227262 0.84599029 0.90022303] ======\n",
      "Iteration =    9  -- \n",
      "===== [0.83227262 0.84599029 0.88742752] ======\n",
      "Iteration =   10  -- \n",
      "===== [0.83227262 0.84599029 0.86201955] ======\n",
      "Iteration =   11  -- \n",
      "===== [0.83227262 0.84599029 0.86201955] ======\n",
      "Iteration =   12  -- \n",
      "===== [0.83227262 0.84599029 0.86201955] ======\n",
      "Iteration =   13  -- \n",
      "===== [0.83227262 0.84599029 0.85250984] ======\n",
      "Iteration =   14  -- \n",
      "===== [0.83227262 0.84393173 0.72770214] ======\n",
      "Iteration =   15  -- \n",
      "===== [0.79953593 0.84393173 0.72770214] ======\n",
      "Iteration =   16  -- \n",
      "===== [0.79953593 0.82955598 0.72770214] ======\n",
      "Iteration =   17  -- \n",
      "===== [0.68921354 0.82955598 0.72770214] ======\n",
      "Iteration =   18  -- \n",
      "===== [0.68921354 0.71856946 0.72770214] ======\n",
      "Iteration =   19  -- \n",
      "===== [0.68921354 0.71856946 0.72770214] ======\n",
      "Iteration =   20  -- \n",
      "===== [0.68921354 0.71856946 0.72770214] ======\n",
      "Iteration =   21  -- \n",
      "===== [0.68921354 0.71856946 0.72770214] ======\n",
      "Iteration =   22  -- \n",
      "===== [0.68921354 0.71856946 0.72770214] ======\n",
      "Iteration =   23  -- \n",
      "===== [0.68921354 0.71856946 0.72770214] ======\n",
      "Iteration =   24  -- \n",
      "===== [0.68921354 0.71856946 0.72770214] ======\n",
      "Iteration =   25  -- \n",
      "===== [0.68921354 0.71856946 0.72770214] ======\n",
      "Iteration =   26  -- \n",
      "===== [0.68921354 0.71856946 0.72770214] ======\n",
      "Iteration =   27  -- \n",
      "===== [0.68921354 0.71856946 0.72770214] ======\n",
      "Iteration =   28  -- \n",
      "===== [0.68921354 0.71856946 0.72770214] ======\n",
      "Iteration =   29  -- \n",
      "===== [0.68921354 0.66698661 0.72770214] ======\n",
      "Iteration =   30  -- \n",
      "===== [0.68921354 0.66698661 0.72770214] ======\n",
      "Iteration =   31  -- \n",
      "===== [0.68921354 0.66698661 0.72770214] ======\n",
      "Iteration =   32  -- \n",
      "===== [0.68921354 0.66698661 0.72770214] ======\n",
      "Iteration =   33  -- \n",
      "===== [0.68921354 0.66698661 0.67947498] ======\n",
      "Iteration =   34  -- \n",
      "===== [0.68921354 0.66698661 0.67947498] ======\n",
      "Iteration =   35  -- \n",
      "===== [0.68921354 0.66698661 0.67947498] ======\n",
      "Iteration =   36  -- \n",
      "===== [0.68921354 0.66698661 0.67947498] ======\n",
      "Iteration =   37  -- \n",
      "===== [0.68921354 0.66698661 0.67947498] ======\n",
      "Iteration =   38  -- \n",
      "===== [0.68659632 0.66698661 0.67947498] ======\n",
      "Iteration =   39  -- \n",
      "===== [0.68659632 0.66698661 0.67947498] ======\n",
      "Iteration =   40  -- \n",
      "===== [0.68659632 0.66698661 0.67947498] ======\n",
      "Iteration =   41  -- \n",
      "===== [0.68659632 0.661878   0.67947498] ======\n",
      "Iteration =   42  -- \n",
      "===== [0.68659632 0.661878   0.67947498] ======\n",
      "Iteration =   43  -- \n",
      "===== [0.68659632 0.661878   0.67947498] ======\n",
      "Iteration =   44  -- \n",
      "===== [0.68543076 0.661878   0.67334514] ======\n",
      "Iteration =   45  -- \n",
      "===== [0.68543076 0.661878   0.66168652] ======\n",
      "Iteration =   46  -- \n",
      "===== [0.65246407 0.661878   0.66168652] ======\n",
      "Iteration =   47  -- \n",
      "===== [0.65246407 0.661878   0.66168652] ======\n",
      "Iteration =   48  -- \n",
      "===== [0.65246407 0.661878   0.66168652] ======\n",
      "Iteration =   49  -- \n",
      "===== [0.65246407 0.661878   0.65664387] ======\n",
      "Iteration =   50  -- \n",
      "===== [0.65246407 0.661878   0.65664387] ======\n",
      "Iteration =   51  -- \n",
      "===== [0.65246407 0.661878   0.65664387] ======\n",
      "Iteration =   52  -- \n",
      "===== [0.65246407 0.661878   0.65664387] ======\n",
      "Iteration =   53  -- \n",
      "===== [0.65246407 0.661878   0.65664387] ======\n",
      "Iteration =   54  -- \n",
      "===== [0.65246407 0.661878   0.65664387] ======\n",
      "Iteration =   55  -- \n",
      "===== [0.65246407 0.64517019 0.6494839 ] ======\n",
      "Iteration =   56  -- \n",
      "===== [0.65246407 0.64517019 0.6494839 ] ======\n",
      "Iteration =   57  -- \n",
      "===== [0.65246407 0.64517019 0.6494839 ] ======\n",
      "Iteration =   58  -- \n",
      "===== [0.65246407 0.64517019 0.6494839 ] ======\n",
      "Iteration =   59  -- \n",
      "===== [0.65246407 0.64517019 0.6494839 ] ======\n",
      "Iteration =   60  -- \n",
      "===== [0.65246407 0.64517019 0.6494839 ] ======\n",
      "Iteration =   61  -- \n",
      "===== [0.65246407 0.64517019 0.6494839 ] ======\n",
      "Iteration =   62  -- \n",
      "===== [0.65246407 0.64517019 0.61984003] ======\n",
      "Iteration =   63  -- \n",
      "===== [0.64997851 0.64517019 0.61984003] ======\n",
      "Iteration =   64  -- \n",
      "===== [0.64997851 0.64517019 0.61984003] ======\n",
      "Iteration =   65  -- \n",
      "===== [0.64997851 0.62196693 0.61984003] ======\n",
      "Iteration =   66  -- \n",
      "===== [0.64997851 0.62196693 0.61984003] ======\n",
      "Iteration =   67  -- \n",
      "===== [0.64997851 0.62196693 0.61984003] ======\n",
      "Iteration =   68  -- \n",
      "===== [0.64997851 0.62196693 0.61984003] ======\n",
      "Iteration =   69  -- \n",
      "===== [0.64997851 0.62196693 0.61984003] ======\n",
      "Iteration =   70  -- \n",
      "===== [0.64997851 0.62196693 0.61984003] ======\n",
      "Iteration =   71  -- \n",
      "===== [0.64997851 0.62196693 0.61984003] ======\n",
      "Iteration =   72  -- \n",
      "===== [0.64997851 0.62196693 0.61984003] ======\n",
      "Iteration =   73  -- \n",
      "===== [0.64997851 0.62196693 0.60305821] ======\n",
      "Iteration =   74  -- \n",
      "===== [0.64997851 0.62196693 0.60305821] ======\n",
      "Iteration =   75  -- \n",
      "===== [0.64997851 0.62196693 0.60305821] ======\n",
      "Iteration =   76  -- \n",
      "===== [0.64997851 0.62196693 0.60305821] ======\n",
      "Iteration =   77  -- \n",
      "===== [0.64997851 0.62196693 0.59754371] ======\n",
      "Iteration =   78  -- \n",
      "===== [0.64997851 0.62196693 0.59754371] ======\n",
      "Iteration =   79  -- \n",
      "===== [0.64997851 0.62196693 0.59754371] ======\n",
      "Iteration =   80  -- \n",
      "===== [0.64997851 0.62196693 0.59754371] ======\n",
      "Iteration =   81  -- \n",
      "===== [0.64997851 0.62196693 0.59754371] ======\n",
      "Iteration =   82  -- \n",
      "===== [0.64997851 0.62196693 0.59754371] ======\n",
      "Iteration =   83  -- \n",
      "===== [0.64997851 0.62196693 0.59754371] ======\n",
      "Iteration =   84  -- \n",
      "===== [0.64829451 0.62196693 0.59754371] ======\n",
      "Iteration =   85  -- \n",
      "===== [0.61428093 0.62196693 0.59754371] ======\n",
      "Iteration =   86  -- \n",
      "===== [0.61428093 0.62196693 0.59754371] ======\n",
      "Iteration =   87  -- \n",
      "===== [0.61428093 0.62196693 0.59754371] ======\n",
      "Iteration =   88  -- \n",
      "===== [0.61428093 0.60029142 0.59754371] ======\n",
      "Iteration =   89  -- \n",
      "===== [0.61428093 0.60029142 0.59754371] ======\n",
      "Iteration =   90  -- \n",
      "===== [0.61428093 0.60029142 0.59754371] ======\n",
      "Iteration =   91  -- \n",
      "===== [0.61428093 0.60029142 0.59754371] ======\n",
      "Iteration =   92  -- \n",
      "===== [0.61428093 0.60029142 0.59754371] ======\n",
      "Iteration =   93  -- \n",
      "===== [0.61428093 0.60029142 0.59754371] ======\n",
      "Iteration =   94  -- \n",
      "===== [0.61428093 0.60029142 0.59754371] ======\n",
      "Iteration =   95  -- \n",
      "===== [0.61428093 0.60029142 0.59754371] ======\n",
      "Iteration =   96  -- \n",
      "===== [0.61428093 0.60029142 0.59754371] ======\n",
      "Iteration =   97  -- \n",
      "===== [0.61428093 0.60029142 0.59754371] ======\n",
      "Iteration =   98  -- \n",
      "===== [0.61428093 0.60029142 0.59754371] ======\n",
      "Iteration =   99  -- \n",
      "===== [0.61428093 0.60029142 0.59754371] ======\n",
      "Iteration =  100  -- \n",
      "===== [0.61428093 0.60029142 0.59754371] ======\n",
      "Iteration =  101  -- \n",
      "===== [0.61428093 0.60029142 0.59754371] ======\n",
      "Iteration =  102  -- \n",
      "===== [0.61428093 0.60029142 0.59602689] ======\n",
      "Iteration =  103  -- \n",
      "===== [0.61428093 0.60029142 0.59602689] ======\n",
      "Iteration =  104  -- \n",
      "===== [0.61428093 0.60029142 0.59602689] ======\n",
      "Iteration =  105  -- \n",
      "===== [0.61428093 0.60029142 0.59602689] ======\n",
      "Iteration =  106  -- \n",
      "===== [0.61428093 0.60029142 0.59602689] ======\n",
      "Iteration =  107  -- \n",
      "===== [0.61428093 0.60029142 0.59602689] ======\n",
      "Iteration =  108  -- \n",
      "===== [0.61428093 0.60029142 0.59602689] ======\n",
      "Iteration =  109  -- \n",
      "===== [0.61428093 0.60029142 0.59602689] ======\n",
      "Iteration =  110  -- \n",
      "===== [0.61428093 0.60029142 0.59602689] ======\n",
      "Iteration =  111  -- \n",
      "===== [0.61428093 0.60029142 0.59544997] ======\n",
      "Iteration =  112  -- \n",
      "===== [0.61428093 0.60029142 0.59544997] ======\n",
      "Iteration =  113  -- \n",
      "===== [0.59591898 0.60029142 0.59544997] ======\n",
      "Iteration =  114  -- \n",
      "===== [0.59591898 0.60029142 0.59544997] ======\n",
      "Iteration =  115  -- \n",
      "===== [0.59591898 0.58804462 0.59544997] ======\n",
      "Iteration =  116  -- \n",
      "===== [0.59591898 0.58804462 0.59544997] ======\n"
     ]
    },
    {
     "name": "stdout",
     "output_type": "stream",
     "text": [
      "Iteration =  117  -- \n",
      "===== [0.59591898 0.58804462 0.59544997] ======\n",
      "Iteration =  118  -- \n",
      "===== [0.59591898 0.58804462 0.59544997] ======\n",
      "Iteration =  119  -- \n",
      "===== [0.59591898 0.58804462 0.59544997] ======\n",
      "Iteration =  120  -- \n",
      "===== [0.59591898 0.58804462 0.59544997] ======\n",
      "Iteration =  121  -- \n",
      "===== [0.59591898 0.58804462 0.59544997] ======\n",
      "Iteration =  122  -- \n",
      "===== [0.59591898 0.58804462 0.59544997] ======\n",
      "Iteration =  123  -- \n",
      "===== [0.59591898 0.58804462 0.59544997] ======\n",
      "Iteration =  124  -- \n",
      "===== [0.59591898 0.58804462 0.59544997] ======\n",
      "Iteration =  125  -- \n",
      "===== [0.59591898 0.58804462 0.59544997] ======\n",
      "Iteration =  126  -- \n",
      "===== [0.59591898 0.58804462 0.59544997] ======\n",
      "Iteration =  127  -- \n",
      "===== [0.59591898 0.58804462 0.59544997] ======\n",
      "Iteration =  128  -- \n",
      "===== [0.59591898 0.58804462 0.59544997] ======\n",
      "Iteration =  129  -- \n",
      "===== [0.59591898 0.58804462 0.59544997] ======\n",
      "Iteration =  130  -- \n",
      "===== [0.59591898 0.58804462 0.59544997] ======\n",
      "Iteration =  131  -- \n",
      "===== [0.59591898 0.58804462 0.59544997] ======\n",
      "Iteration =  132  -- \n",
      "===== [0.59591898 0.58804462 0.59544997] ======\n",
      "Iteration =  133  -- \n",
      "===== [0.59591898 0.58804462 0.59544997] ======\n",
      "Iteration =  134  -- \n",
      "===== [0.59591898 0.58804462 0.59544997] ======\n",
      "Iteration =  135  -- \n",
      "===== [0.59591898 0.58804462 0.59544997] ======\n",
      "Iteration =  136  -- \n",
      "===== [0.59591898 0.58804462 0.59544997] ======\n",
      "Iteration =  137  -- \n",
      "===== [0.59591898 0.58804462 0.59544997] ======\n",
      "Iteration =  138  -- \n",
      "===== [0.59591898 0.58804462 0.59544997] ======\n",
      "Iteration =  139  -- \n",
      "===== [0.59591898 0.58804462 0.59544997] ======\n",
      "Iteration =  140  -- \n",
      "===== [0.59591898 0.58804462 0.59544997] ======\n",
      "Iteration =  141  -- \n",
      "===== [0.59591898 0.58804462 0.59544997] ======\n",
      "Iteration =  142  -- \n",
      "===== [0.59591898 0.58804462 0.59544997] ======\n",
      "Iteration =  143  -- \n",
      "===== [0.59591898 0.58804462 0.59544997] ======\n",
      "Iteration =  144  -- \n",
      "===== [0.59591898 0.58804462 0.59544997] ======\n",
      "Iteration =  145  -- \n",
      "===== [0.59591898 0.58804462 0.59544997] ======\n",
      "Iteration =  146  -- \n",
      "===== [0.59591898 0.58804462 0.59544997] ======\n",
      "Iteration =  147  -- \n",
      "===== [0.59591898 0.58804462 0.59544997] ======\n",
      "Iteration =  148  -- \n",
      "===== [0.59591898 0.58804462 0.59544997] ======\n",
      "Iteration =  149  -- \n",
      "===== [0.59591898 0.58804462 0.59544997] ======\n",
      "Iteration =  150  -- \n",
      "===== [0.59591898 0.58804462 0.59544997] ======\n",
      "Iteration =  151  -- \n",
      "===== [0.59591898 0.58804462 0.59544997] ======\n",
      "Iteration =  152  -- \n",
      "===== [0.59591898 0.58804462 0.59544997] ======\n",
      "Iteration =  153  -- \n",
      "===== [0.59591898 0.58804462 0.59544997] ======\n",
      "Iteration =  154  -- \n",
      "===== [0.59516434 0.58804462 0.59544997] ======\n",
      "Iteration =  155  -- \n",
      "===== [0.59516434 0.58804462 0.59544997] ======\n",
      "Iteration =  156  -- \n",
      "===== [0.59516434 0.58804462 0.59544997] ======\n",
      "Iteration =  157  -- \n",
      "===== [0.59404103 0.58804462 0.59544997] ======\n",
      "Iteration =  158  -- \n",
      "===== [0.59404103 0.58804462 0.59544997] ======\n",
      "Iteration =  159  -- \n",
      "===== [0.59404103 0.57610457 0.59544997] ======\n",
      "Iteration =  160  -- \n",
      "===== [0.59404103 0.57275654 0.59544997] ======\n",
      "Iteration =  161  -- \n",
      "===== [0.59404103 0.57275654 0.59544997] ======\n",
      "Iteration =  162  -- \n",
      "===== [0.59404103 0.57275654 0.59544997] ======\n",
      "Iteration =  163  -- \n",
      "===== [0.59404103 0.57275654 0.59544997] ======\n",
      "Iteration =  164  -- \n",
      "===== [0.59404103 0.57275654 0.58968991] ======\n",
      "Iteration =  165  -- \n",
      "===== [0.59404103 0.57275654 0.58968991] ======\n",
      "Iteration =  166  -- \n",
      "===== [0.59404103 0.57275654 0.58968991] ======\n",
      "Iteration =  167  -- \n",
      "===== [0.59404103 0.57275654 0.58968991] ======\n",
      "Iteration =  168  -- \n",
      "===== [0.59404103 0.57275654 0.58968991] ======\n",
      "Iteration =  169  -- \n",
      "===== [0.59404103 0.57275654 0.58968991] ======\n",
      "Iteration =  170  -- \n",
      "===== [0.59404103 0.57275654 0.58968991] ======\n",
      "Iteration =  171  -- \n",
      "===== [0.59404103 0.57275654 0.58968991] ======\n",
      "Iteration =  172  -- \n",
      "===== [0.59404103 0.57275654 0.58968991] ======\n",
      "Iteration =  173  -- \n",
      "===== [0.59404103 0.57275654 0.58968991] ======\n",
      "Iteration =  174  -- \n",
      "===== [0.59404103 0.57275654 0.58968991] ======\n",
      "Iteration =  175  -- \n",
      "===== [0.59404103 0.57275654 0.58968991] ======\n",
      "Iteration =  176  -- \n",
      "===== [0.59404103 0.57275654 0.58968991] ======\n",
      "Iteration =  177  -- \n",
      "===== [0.59404103 0.57275654 0.58968991] ======\n",
      "Iteration =  178  -- \n",
      "===== [0.59404103 0.57275654 0.58968991] ======\n",
      "Iteration =  179  -- \n",
      "===== [0.59404103 0.57275654 0.58968991] ======\n",
      "Iteration =  180  -- \n",
      "===== [0.58549431 0.57275654 0.58968991] ======\n",
      "Iteration =  181  -- \n",
      "===== [0.56542303 0.57275654 0.58968991] ======\n",
      "Iteration =  182  -- \n",
      "===== [0.56542303 0.57275654 0.58968991] ======\n",
      "Iteration =  183  -- \n",
      "===== [0.56542303 0.57275654 0.58968991] ======\n",
      "Iteration =  184  -- \n",
      "===== [0.56542303 0.57275654 0.58968991] ======\n",
      "Iteration =  185  -- \n",
      "===== [0.56542303 0.57275654 0.58968991] ======\n",
      "Iteration =  186  -- \n",
      "===== [0.56542303 0.57275654 0.58968991] ======\n",
      "Iteration =  187  -- \n",
      "===== [0.56541951 0.57275654 0.58968991] ======\n",
      "Iteration =  188  -- \n",
      "===== [0.56541951 0.57275654 0.58968991] ======\n",
      "Iteration =  189  -- \n",
      "===== [0.56541951 0.57275654 0.58968991] ======\n",
      "Iteration =  190  -- \n",
      "===== [0.56541951 0.57275654 0.58968991] ======\n",
      "Iteration =  191  -- \n",
      "===== [0.56541951 0.57275654 0.58968991] ======\n",
      "Iteration =  192  -- \n",
      "===== [0.56541951 0.57275654 0.58441551] ======\n",
      "Iteration =  193  -- \n",
      "===== [0.56541951 0.57275654 0.58441551] ======\n",
      "Iteration =  194  -- \n",
      "===== [0.56541951 0.57275654 0.58441551] ======\n",
      "Iteration =  195  -- \n",
      "===== [0.56541951 0.57275654 0.56789432] ======\n",
      "Iteration =  196  -- \n",
      "===== [0.56541951 0.57275654 0.56789432] ======\n",
      "Iteration =  197  -- \n",
      "===== [0.56541951 0.57275654 0.56789432] ======\n",
      "Iteration =  198  -- \n",
      "===== [0.56541951 0.57275654 0.56789432] ======\n",
      "Iteration =  199  -- \n",
      "===== [0.56541951 0.57275654 0.56789432] ======\n",
      "==============================\n",
      "Epoch #:2\n",
      "==============================\n",
      "(3, 85)\n",
      "Iteration =    0  -- \n",
      "===== [0.56789432 0.56541951 0.57275654] ======\n",
      "Iteration =    1  -- \n",
      "===== [0.56789432 0.56541951 0.57275654] ======\n",
      "Iteration =    2  -- \n",
      "===== [0.56789432 0.56541951 0.57275654] ======\n",
      "Iteration =    3  -- \n",
      "===== [0.56789432 0.56541951 0.57275654] ======\n",
      "Iteration =    4  -- \n",
      "===== [0.56789432 0.56541951 0.57275654] ======\n",
      "Iteration =    5  -- \n",
      "===== [0.56789432 0.56541951 0.57275654] ======\n",
      "Iteration =    6  -- \n",
      "===== [0.56789432 0.56541951 0.57275654] ======\n",
      "Iteration =    7  -- \n",
      "===== [0.56789432 0.56541951 0.57275654] ======\n",
      "Iteration =    8  -- \n",
      "===== [0.56789432 0.56541951 0.57275654] ======\n",
      "Iteration =    9  -- \n",
      "===== [0.56789432 0.56541951 0.57275654] ======\n",
      "Iteration =   10  -- \n",
      "===== [0.56789432 0.56541951 0.57275654] ======\n",
      "Iteration =   11  -- \n",
      "===== [0.56789432 0.56541951 0.57275654] ======\n",
      "Iteration =   12  -- \n",
      "===== [0.56789432 0.56541951 0.57275654] ======\n",
      "Iteration =   13  -- \n",
      "===== [0.56789432 0.56541951 0.57275654] ======\n",
      "Iteration =   14  -- \n",
      "===== [0.56789432 0.56541951 0.57275654] ======\n",
      "Iteration =   15  -- \n",
      "===== [0.56789432 0.56541951 0.57275654] ======\n",
      "Iteration =   16  -- \n",
      "===== [0.56789432 0.56541951 0.57275654] ======\n",
      "Iteration =   17  -- \n",
      "===== [0.56789432 0.56541951 0.57275654] ======\n",
      "Iteration =   18  -- \n",
      "===== [0.56789432 0.56541951 0.57275654] ======\n",
      "Iteration =   19  -- \n",
      "===== [0.56789432 0.56541951 0.57275654] ======\n",
      "Iteration =   20  -- \n",
      "===== [0.56789432 0.56541951 0.57275654] ======\n",
      "Iteration =   21  -- \n",
      "===== [0.56789432 0.56541951 0.57275654] ======\n",
      "Iteration =   22  -- \n",
      "===== [0.56789432 0.56541951 0.57275654] ======\n",
      "Iteration =   23  -- \n",
      "===== [0.56789432 0.56541951 0.57275654] ======\n",
      "Iteration =   24  -- \n",
      "===== [0.56789432 0.56541951 0.57275654] ======\n",
      "Iteration =   25  -- \n",
      "===== [0.56789432 0.56541951 0.57275654] ======\n",
      "Iteration =   26  -- \n",
      "===== [0.56789432 0.56541951 0.57275654] ======\n",
      "Iteration =   27  -- \n",
      "===== [0.56789432 0.56541951 0.57275654] ======\n",
      "Iteration =   28  -- \n",
      "===== [0.56789432 0.56541951 0.57275654] ======\n",
      "Iteration =   29  -- \n",
      "===== [0.56789432 0.56541951 0.57275654] ======\n",
      "Iteration =   30  -- \n",
      "===== [0.56789432 0.56541951 0.57275654] ======\n",
      "Iteration =   31  -- \n",
      "===== [0.56789432 0.56541951 0.57275654] ======\n",
      "Iteration =   32  -- \n",
      "===== [0.56789432 0.56541951 0.57275654] ======\n",
      "Iteration =   33  -- \n",
      "===== [0.56789432 0.56541951 0.56854889] ======\n"
     ]
    },
    {
     "name": "stdout",
     "output_type": "stream",
     "text": [
      "Iteration =   34  -- \n",
      "===== [0.56789432 0.56541951 0.56854889] ======\n",
      "Iteration =   35  -- \n",
      "===== [0.56789432 0.56541951 0.56854889] ======\n",
      "Iteration =   36  -- \n",
      "===== [0.56789432 0.56541951 0.56854889] ======\n",
      "Iteration =   37  -- \n",
      "===== [0.56789432 0.56541951 0.56854889] ======\n",
      "Iteration =   38  -- \n",
      "===== [0.56654984 0.56541951 0.56854889] ======\n",
      "Iteration =   39  -- \n",
      "===== [0.56654984 0.56541951 0.56854889] ======\n",
      "Iteration =   40  -- \n",
      "===== [0.56654984 0.56541951 0.56854889] ======\n",
      "Iteration =   41  -- \n",
      "===== [0.56654984 0.56541951 0.56854889] ======\n",
      "Iteration =   42  -- \n",
      "===== [0.56654984 0.56541951 0.56854889] ======\n",
      "Iteration =   43  -- \n",
      "===== [0.56654984 0.56541951 0.56854889] ======\n",
      "Iteration =   44  -- \n",
      "===== [0.56654984 0.56541951 0.56854889] ======\n",
      "Iteration =   45  -- \n",
      "===== [0.56654984 0.56541951 0.56854889] ======\n",
      "Iteration =   46  -- \n",
      "===== [0.56654984 0.56541951 0.56854889] ======\n",
      "Iteration =   47  -- \n",
      "===== [0.56654984 0.56541951 0.56854889] ======\n",
      "Iteration =   48  -- \n",
      "===== [0.56654984 0.56541951 0.56854889] ======\n",
      "Iteration =   49  -- \n",
      "===== [0.56654984 0.56541951 0.56854889] ======\n",
      "Iteration =   50  -- \n",
      "===== [0.56654984 0.56541951 0.56854889] ======\n",
      "Iteration =   51  -- \n",
      "===== [0.56654984 0.56541951 0.56854889] ======\n",
      "Iteration =   52  -- \n",
      "===== [0.56654984 0.56541951 0.56854889] ======\n",
      "Iteration =   53  -- \n",
      "===== [0.54818293 0.56541951 0.56854889] ======\n",
      "Iteration =   54  -- \n",
      "===== [0.54818293 0.56541951 0.56854889] ======\n",
      "Iteration =   55  -- \n",
      "===== [0.54818293 0.56541951 0.56854889] ======\n",
      "Iteration =   56  -- \n",
      "===== [0.54818293 0.56541951 0.56854889] ======\n",
      "Iteration =   57  -- \n",
      "===== [0.54818293 0.56541951 0.56854889] ======\n",
      "Iteration =   58  -- \n",
      "===== [0.54818293 0.56541951 0.56854889] ======\n",
      "Iteration =   59  -- \n",
      "===== [0.54818293 0.56541951 0.56854889] ======\n",
      "Iteration =   60  -- \n",
      "===== [0.54818293 0.56541951 0.56854889] ======\n",
      "Iteration =   61  -- \n",
      "===== [0.54818293 0.56541951 0.56854889] ======\n",
      "Iteration =   62  -- \n",
      "===== [0.54818293 0.56541951 0.56854889] ======\n",
      "Iteration =   63  -- \n",
      "===== [0.54818293 0.56541951 0.56854889] ======\n",
      "Iteration =   64  -- \n",
      "===== [0.54818293 0.56541951 0.56854889] ======\n",
      "Iteration =   65  -- \n",
      "===== [0.54818293 0.56541951 0.56854889] ======\n",
      "Iteration =   66  -- \n",
      "===== [0.54818293 0.56541951 0.56854889] ======\n",
      "Iteration =   67  -- \n",
      "===== [0.54818293 0.56541951 0.56854889] ======\n",
      "Iteration =   68  -- \n",
      "===== [0.54818293 0.56541951 0.56854889] ======\n",
      "Iteration =   69  -- \n",
      "===== [0.54818293 0.56541951 0.56854889] ======\n",
      "Iteration =   70  -- \n",
      "===== [0.54818293 0.56541951 0.56854889] ======\n",
      "Iteration =   71  -- \n",
      "===== [0.54818293 0.56541951 0.56854889] ======\n",
      "Iteration =   72  -- \n",
      "===== [0.54818293 0.56541951 0.56854889] ======\n",
      "Iteration =   73  -- \n",
      "===== [0.54818293 0.56541951 0.56854889] ======\n",
      "Iteration =   74  -- \n",
      "===== [0.54818293 0.56541951 0.56854889] ======\n",
      "Iteration =   75  -- \n",
      "===== [0.54818293 0.56541951 0.56854889] ======\n",
      "Iteration =   76  -- \n",
      "===== [0.54818293 0.56541951 0.56854889] ======\n",
      "Iteration =   77  -- \n",
      "===== [0.54818293 0.56541951 0.56854889] ======\n",
      "Iteration =   78  -- \n",
      "===== [0.54818293 0.56541951 0.56854889] ======\n",
      "Iteration =   79  -- \n",
      "===== [0.54818293 0.56541951 0.56854889] ======\n",
      "Iteration =   80  -- \n",
      "===== [0.54818293 0.56541951 0.55926764] ======\n",
      "Iteration =   81  -- \n",
      "===== [0.54818293 0.56541951 0.55926764] ======\n",
      "Iteration =   82  -- \n",
      "===== [0.54818293 0.56541951 0.55926764] ======\n",
      "Iteration =   83  -- \n",
      "===== [0.54818293 0.56541951 0.55926764] ======\n",
      "Iteration =   84  -- \n",
      "===== [0.54818293 0.56541951 0.55926764] ======\n",
      "Iteration =   85  -- \n",
      "===== [0.54818293 0.56541951 0.55926764] ======\n",
      "Iteration =   86  -- \n",
      "===== [0.54818293 0.56541951 0.55926764] ======\n",
      "Iteration =   87  -- \n",
      "===== [0.54818293 0.56541951 0.55926764] ======\n",
      "Iteration =   88  -- \n",
      "===== [0.54818293 0.56541951 0.55926764] ======\n",
      "Iteration =   89  -- \n",
      "===== [0.54818293 0.56541951 0.55926764] ======\n",
      "Iteration =   90  -- \n",
      "===== [0.54818293 0.56541951 0.55926764] ======\n",
      "Iteration =   91  -- \n",
      "===== [0.54818293 0.56541951 0.54906576] ======\n",
      "Iteration =   92  -- \n",
      "===== [0.54818293 0.56541951 0.54906576] ======\n",
      "Iteration =   93  -- \n",
      "===== [0.54818293 0.56541951 0.54906576] ======\n",
      "Iteration =   94  -- \n",
      "===== [0.54818293 0.56541951 0.54906576] ======\n",
      "Iteration =   95  -- \n",
      "===== [0.54818293 0.56541951 0.54906576] ======\n",
      "Iteration =   96  -- \n",
      "===== [0.54818293 0.56541951 0.54906576] ======\n",
      "Iteration =   97  -- \n",
      "===== [0.54818293 0.56541951 0.54906576] ======\n",
      "Iteration =   98  -- \n",
      "===== [0.54818293 0.56541951 0.54906576] ======\n",
      "Iteration =   99  -- \n",
      "===== [0.54818293 0.56541951 0.54906576] ======\n",
      "==============================\n",
      "Epoch #:3\n",
      "==============================\n",
      "(3, 85)\n",
      "Iteration =    0  -- \n",
      "===== [0.54906576 0.54818293 0.56541951] ======\n",
      "Iteration =    1  -- \n",
      "===== [0.54906576 0.54818293 0.56541951] ======\n",
      "Iteration =    2  -- \n",
      "===== [0.54906576 0.54818293 0.56541951] ======\n",
      "Iteration =    3  -- \n",
      "===== [0.54906576 0.54818293 0.56541951] ======\n",
      "Iteration =    4  -- \n",
      "===== [0.54906576 0.54818293 0.56541951] ======\n",
      "Iteration =    5  -- \n",
      "===== [0.54906576 0.54818293 0.56541951] ======\n",
      "Iteration =    6  -- \n",
      "===== [0.54906576 0.54818293 0.56541951] ======\n",
      "Iteration =    7  -- \n",
      "===== [0.54906576 0.54818293 0.56541951] ======\n",
      "Iteration =    8  -- \n",
      "===== [0.54906576 0.54818293 0.56541951] ======\n",
      "Iteration =    9  -- \n",
      "===== [0.54906576 0.54818293 0.56541951] ======\n",
      "Iteration =   10  -- \n",
      "===== [0.54845086 0.54818293 0.56541951] ======\n",
      "Iteration =   11  -- \n",
      "===== [0.54845086 0.54818293 0.56541951] ======\n",
      "Iteration =   12  -- \n",
      "===== [0.54845086 0.54818293 0.56541951] ======\n",
      "Iteration =   13  -- \n",
      "===== [0.54845086 0.54818293 0.56541951] ======\n",
      "Iteration =   14  -- \n",
      "===== [0.54845086 0.54818293 0.56541951] ======\n",
      "Iteration =   15  -- \n",
      "===== [0.54845086 0.54818293 0.5583048 ] ======\n",
      "Iteration =   16  -- \n",
      "===== [0.54845086 0.54818293 0.5583048 ] ======\n",
      "Iteration =   17  -- \n",
      "===== [0.54845086 0.54818293 0.5583048 ] ======\n",
      "Iteration =   18  -- \n",
      "===== [0.54845086 0.54818293 0.5583048 ] ======\n",
      "Iteration =   19  -- \n",
      "===== [0.54845086 0.54818293 0.55762963] ======\n",
      "Iteration =   20  -- \n",
      "===== [0.54845086 0.54818293 0.55762963] ======\n",
      "Iteration =   21  -- \n",
      "===== [0.54845086 0.54818293 0.55762963] ======\n",
      "Iteration =   22  -- \n",
      "===== [0.54845086 0.54818293 0.55762963] ======\n",
      "Iteration =   23  -- \n",
      "===== [0.54845086 0.54818293 0.55762963] ======\n",
      "Iteration =   24  -- \n",
      "===== [0.54845086 0.54818293 0.55762963] ======\n",
      "Iteration =   25  -- \n",
      "===== [0.54845086 0.53890476 0.55762963] ======\n",
      "Iteration =   26  -- \n",
      "===== [0.54845086 0.53890476 0.55762963] ======\n",
      "Iteration =   27  -- \n",
      "===== [0.54845086 0.53890476 0.55762963] ======\n",
      "Iteration =   28  -- \n",
      "===== [0.54845086 0.53890476 0.55762963] ======\n",
      "Iteration =   29  -- \n",
      "===== [0.54845086 0.53890476 0.55762963] ======\n",
      "Iteration =   30  -- \n",
      "===== [0.54845086 0.53890476 0.55762963] ======\n",
      "Iteration =   31  -- \n",
      "===== [0.54845086 0.53890476 0.55762963] ======\n",
      "Iteration =   32  -- \n",
      "===== [0.54845086 0.53890476 0.55762963] ======\n",
      "Iteration =   33  -- \n",
      "===== [0.54845086 0.53890476 0.55762963] ======\n",
      "Iteration =   34  -- \n",
      "===== [0.54845086 0.53890476 0.55762963] ======\n",
      "Iteration =   35  -- \n",
      "===== [0.54845086 0.53890476 0.55556684] ======\n",
      "Iteration =   36  -- \n",
      "===== [0.54845086 0.53890476 0.55556684] ======\n",
      "Iteration =   37  -- \n",
      "===== [0.54845086 0.53890476 0.55556684] ======\n",
      "Iteration =   38  -- \n",
      "===== [0.54845086 0.53890476 0.54858561] ======\n",
      "Iteration =   39  -- \n",
      "===== [0.54845086 0.53890476 0.54858561] ======\n",
      "Iteration =   40  -- \n",
      "===== [0.54845086 0.53890476 0.54858561] ======\n",
      "Iteration =   41  -- \n",
      "===== [0.54845086 0.53890476 0.54858561] ======\n",
      "Iteration =   42  -- \n",
      "===== [0.54845086 0.53890476 0.54858561] ======\n",
      "Iteration =   43  -- \n",
      "===== [0.54845086 0.53890476 0.54858561] ======\n",
      "Iteration =   44  -- \n",
      "===== [0.54845086 0.53890476 0.54858561] ======\n",
      "Iteration =   45  -- \n",
      "===== [0.54845086 0.53890476 0.54858561] ======\n",
      "Iteration =   46  -- \n",
      "===== [0.54845086 0.53890476 0.54858561] ======\n",
      "Iteration =   47  -- \n",
      "===== [0.54845086 0.53890476 0.54858561] ======\n",
      "Iteration =   48  -- \n",
      "===== [0.54845086 0.53890476 0.5359561 ] ======\n",
      "Iteration =   49  -- \n",
      "===== [0.54845086 0.53890476 0.5359561 ] ======\n",
      "==============================\n",
      "Epoch #:4\n",
      "==============================\n",
      "(3, 85)\n"
     ]
    },
    {
     "name": "stdout",
     "output_type": "stream",
     "text": [
      "Iteration =    0  -- \n",
      "===== [0.5359561  0.54845086 0.53890476] ======\n",
      "Iteration =    1  -- \n",
      "===== [0.5359561  0.54845086 0.53890476] ======\n",
      "Iteration =    2  -- \n",
      "===== [0.5359561  0.54845086 0.53890476] ======\n",
      "Iteration =    3  -- \n",
      "===== [0.5359561  0.54845086 0.53890476] ======\n",
      "Iteration =    4  -- \n",
      "===== [0.5359561  0.54845086 0.52681176] ======\n",
      "Iteration =    5  -- \n",
      "===== [0.5359561  0.54845086 0.52681176] ======\n",
      "Iteration =    6  -- \n",
      "===== [0.5359561  0.54845086 0.52681176] ======\n",
      "Iteration =    7  -- \n",
      "===== [0.5359561  0.54845086 0.52681176] ======\n",
      "Iteration =    8  -- \n",
      "===== [0.5359561  0.54845086 0.52681176] ======\n",
      "Iteration =    9  -- \n",
      "===== [0.5359561  0.54845086 0.52681176] ======\n",
      "Iteration =   10  -- \n",
      "===== [0.5359561  0.54845086 0.52681176] ======\n",
      "Iteration =   11  -- \n",
      "===== [0.5359561  0.54845086 0.52681176] ======\n",
      "Iteration =   12  -- \n",
      "===== [0.5359561  0.54845086 0.52681176] ======\n",
      "Iteration =   13  -- \n",
      "===== [0.5359561  0.54845086 0.52681176] ======\n",
      "Iteration =   14  -- \n",
      "===== [0.5359561  0.54845086 0.52681176] ======\n",
      "Iteration =   15  -- \n",
      "===== [0.5359561  0.54845086 0.52681176] ======\n",
      "Iteration =   16  -- \n",
      "===== [0.5359561  0.54845086 0.52681176] ======\n",
      "Iteration =   17  -- \n",
      "===== [0.5359561  0.54845086 0.52681176] ======\n",
      "Iteration =   18  -- \n",
      "===== [0.5359561  0.54845086 0.52681176] ======\n",
      "Iteration =   19  -- \n",
      "===== [0.5359561  0.54845086 0.52681176] ======\n",
      "Iteration =   20  -- \n",
      "===== [0.5359561  0.54845086 0.52681176] ======\n",
      "Iteration =   21  -- \n",
      "===== [0.5359561  0.54845086 0.52681176] ======\n",
      "Iteration =   22  -- \n",
      "===== [0.5359561  0.54795427 0.52681176] ======\n",
      "Iteration =   23  -- \n",
      "===== [0.53548551 0.54795427 0.52681176] ======\n",
      "Iteration =   24  -- \n",
      "===== [0.53548551 0.54795427 0.52681176] ======\n",
      "Iteration =   25  -- \n",
      "===== [0.53548551 0.54795427 0.52681176] ======\n",
      "Iteration =   26  -- \n",
      "===== [0.53548551 0.54795427 0.52681176] ======\n",
      "Iteration =   27  -- \n",
      "===== [0.53548551 0.54795427 0.52681176] ======\n",
      "Iteration =   28  -- \n",
      "===== [0.53548551 0.54795427 0.52681176] ======\n",
      "Iteration =   29  -- \n",
      "===== [0.53548551 0.54795427 0.52681176] ======\n",
      "Iteration =   30  -- \n",
      "===== [0.53548551 0.54795427 0.52681176] ======\n",
      "Iteration =   31  -- \n",
      "===== [0.53548551 0.54795427 0.52681176] ======\n",
      "Iteration =   32  -- \n",
      "===== [0.53548551 0.54795427 0.52681176] ======\n",
      "Iteration =   33  -- \n",
      "===== [0.53548551 0.54795427 0.52681176] ======\n",
      "Iteration =   34  -- \n",
      "===== [0.53548551 0.54795427 0.52681176] ======\n",
      "Iteration =   35  -- \n",
      "===== [0.53548551 0.54795427 0.52681176] ======\n",
      "Iteration =   36  -- \n",
      "===== [0.53548551 0.54795427 0.52681176] ======\n",
      "Iteration =   37  -- \n",
      "===== [0.53548551 0.54795427 0.52681176] ======\n",
      "Iteration =   38  -- \n",
      "===== [0.53548551 0.54795427 0.52681176] ======\n",
      "Iteration =   39  -- \n",
      "===== [0.53548551 0.54795427 0.52681176] ======\n",
      "Iteration =   40  -- \n",
      "===== [0.53548551 0.54795427 0.52681176] ======\n",
      "Iteration =   41  -- \n",
      "===== [0.53548551 0.54795427 0.52681176] ======\n",
      "Iteration =   42  -- \n",
      "===== [0.53548551 0.54795427 0.52681176] ======\n",
      "Iteration =   43  -- \n",
      "===== [0.53548551 0.54795427 0.52681176] ======\n",
      "Iteration =   44  -- \n",
      "===== [0.53548551 0.54795427 0.52681176] ======\n",
      "Iteration =   45  -- \n",
      "===== [0.53548551 0.54795427 0.52681176] ======\n",
      "Iteration =   46  -- \n",
      "===== [0.53548551 0.54795427 0.52681176] ======\n",
      "Iteration =   47  -- \n",
      "===== [0.53548551 0.54795427 0.52681176] ======\n",
      "Iteration =   48  -- \n",
      "===== [0.53548551 0.54795427 0.52681176] ======\n",
      "Iteration =   49  -- \n",
      "===== [0.53548551 0.54795427 0.52617783] ======\n",
      "==============================\n",
      "Epoch #:5\n",
      "==============================\n",
      "(3, 85)\n",
      "Iteration =    0  -- \n",
      "===== [0.52617783 0.53548551 0.52681176] ======\n",
      "Iteration =    1  -- \n",
      "===== [0.52617783 0.53548551 0.52681176] ======\n",
      "Iteration =    2  -- \n",
      "===== [0.52617783 0.53548551 0.52681176] ======\n",
      "Iteration =    3  -- \n",
      "===== [0.52617783 0.53548551 0.52681176] ======\n",
      "Iteration =    4  -- \n",
      "===== [0.52617783 0.53548551 0.52681176] ======\n",
      "Iteration =    5  -- \n",
      "===== [0.52617783 0.53548551 0.52681176] ======\n",
      "Iteration =    6  -- \n",
      "===== [0.52617783 0.53548551 0.52681176] ======\n",
      "Iteration =    7  -- \n",
      "===== [0.52617783 0.53548551 0.52681176] ======\n",
      "Iteration =    8  -- \n",
      "===== [0.52617783 0.53548551 0.52681176] ======\n",
      "Iteration =    9  -- \n",
      "===== [0.52617783 0.53548551 0.52681176] ======\n",
      "Iteration =   10  -- \n",
      "===== [0.52617783 0.53548551 0.52681176] ======\n",
      "Iteration =   11  -- \n",
      "===== [0.52617783 0.53548551 0.52681176] ======\n",
      "Iteration =   12  -- \n",
      "===== [0.52617783 0.53548551 0.52681176] ======\n",
      "Iteration =   13  -- \n",
      "===== [0.52617783 0.53548551 0.52681176] ======\n",
      "Iteration =   14  -- \n",
      "===== [0.52617783 0.53548551 0.52681176] ======\n",
      "Iteration =   15  -- \n",
      "===== [0.52617783 0.53548551 0.52681176] ======\n",
      "Iteration =   16  -- \n",
      "===== [0.52617783 0.53548551 0.52681176] ======\n",
      "Iteration =   17  -- \n",
      "===== [0.52617783 0.53548551 0.52681176] ======\n",
      "Iteration =   18  -- \n",
      "===== [0.52617783 0.53548551 0.52681176] ======\n",
      "Iteration =   19  -- \n",
      "===== [0.52617783 0.53548551 0.52681176] ======\n",
      "Iteration =   20  -- \n",
      "===== [0.52617783 0.53548551 0.52681176] ======\n",
      "Iteration =   21  -- \n",
      "===== [0.52617783 0.53548551 0.52681176] ======\n",
      "Iteration =   22  -- \n",
      "===== [0.52617783 0.53548551 0.52681176] ======\n",
      "Iteration =   23  -- \n",
      "===== [0.52617783 0.53548551 0.52681176] ======\n",
      "Iteration =   24  -- \n",
      "===== [0.52617783 0.53548551 0.52681176] ======\n",
      "Iteration =   25  -- \n",
      "===== [0.52617783 0.53548551 0.52681176] ======\n",
      "Iteration =   26  -- \n",
      "===== [0.52617783 0.53548551 0.52681176] ======\n",
      "Iteration =   27  -- \n",
      "===== [0.52617783 0.53548551 0.52681176] ======\n",
      "Iteration =   28  -- \n",
      "===== [0.52617783 0.53548551 0.52681176] ======\n",
      "Iteration =   29  -- \n",
      "===== [0.52617783 0.53548551 0.52681176] ======\n",
      "Iteration =   30  -- \n",
      "===== [0.52617783 0.53548551 0.52681176] ======\n",
      "Iteration =   31  -- \n",
      "===== [0.52617783 0.53548551 0.52681176] ======\n",
      "Iteration =   32  -- \n",
      "===== [0.52617783 0.53548551 0.52681176] ======\n",
      "Iteration =   33  -- \n",
      "===== [0.52617783 0.53548551 0.52681176] ======\n",
      "Iteration =   34  -- \n",
      "===== [0.52617783 0.53548551 0.52681176] ======\n",
      "Iteration =   35  -- \n",
      "===== [0.52617783 0.53548551 0.52681176] ======\n",
      "Iteration =   36  -- \n",
      "===== [0.52617783 0.53548551 0.52681176] ======\n",
      "Iteration =   37  -- \n",
      "===== [0.52617783 0.53548551 0.52681176] ======\n",
      "Iteration =   38  -- \n",
      "===== [0.52617783 0.53548551 0.52681176] ======\n",
      "Iteration =   39  -- \n",
      "===== [0.52617783 0.53548551 0.52681176] ======\n",
      "Iteration =   40  -- \n",
      "===== [0.52617783 0.53548551 0.52681176] ======\n",
      "Iteration =   41  -- \n",
      "===== [0.52617783 0.53548551 0.52681176] ======\n",
      "Iteration =   42  -- \n",
      "===== [0.52617783 0.53548551 0.52681176] ======\n",
      "Iteration =   43  -- \n",
      "===== [0.52617783 0.53548551 0.52681176] ======\n",
      "Iteration =   44  -- \n",
      "===== [0.52617783 0.53548551 0.52681176] ======\n",
      "Iteration =   45  -- \n",
      "===== [0.52617783 0.53548551 0.52681176] ======\n",
      "Iteration =   46  -- \n",
      "===== [0.52617783 0.53548551 0.52681176] ======\n",
      "Iteration =   47  -- \n",
      "===== [0.52617783 0.53548551 0.52681176] ======\n",
      "Iteration =   48  -- \n",
      "===== [0.52617783 0.53548551 0.52681176] ======\n",
      "Iteration =   49  -- \n",
      "===== [0.52617783 0.53548551 0.52681176] ======\n",
      "==============================\n",
      "Epoch #:6\n",
      "==============================\n",
      "(3, 85)\n",
      "Iteration =    0  -- \n",
      "===== [0.52681176 0.52617783 0.53548551] ======\n",
      "Iteration =    1  -- \n",
      "===== [0.52681176 0.52617783 0.53548551] ======\n",
      "Iteration =    2  -- \n",
      "===== [0.52681176 0.52617783 0.53548551] ======\n",
      "Iteration =    3  -- \n",
      "===== [0.52681176 0.52617783 0.53548551] ======\n",
      "Iteration =    4  -- \n",
      "===== [0.52681176 0.52617783 0.53548551] ======\n",
      "Iteration =    5  -- \n",
      "===== [0.52681176 0.52617783 0.53548551] ======\n",
      "Iteration =    6  -- \n",
      "===== [0.52681176 0.52617783 0.53548551] ======\n",
      "Iteration =    7  -- \n",
      "===== [0.52681176 0.52617783 0.53548551] ======\n",
      "Iteration =    8  -- \n",
      "===== [0.52681176 0.52617783 0.53548551] ======\n",
      "Iteration =    9  -- \n",
      "===== [0.52681176 0.52617783 0.5282964 ] ======\n",
      "Iteration =   10  -- \n",
      "===== [0.52681176 0.52617783 0.5282964 ] ======\n",
      "Iteration =   11  -- \n",
      "===== [0.52681176 0.52617783 0.5282964 ] ======\n",
      "Iteration =   12  -- \n",
      "===== [0.52681176 0.52617783 0.5282964 ] ======\n",
      "Iteration =   13  -- \n",
      "===== [0.52681176 0.52586328 0.5282964 ] ======\n",
      "Iteration =   14  -- \n",
      "===== [0.52681176 0.52586328 0.5282964 ] ======\n",
      "Iteration =   15  -- \n",
      "===== [0.52681176 0.52586328 0.5282964 ] ======\n"
     ]
    },
    {
     "name": "stdout",
     "output_type": "stream",
     "text": [
      "Iteration =   16  -- \n",
      "===== [0.52681176 0.52586328 0.5282964 ] ======\n",
      "Iteration =   17  -- \n",
      "===== [0.52681176 0.52586328 0.5282964 ] ======\n",
      "Iteration =   18  -- \n",
      "===== [0.52681176 0.52586328 0.5282964 ] ======\n",
      "Iteration =   19  -- \n",
      "===== [0.52681176 0.52586328 0.5282964 ] ======\n",
      "Iteration =   20  -- \n",
      "===== [0.52681176 0.52586328 0.5282964 ] ======\n",
      "Iteration =   21  -- \n",
      "===== [0.52681176 0.52586328 0.5282964 ] ======\n",
      "Iteration =   22  -- \n",
      "===== [0.52681176 0.52586328 0.5282964 ] ======\n",
      "Iteration =   23  -- \n",
      "===== [0.52681176 0.52586328 0.5282964 ] ======\n",
      "Iteration =   24  -- \n",
      "===== [0.52681176 0.52586328 0.5282964 ] ======\n",
      "Iteration =   25  -- \n",
      "===== [0.52681176 0.52586328 0.5282964 ] ======\n",
      "Iteration =   26  -- \n",
      "===== [0.52681176 0.52586328 0.5282964 ] ======\n",
      "Iteration =   27  -- \n",
      "===== [0.52681176 0.52586328 0.5282964 ] ======\n",
      "Iteration =   28  -- \n",
      "===== [0.52681176 0.52586328 0.5282964 ] ======\n",
      "Iteration =   29  -- \n",
      "===== [0.52681176 0.52586328 0.5282964 ] ======\n",
      "Iteration =   30  -- \n",
      "===== [0.52681176 0.52586328 0.5282964 ] ======\n",
      "Iteration =   31  -- \n",
      "===== [0.52681176 0.52586328 0.52748562] ======\n",
      "Iteration =   32  -- \n",
      "===== [0.52681176 0.52586328 0.52748562] ======\n",
      "Iteration =   33  -- \n",
      "===== [0.52681176 0.52586328 0.52748562] ======\n",
      "Iteration =   34  -- \n",
      "===== [0.52681176 0.52586328 0.52748562] ======\n",
      "Iteration =   35  -- \n",
      "===== [0.52681176 0.5214405  0.52748562] ======\n",
      "Iteration =   36  -- \n",
      "===== [0.52681176 0.5214405  0.52748562] ======\n",
      "Iteration =   37  -- \n",
      "===== [0.52681176 0.5214405  0.52748562] ======\n",
      "Iteration =   38  -- \n",
      "===== [0.52681176 0.5214405  0.52748562] ======\n",
      "Iteration =   39  -- \n",
      "===== [0.52681176 0.5214405  0.52748562] ======\n",
      "Iteration =   40  -- \n",
      "===== [0.52681176 0.5214405  0.52748562] ======\n",
      "Iteration =   41  -- \n",
      "===== [0.52681176 0.5214405  0.52748562] ======\n",
      "Iteration =   42  -- \n",
      "===== [0.52681176 0.5214405  0.52748562] ======\n",
      "Iteration =   43  -- \n",
      "===== [0.52681176 0.5214405  0.52748562] ======\n",
      "Iteration =   44  -- \n",
      "===== [0.52681176 0.5214405  0.52748562] ======\n",
      "Iteration =   45  -- \n",
      "===== [0.52681176 0.5214405  0.52748562] ======\n",
      "Iteration =   46  -- \n",
      "===== [0.52681176 0.5214405  0.52748562] ======\n",
      "Iteration =   47  -- \n",
      "===== [0.52681176 0.5214405  0.52748562] ======\n",
      "Iteration =   48  -- \n",
      "===== [0.52681176 0.5214405  0.52748562] ======\n",
      "Iteration =   49  -- \n",
      "===== [0.52681176 0.5214405  0.52748562] ======\n",
      "==============================\n",
      "Epoch #:7\n",
      "==============================\n",
      "(3, 85)\n",
      "Iteration =    0  -- \n",
      "===== [0.52696986 0.52681176 0.5214405 ] ======\n",
      "Iteration =    1  -- \n",
      "===== [0.52696986 0.52681176 0.5214405 ] ======\n",
      "Iteration =    2  -- \n",
      "===== [0.52696986 0.52681176 0.5214405 ] ======\n",
      "Iteration =    3  -- \n",
      "===== [0.52696986 0.52681176 0.5214405 ] ======\n",
      "Iteration =    4  -- \n",
      "===== [0.52696986 0.52681176 0.5214405 ] ======\n",
      "Iteration =    5  -- \n",
      "===== [0.52696986 0.52681176 0.5214405 ] ======\n",
      "Iteration =    6  -- \n",
      "===== [0.52696986 0.52681176 0.5214405 ] ======\n",
      "Iteration =    7  -- \n",
      "===== [0.52696986 0.52681176 0.5214405 ] ======\n",
      "Iteration =    8  -- \n",
      "===== [0.52696986 0.52681176 0.5214405 ] ======\n",
      "Iteration =    9  -- \n",
      "===== [0.52088686 0.52681176 0.5214405 ] ======\n",
      "Iteration =   10  -- \n",
      "===== [0.52088686 0.52681176 0.5214405 ] ======\n",
      "Iteration =   11  -- \n",
      "===== [0.52088686 0.52681176 0.5214405 ] ======\n",
      "Iteration =   12  -- \n",
      "===== [0.52088686 0.52681176 0.5214405 ] ======\n",
      "Iteration =   13  -- \n",
      "===== [0.52088686 0.52681176 0.5214405 ] ======\n",
      "Iteration =   14  -- \n",
      "===== [0.52088686 0.52681176 0.5214405 ] ======\n",
      "Iteration =   15  -- \n",
      "===== [0.52088686 0.52681176 0.5214405 ] ======\n",
      "Iteration =   16  -- \n",
      "===== [0.52088686 0.52681176 0.5214405 ] ======\n",
      "Iteration =   17  -- \n",
      "===== [0.52088686 0.52681176 0.5214405 ] ======\n",
      "Iteration =   18  -- \n",
      "===== [0.52088686 0.52681176 0.5214405 ] ======\n",
      "Iteration =   19  -- \n",
      "===== [0.52088686 0.52681176 0.5214405 ] ======\n",
      "Iteration =   20  -- \n",
      "===== [0.52088686 0.52681176 0.5214405 ] ======\n",
      "Iteration =   21  -- \n",
      "===== [0.52088686 0.52681176 0.5214405 ] ======\n",
      "Iteration =   22  -- \n",
      "===== [0.52088686 0.52681176 0.5214405 ] ======\n",
      "Iteration =   23  -- \n",
      "===== [0.52088686 0.52681176 0.5214405 ] ======\n",
      "Iteration =   24  -- \n",
      "===== [0.52088686 0.52681176 0.5214405 ] ======\n",
      "Iteration =   25  -- \n",
      "===== [0.52088686 0.52681176 0.5214405 ] ======\n",
      "Iteration =   26  -- \n",
      "===== [0.52088686 0.52681176 0.5214405 ] ======\n",
      "Iteration =   27  -- \n",
      "===== [0.52088686 0.52681176 0.5214405 ] ======\n",
      "Iteration =   28  -- \n",
      "===== [0.52088686 0.52681176 0.5214405 ] ======\n",
      "Iteration =   29  -- \n",
      "===== [0.52088686 0.52681176 0.5214405 ] ======\n",
      "Iteration =   30  -- \n",
      "===== [0.52088686 0.52681176 0.5214405 ] ======\n",
      "Iteration =   31  -- \n",
      "===== [0.52088686 0.52681176 0.5214405 ] ======\n",
      "Iteration =   32  -- \n",
      "===== [0.52088686 0.52681176 0.5214405 ] ======\n",
      "Iteration =   33  -- \n",
      "===== [0.52088686 0.52681176 0.5214405 ] ======\n",
      "Iteration =   34  -- \n",
      "===== [0.52088686 0.52681176 0.5214405 ] ======\n",
      "Iteration =   35  -- \n",
      "===== [0.52088686 0.52681176 0.5214405 ] ======\n",
      "Iteration =   36  -- \n",
      "===== [0.52088686 0.52681176 0.5214405 ] ======\n",
      "Iteration =   37  -- \n",
      "===== [0.52088686 0.52681176 0.5214405 ] ======\n",
      "Iteration =   38  -- \n",
      "===== [0.52088686 0.52681176 0.5214405 ] ======\n",
      "Iteration =   39  -- \n",
      "===== [0.52088686 0.52681176 0.5214405 ] ======\n",
      "Iteration =   40  -- \n",
      "===== [0.52088686 0.52681176 0.5214405 ] ======\n",
      "Iteration =   41  -- \n",
      "===== [0.52088686 0.52681176 0.5214405 ] ======\n",
      "Iteration =   42  -- \n",
      "===== [0.52088686 0.52681176 0.5214405 ] ======\n",
      "Iteration =   43  -- \n",
      "===== [0.52088686 0.52681176 0.5214405 ] ======\n",
      "Iteration =   44  -- \n",
      "===== [0.52088686 0.52681176 0.5214405 ] ======\n",
      "Iteration =   45  -- \n",
      "===== [0.52088686 0.52681176 0.5214405 ] ======\n",
      "Iteration =   46  -- \n",
      "===== [0.52088686 0.52681176 0.5214405 ] ======\n",
      "Iteration =   47  -- \n",
      "===== [0.52088686 0.52681176 0.5214405 ] ======\n",
      "Iteration =   48  -- \n",
      "===== [0.52088686 0.52681176 0.5214405 ] ======\n",
      "Iteration =   49  -- \n",
      "===== [0.52088686 0.52681176 0.5214405 ] ======\n",
      "==============================\n",
      "Epoch #:8\n",
      "==============================\n",
      "(3, 85)\n",
      "Iteration =    0  -- \n",
      "===== [0.5214405  0.52088686 0.52681176] ======\n",
      "Iteration =    1  -- \n",
      "===== [0.5214405  0.52088686 0.52681176] ======\n",
      "Iteration =    2  -- \n",
      "===== [0.5214405  0.52088686 0.52681176] ======\n",
      "Iteration =    3  -- \n",
      "===== [0.5214405  0.52088686 0.52681176] ======\n",
      "Iteration =    4  -- \n",
      "===== [0.5214405  0.52088686 0.52681176] ======\n",
      "Iteration =    5  -- \n",
      "===== [0.5214405  0.52088686 0.52681176] ======\n",
      "Iteration =    6  -- \n",
      "===== [0.5214405  0.52088686 0.52681176] ======\n",
      "Iteration =    7  -- \n",
      "===== [0.5214405  0.52088686 0.52681176] ======\n",
      "Iteration =    8  -- \n",
      "===== [0.5214405  0.52088686 0.52681176] ======\n",
      "Iteration =    9  -- \n",
      "===== [0.5214405  0.52088686 0.52681176] ======\n",
      "Iteration =   10  -- \n",
      "===== [0.5214405  0.52088686 0.52681176] ======\n",
      "Iteration =   11  -- \n",
      "===== [0.5214405  0.52088686 0.52681176] ======\n",
      "Iteration =   12  -- \n",
      "===== [0.5214405  0.52088686 0.52681176] ======\n",
      "Iteration =   13  -- \n",
      "===== [0.5214405  0.52088686 0.52681176] ======\n",
      "Iteration =   14  -- \n",
      "===== [0.5214405  0.52088686 0.52681176] ======\n",
      "Iteration =   15  -- \n",
      "===== [0.5214405  0.52088686 0.52681176] ======\n",
      "Iteration =   16  -- \n",
      "===== [0.5214405  0.52088686 0.52681176] ======\n",
      "Iteration =   17  -- \n",
      "===== [0.5214405  0.52088686 0.52681176] ======\n",
      "Iteration =   18  -- \n",
      "===== [0.5214405  0.52088686 0.52681176] ======\n",
      "Iteration =   19  -- \n",
      "===== [0.5214405  0.52088686 0.52681176] ======\n",
      "Iteration =   20  -- \n",
      "===== [0.5214405  0.52088686 0.52681176] ======\n",
      "Iteration =   21  -- \n",
      "===== [0.5214405  0.52088686 0.52681176] ======\n",
      "Iteration =   22  -- \n",
      "===== [0.5214405  0.52088686 0.52681176] ======\n",
      "Iteration =   23  -- \n",
      "===== [0.5214405  0.52088686 0.52681176] ======\n",
      "Iteration =   24  -- \n",
      "===== [0.5214405  0.52088686 0.52681176] ======\n",
      "Iteration =   25  -- \n",
      "===== [0.5214405  0.52088686 0.52681176] ======\n",
      "Iteration =   26  -- \n",
      "===== [0.5214405  0.52088686 0.52681176] ======\n",
      "Iteration =   27  -- \n",
      "===== [0.5214405  0.52088686 0.52681176] ======\n",
      "Iteration =   28  -- \n",
      "===== [0.5214405  0.52088686 0.52681176] ======\n",
      "Iteration =   29  -- \n",
      "===== [0.5214405  0.52088686 0.52681176] ======\n",
      "Iteration =   30  -- \n",
      "===== [0.5214405  0.52088686 0.52681176] ======\n"
     ]
    },
    {
     "name": "stdout",
     "output_type": "stream",
     "text": [
      "Iteration =   31  -- \n",
      "===== [0.5214405  0.52088686 0.52681176] ======\n",
      "Iteration =   32  -- \n",
      "===== [0.5214405  0.52088686 0.52681176] ======\n",
      "Iteration =   33  -- \n",
      "===== [0.5214405  0.52088686 0.52681176] ======\n",
      "Iteration =   34  -- \n",
      "===== [0.5214405  0.52088686 0.52681176] ======\n",
      "Iteration =   35  -- \n",
      "===== [0.5214405  0.52088686 0.52681176] ======\n",
      "Iteration =   36  -- \n",
      "===== [0.5214405  0.52088686 0.52681176] ======\n",
      "Iteration =   37  -- \n",
      "===== [0.5214405  0.52088686 0.52681176] ======\n",
      "Iteration =   38  -- \n",
      "===== [0.5214405  0.52088686 0.52681176] ======\n",
      "Iteration =   39  -- \n",
      "===== [0.5214405  0.52088686 0.52681176] ======\n",
      "Iteration =   40  -- \n",
      "===== [0.5214405  0.52088686 0.52681176] ======\n",
      "Iteration =   41  -- \n",
      "===== [0.5214405  0.52088686 0.52681176] ======\n",
      "Iteration =   42  -- \n",
      "===== [0.5214405  0.52088686 0.52681176] ======\n",
      "Iteration =   43  -- \n",
      "===== [0.5214405  0.52088686 0.52681176] ======\n",
      "Iteration =   44  -- \n",
      "===== [0.5214405  0.52088686 0.52681176] ======\n",
      "Iteration =   45  -- \n",
      "===== [0.5214405  0.52088686 0.52681176] ======\n",
      "Iteration =   46  -- \n",
      "===== [0.5214405  0.52088686 0.52681176] ======\n",
      "Iteration =   47  -- \n",
      "===== [0.5214405  0.52088686 0.52681176] ======\n",
      "Iteration =   48  -- \n",
      "===== [0.5214405  0.52088686 0.52681176] ======\n",
      "Iteration =   49  -- \n",
      "===== [0.5214405  0.52088686 0.52681176] ======\n",
      "Num func evals:  155040\n",
      "bid =  [53 60 29] bests =  [array([ 7.46303618, 14.35383854, 12.2879779 , 14.2375363 , 14.14233641,\n",
      "        9.01365613, 25.        , 18.33347369, 96.81997908, 10.        ,\n",
      "       18.10758191, 35.66291297, 53.88483363, 86.5299633 , 15.91302623,\n",
      "       10.        ,  5.80538018]), array([ 5.        , 14.85516308,  9.58543928, 15.10358669, 16.37424293,\n",
      "        8.88020257, 25.        , 19.59135526, 46.92775093, 10.        ,\n",
      "       10.        , 59.54432919, 38.15157469, 79.19672761, 10.        ,\n",
      "       10.        ,  5.91639834]), array([  5.        ,  14.94752757,  14.06537502,  14.30025884,\n",
      "        15.91954404,   7.202401  ,  25.        ,  18.04066298,\n",
      "        35.03810889,  65.63071105,  40.16686134,  33.39136097,\n",
      "        65.67179698, 100.        ,  39.7576105 ,  10.        ,\n",
      "         5.84695114])] bfits =  [0.5214405  0.52088686 0.52681176] history =  [[0.92689076 0.93884842 0.95730414]\n",
      " [0.92689076 0.93884842 0.95730414]\n",
      " [0.90230954 0.93884842 0.95730414]\n",
      " ...\n",
      " [0.5214405  0.52088686 0.52681176]\n",
      " [0.5214405  0.52088686 0.52681176]\n",
      " [0.5214405  0.52088686 0.52681176]]\n",
      "time_taken= 0:01:45.896056\n"
     ]
    }
   ],
   "source": [
    "import datetime\n",
    "t1 = datetime.datetime.now()\n",
    "print(t1)\n",
    "de_nn.de_isl(pred.get_mse3,target,L,U,num_layers_i = 17, num_isles = N_I, num_gens = 8,\n",
    "\t  poplist = population, mut = 0.8, crossp = 0.6, popsize = N_P,\n",
    "\t  its = 200 , lenp = 0.08, lins = 0.06, verbose = 0);\n",
    "t2 = datetime.datetime.now() - t1\n",
    "print('time_taken=',t2)"
   ]
  },
  {
   "cell_type": "code",
   "execution_count": 54,
   "id": "7fcc124c",
   "metadata": {},
   "outputs": [
    {
     "data": {
      "image/png": "[encoded data removed]",
      "text/plain": [
       "<Figure size 432x288 with 1 Axes>"
      ]
     },
     "metadata": {
      "needs_background": "light"
     },
     "output_type": "display_data"
    }
   ],
   "source": [
    "pf1=[]\n",
    "pf2=[]\n",
    "pf3=[]\n",
    "\n",
    "with open (\"Data_bfits.txt\",\"r\") as f:\n",
    "    for line in f:\n",
    "        p=line.split()\n",
    "#         print(p[1])\n",
    "        pf1.append(float(p[1][1:]))\n",
    "        pf2.append(float(p[2][:]))\n",
    "        pf3.append(float(p[3][:-1]))\n",
    "    \n",
    "plt.plot(pf1,label='DE_isl1')\n",
    "plt.plot(pf2,label='DE_isl2')\n",
    "plt.plot(pf3,label='DE_isl3')\n",
    "plt.xlabel('iterations')\n",
    "plt.ylabel('fitness(MSE)')\n",
    "plt.legend()\n",
    "plt.show()"
   ]
  },
  {
   "cell_type": "code",
   "execution_count": 47,
   "id": "b53f7de2",
   "metadata": {},
   "outputs": [
    {
     "name": "stdout",
     "output_type": "stream",
     "text": [
      "[ 18.577  21.277  29.918  12.963  26.073  10.     29.641  23.503  73.305\n",
      "  24.096  46.577  17.402  62.106  48.466  88.395 100.      5.892]\n"
     ]
    }
   ],
   "source": [
    "# best = np.loadtxt('Data_best.txt')\n",
    "# best = best[2999,:]\n",
    "# print(best)"
   ]
  },
  {
   "cell_type": "code",
   "execution_count": 55,
   "id": "3001e1b3",
   "metadata": {},
   "outputs": [],
   "source": [
    "sol = np.array([array([ 7.46303618, 14.35383854, 12.2879779 , 14.2375363 , 14.14233641,\n",
    "        9.01365613, 25.        , 18.33347369, 96.81997908, 10.        ,\n",
    "       18.10758191, 35.66291297, 53.88483363, 86.5299633 , 15.91302623,\n",
    "       10.        ,  5.80538018]), array([ 5.        , 14.85516308,  9.58543928, 15.10358669, 16.37424293,\n",
    "        8.88020257, 25.        , 19.59135526, 46.92775093, 10.        ,\n",
    "       10.        , 59.54432919, 38.15157469, 79.19672761, 10.        ,\n",
    "       10.        ,  5.91639834]), array([  5.        ,  14.94752757,  14.06537502,  14.30025884,\n",
    "        15.91954404,   7.202401  ,  25.        ,  18.04066298,\n",
    "        35.03810889,  65.63071105,  40.16686134,  33.39136097,\n",
    "        65.67179698, 100.        ,  39.7576105 ,  10.        ,\n",
    "         5.84695114])])\n",
    "\n",
    "# solopt = np.array([array([ 17.3515956 ,  14.90611288,  25.13956546,  19.90165911,\n",
    "#         27.24486305,  28.97076149,  21.2508792 ,  13.55396453,\n",
    "#         39.84597655,  93.19549105,  62.67713434, 100.        ,\n",
    "#         47.80938195,  67.41919086,  70.29225585,  20.46916329,\n",
    "#          5.32039107]), array([ 18.48491946,  16.04874451,  25.81219576,  17.20866702,\n",
    "#         28.98425548,  28.81982894,  19.80344775,  12.99084381,\n",
    "#         61.47950577, 100.        ,  74.0670471 ,  88.14141564,\n",
    "#         41.100817  ,  88.45656973,  67.14338269,  26.52991874,\n",
    "#          5.29956596]), array([ 20.44747239,  15.48924396,  27.23915494,  17.06191934,\n",
    "#         30.        ,  30.        ,  22.54158324,  10.59377144,\n",
    "#         74.32638936, 100.        ,  88.44992711,  98.78340052,\n",
    "#         65.75912886,  76.01650904,  81.62337645,  34.60995023,\n",
    "#          5.22021075])])\n",
    "\n",
    "# sol24optimum = np.array([array([10.33515377, 17.08185976, 21.77063437, 28.94121245, 16.10025555,\n",
    "#        17.32437103, 25.86534132, 10.        , 35.46881045, 44.41356613,\n",
    "#        97.54721006, 30.22488098, 10.88376268, 27.90454718, 10.        ,\n",
    "#        10.        ,  5.60172158]), array([10.01174425, 17.08929798, 22.28243902, 28.51467249, 15.41956138,\n",
    "#        17.71300651, 25.04835951, 10.        , 30.06779408, 41.38546592,\n",
    "#        97.73241265, 26.9145646 , 12.49010717, 22.75788486, 10.23294989,\n",
    "#        10.67860945,  5.65561008]), array([10.2990856 , 16.9337446 , 22.61721395, 29.06342086, 14.77065583,\n",
    "#        17.15346828, 25.86174664, 10.        , 41.35411273, 53.47209214,\n",
    "#        98.60433121, 26.05378626, 10.26620964, 29.93981886, 10.29507993,\n",
    "#        23.13564845,  5.83560914])])\n"
   ]
  },
  {
   "cell_type": "code",
   "execution_count": 56,
   "id": "bb526577",
   "metadata": {},
   "outputs": [
    {
     "name": "stdout",
     "output_type": "stream",
     "text": [
      "[[  7.46303618  14.35383854  12.2879779   14.2375363   14.14233641\n",
      "    9.01365613  25.          18.33347369  96.81997908  10.\n",
      "   18.10758191  35.66291297  53.88483363  86.5299633   15.91302623\n",
      "   10.           5.80538018]\n",
      " [  5.          14.85516308   9.58543928  15.10358669  16.37424293\n",
      "    8.88020257  25.          19.59135526  46.92775093  10.\n",
      "   10.          59.54432919  38.15157469  79.19672761  10.\n",
      "   10.           5.91639834]\n",
      " [  5.          14.94752757  14.06537502  14.30025884  15.91954404\n",
      "    7.202401    25.          18.04066298  35.03810889  65.63071105\n",
      "   40.16686134  33.39136097  65.67179698 100.          39.7576105\n",
      "   10.           5.84695114]]\n"
     ]
    }
   ],
   "source": [
    "sol = np.reshape(sol,(3,17))\n",
    "print(sol)"
   ]
  },
  {
   "cell_type": "code",
   "execution_count": 57,
   "id": "b816fca1",
   "metadata": {},
   "outputs": [
    {
     "data": {
      "text/plain": [
       "(3, 41856)"
      ]
     },
     "execution_count": 57,
     "metadata": {},
     "output_type": "execute_result"
    }
   ],
   "source": [
    "y=pred.prediction(sol)\n",
    "np.shape(y)"
   ]
  },
  {
   "cell_type": "code",
   "execution_count": 58,
   "id": "1721c5dd",
   "metadata": {},
   "outputs": [
    {
     "data": {
      "image/png": "[encoded data removed]",
      "text/plain": [
       "<Figure size 432x288 with 1 Axes>"
      ]
     },
     "metadata": {
      "needs_background": "light"
     },
     "output_type": "display_data"
    },
    {
     "name": "stderr",
     "output_type": "stream",
     "text": [
      "/tmp/ipykernel_25450/3958453588.py:28: RuntimeWarning: invalid value encountered in log\n",
      "  ax2.imshow(10*log(patternD))\n"
     ]
    },
    {
     "data": {
      "image/png": "[encoded data removed]",
      "text/plain": [
       "<Figure size 432x288 with 2 Axes>"
      ]
     },
     "metadata": {
      "needs_background": "light"
     },
     "output_type": "display_data"
    },
    {
     "data": {
      "image/png": "[encoded data removed]",
      "text/plain": [
       "<Figure size 432x288 with 1 Axes>"
      ]
     },
     "metadata": {
      "needs_background": "light"
     },
     "output_type": "display_data"
    }
   ],
   "source": [
    "freq =np.linspace(2e9,3e9,128)\n",
    "y1=y[:,0:41600]\n",
    "y2=y[:,41600:41728]\n",
    "y3=y[:,41728:41856]\n",
    "\n",
    "# y2_te = np.reshape(target1,(1,13,25,128))\n",
    "# y2_te=np.swapaxes(y2_te,1,3)\n",
    "y1_te=np.reshape(y1,(3,13,25,128))\n",
    "y1_te=np.swapaxes(y1_te,1,3)\n",
    "tgt = np.reshape(target1,(1,128,25,13))\n",
    "\n",
    "plt.plot(freq,10*log(target2),label='target',color ='black',ls ='--')\n",
    "# plt.plot(freq,10*log(y2[0]),label='DE_pred_isl1')\n",
    "# plt.plot(freq,10*log(y2[1]),label='DE_pred_isl2')\n",
    "plt.plot(freq,10*log(y2[2]),label='DE_pred_isl3')\n",
    "plt.title('S11(dB)')\n",
    "plt.legend()\n",
    "# plt.ylim(0,1)\n",
    "plt.show()\n",
    "\n",
    "ff=52\n",
    "patternt = tgt[0,52,:,:]\n",
    "patternD=y1_te[0,52,:,:]\n",
    "fig,(ax1,ax2) = plt.subplots(1,2)\n",
    "\n",
    "ax1.imshow(patternt)\n",
    "ax1.set_title('tgt_pattern')\n",
    "ax2.imshow(10*log(patternD))\n",
    "ax2.set_title('Dnn_Pattern')\n",
    "plt.show()\n",
    "\n",
    "\n",
    "#Imp 1D plot\n",
    "plt.plot(freq,y3[0],label='DE_pred-isl1')\n",
    "plt.plot(freq,y3[1],label='DE_pred-isl2')\n",
    "plt.plot(freq,y3[2],label='DE_pred-isl3')\n",
    "plt.plot(freq,target3,label='target',color ='black',ls ='--')\n",
    "plt.title('Zo in ohms')\n",
    "plt.legend()\n",
    "# plt.ylim(0,1)\n",
    "plt.show()"
   ]
  },
  {
   "cell_type": "code",
   "execution_count": 16,
   "id": "76f05a0e",
   "metadata": {},
   "outputs": [
    {
     "data": {
      "text/plain": [
       "2.058249"
      ]
     },
     "execution_count": 16,
     "metadata": {},
     "output_type": "execute_result"
    }
   ],
   "source": [
    "np.max(y1)"
   ]
  },
  {
   "cell_type": "code",
   "execution_count": 85,
   "id": "fb64041d",
   "metadata": {},
   "outputs": [],
   "source": [
    "# pattern1=y1_te[0,53,:,:]\n",
    "# rr = np.random.randint(0,13)\n",
    "# print(rr)\n",
    "# phi = np.linspace(0, 2*np.pi, 25)\n",
    "# plt.polar(phi, pattern1[:,rr])\n",
    "# ax = plt.gca()\n",
    "# ax.set_rticks([-10,-5, 0, 5, 10])\n",
    "# ax.set_rlabel_position(75)\n",
    "# plt.show()\n",
    "\n",
    "# pat1=np.transpose(pattern1)\n",
    "# phi = np.linspace(0, 2*np.pi,13)\n",
    "# plt.polar(phi, pat1[:,rr])\n",
    "# ax = plt.gca()\n",
    "# ax.set_rticks([-10,-5, 0, 5, 10])\n",
    "# ax.set_rlabel_position(75)\n",
    "# plt.show()"
   ]
  },
  {
   "cell_type": "code",
   "execution_count": 13,
   "id": "785648bd",
   "metadata": {},
   "outputs": [
    {
     "name": "stderr",
     "output_type": "stream",
     "text": [
      "/tmp/ipykernel_87407/1904733857.py:4: RuntimeWarning: invalid value encountered in log\n",
      "  plt.plot(freq,10*log(y[2][41600:41728]),label='isl_3')\n",
      "/tmp/ipykernel_87407/1904733857.py:5: RuntimeWarning: invalid value encountered in log\n",
      "  plt.plot(freq,10*log(y[0][41600:41728]),label='isl_1')\n",
      "/tmp/ipykernel_87407/1904733857.py:6: RuntimeWarning: invalid value encountered in log\n",
      "  plt.plot(freq,10*log(y[1][41600:41728]),label='isl_2')\n"
     ]
    },
    {
     "data": {
      "image/png": "[encoded data removed]",
      "text/plain": [
       "<Figure size 432x288 with 1 Axes>"
      ]
     },
     "metadata": {
      "needs_background": "light"
     },
     "output_type": "display_data"
    }
   ],
   "source": [
    "freq = np.linspace(2e9,3e9,128)\n",
    "# plt.plot(freq,10*log(y[0]),label='isl_1')\n",
    "# plt.plot(freq,10*log(y[1]),label='isl_2')\n",
    "plt.plot(freq,10*log(y[2][41600:41728]),label='isl_3')\n",
    "plt.plot(freq,10*log(y[0][41600:41728]),label='isl_1')\n",
    "plt.plot(freq,10*log(y[1][41600:41728]),label='isl_2')\n",
    "# plt.plot(freq,(target),label='target')\n",
    "plt.xlabel('freq(GHz)')\n",
    "plt.ylabel('S11')\n",
    "plt.legend()\n",
    "plt.show()"
   ]
  },
  {
   "cell_type": "code",
   "execution_count": 17,
   "id": "edc90d3c",
   "metadata": {},
   "outputs": [
    {
     "name": "stdout",
     "output_type": "stream",
     "text": [
      "[ 0.0100136   0.01291179 -0.00410719 -0.02251433 -0.0249047  -0.01258224\n",
      "  0.00058877  0.0069267   0.0100136 ] [ 0.00488889  0.01276754  0.02466031  0.0108676  -0.00218082 -0.02160295\n",
      " -0.00496521 -0.00570843  0.00488889]\n"
     ]
    }
   ],
   "source": [
    "xy=pred2.polar_to_cartesian(sol)\n",
    "# print(xy)\n",
    "xy.shape\n",
    "X=xy[:,0:8]\n",
    "X = np.append(X[2,:],X[2,0])\n",
    "Y = xy[:,8:16]\n",
    "Y = np.append(Y[2,:],Y[2,0])\n",
    "print(X,Y)"
   ]
  },
  {
   "cell_type": "code",
   "execution_count": 18,
   "id": "49e9a4ec",
   "metadata": {},
   "outputs": [],
   "source": [
    "np.savetxt('X_2.8.txt',X,fmt='%5.5f', delimiter = '\\t')\n",
    "np.savetxt('Y_2.8.txt',Y,fmt='%5.5f', delimiter = '\\t')"
   ]
  },
  {
   "cell_type": "code",
   "execution_count": 19,
   "id": "52178267",
   "metadata": {},
   "outputs": [
    {
     "name": "stdout",
     "output_type": "stream",
     "text": [
      "Starting parallel pool (parpool) using the 'Processes' profile ...\n",
      "Connected to parallel pool with 8 workers.\n",
      "Elapsed time is 151.035489 seconds.\n"
     ]
    }
   ],
   "source": [
    "eng = matlab.engine.start_matlab()\n",
    "eng.ant128_trial(nargout=0)\n",
    "eng.quit()"
   ]
  },
  {
   "cell_type": "code",
   "execution_count": 20,
   "id": "5d43287a",
   "metadata": {},
   "outputs": [
    {
     "data": {
      "text/plain": [
       "(41600,)"
      ]
     },
     "execution_count": 20,
     "metadata": {},
     "output_type": "execute_result"
    }
   ],
   "source": [
    "patt1 = np.loadtxt('ant128patt_2.8.txt',delimiter=',')\n",
    "# patt2 = np.loadtxt('ant128patt_2trial.txt',delimiter=',')\n",
    "s11 = np.loadtxt('ant128S11_2.8.txt',delimiter=',')\n",
    "# s12 = np.loadtxt('ant128S11_2trial2.4.txt',delimiter=',')\n",
    "imp = np.loadtxt('ant128imp_2.8.txt',delimiter=',')\n",
    "# imp2 = np.loadtxt('ant128imp_2trial.txt',delimiter=',')\n",
    "zo = imp[0:128]\n",
    "# Zo = imp2[0:128]\n",
    "io = imp[128:256]\n",
    "patt1.shape"
   ]
  },
  {
   "cell_type": "code",
   "execution_count": 21,
   "id": "e65a4347",
   "metadata": {},
   "outputs": [
    {
     "data": {
      "text/plain": [
       "2.0509662278139613"
      ]
     },
     "execution_count": 21,
     "metadata": {},
     "output_type": "execute_result"
    }
   ],
   "source": [
    "patt=patt1/10\n",
    "pat=10**patt\n",
    "patt=np.reshape(pat,(1,13,25,128))\n",
    "pat=np.swapaxes(patt,1,3)\n",
    "patternM = pat[0,52,:,:]\n",
    "np.max(patternM)"
   ]
  },
  {
   "cell_type": "code",
   "execution_count": 22,
   "id": "0648ce2c",
   "metadata": {
    "scrolled": false
   },
   "outputs": [
    {
     "name": "stderr",
     "output_type": "stream",
     "text": [
      "/tmp/ipykernel_87407/3680134240.py:5: RuntimeWarning: invalid value encountered in log\n",
      "  plt.plot(freq,10*log(y2[0]),label='S11 NN_predicted',linewidth=4,color = 'royalblue')\n"
     ]
    },
    {
     "data": {
      "image/png": "[encoded data removed]",
      "text/plain": [
       "<Figure size 432x288 with 1 Axes>"
      ]
     },
     "metadata": {
      "needs_background": "light"
     },
     "output_type": "display_data"
    },
    {
     "data": {
      "image/png": "[encoded data removed]",
      "text/plain": [
       "<Figure size 432x288 with 1 Axes>"
      ]
     },
     "metadata": {
      "needs_background": "light"
     },
     "output_type": "display_data"
    },
    {
     "data": {
      "image/png": "[encoded data removed]",
      "text/plain": [
       "<Figure size 432x288 with 3 Axes>"
      ]
     },
     "metadata": {
      "needs_background": "light"
     },
     "output_type": "display_data"
    }
   ],
   "source": [
    "freq = np.linspace(2,3,128)\n",
    "# plt.figure(figsize = (11, 8),dpi =300)\n",
    "\n",
    "plt.plot(freq,10*log(target2),label='target_S11',linewidth=4,color = 'black',ls='--')\n",
    "plt.plot(freq,10*log(y2[0]),label='S11 NN_predicted',linewidth=4,color = 'royalblue')\n",
    "plt.plot(freq,s11,label='S11 EM_simulated',linewidth=4,color = 'deeppink')\n",
    "# p=a+b+c\n",
    "plt.xticks(fontsize=10)\n",
    "plt.yticks(fontsize=10)\n",
    "plt.xlabel('Frequency (GHz)',fontsize=15)\n",
    "plt.ylabel('|S11| (dB)',fontsize=15)\n",
    "plt.xlim(2,3)\n",
    "# plt.title('S11 of optimal design @2.4GHz',fontsize=30)\n",
    "# plt.legend(fontsize=23)\n",
    "plt.show()\n",
    "\n",
    "\n",
    "\n",
    "# plt.figure(figsize = (11, 8),dpi=300)\n",
    "plt.plot(freq,target3,label='target Z',linewidth=4,color = 'black',ls='--')\n",
    "plt.plot(freq,y3[0],label='NN_predicted Z',linewidth=4,color = 'royalblue')\n",
    "plt.plot(freq,zo,label='EM_simulated Z',linewidth=4,color = 'deeppink')\n",
    "# plt.plot(freq,Zo,label='Z0_matlab')\n",
    "# plt.plot(freq,io,label='EM_simulated I',linewidth=3,color = 'maroon')\n",
    "plt.xticks(fontsize=10)\n",
    "plt.yticks(fontsize=10)\n",
    "plt.xlabel('Frequency (GHz)',fontsize=15)\n",
    "plt.ylabel('Zo (ohms)',fontsize=15)\n",
    "plt.xlim(2,3)\n",
    "# plt.title('Impedance of optimal design @2.4GHz',fontsize=30)\n",
    "# plt.legend(fontsize=23)\n",
    "plt.show()\n",
    "\n",
    "fig,(ax1,ax2,ax3) = plt.subplots(1,3)\n",
    "ax1.imshow(patternt)\n",
    "ax1.set_title('tgt_Pattern')\n",
    "ax2.imshow(patternD)\n",
    "ax2.set_title('DNN_pattern')\n",
    "ax3.imshow(patternM)\n",
    "ax3.set_title('Matlab_Pattern')\n",
    "fig.show()"
   ]
  },
  {
   "cell_type": "code",
   "execution_count": 32,
   "id": "d7804e23",
   "metadata": {},
   "outputs": [
    {
     "name": "stdout",
     "output_type": "stream",
     "text": [
      "13.608091219447127 7.04246 6.738731116005199\n"
     ]
    }
   ],
   "source": [
    "patt=10*log(patternt)\n",
    "patD=10*log(patternD)\n",
    "patM=10*log(patternM)\n",
    "print(np.max(patt),np.max(patD),np.max(patM))"
   ]
  },
  {
   "cell_type": "code",
   "execution_count": 33,
   "id": "bc3caba8",
   "metadata": {},
   "outputs": [
    {
     "data": {
      "text/plain": [
       "(25,)"
      ]
     },
     "execution_count": 33,
     "metadata": {},
     "output_type": "execute_result"
    }
   ],
   "source": [
    "aa = patt[13]\n",
    "bb = np.flip(aa)\n",
    "cc = np.append(aa,bb[1:])\n",
    "xx = patD[13]\n",
    "yy = np.flip(xx)\n",
    "zz = np.append(xx,yy[1:])\n",
    "pp = patM[13]\n",
    "rr = np.flip(pp)\n",
    "ss = np.append(pp,rr[1:])\n",
    "np.shape(ss)"
   ]
  },
  {
   "cell_type": "code",
   "execution_count": 53,
   "id": "9742348c",
   "metadata": {},
   "outputs": [],
   "source": [
    "# patt_tgt = np.loadtxt('ant128patt_tgt.txt',delimiter=',')\n",
    "# pat=np.reshape(patt_tgt,(1,13,25,128))\n",
    "# pat=np.swapaxes(pat,1,3)\n",
    "# pattern2 = pat[0,52,:,:]\n",
    "# pattern2.shape"
   ]
  },
  {
   "cell_type": "code",
   "execution_count": 34,
   "id": "2fd2cc96",
   "metadata": {
    "scrolled": false
   },
   "outputs": [
    {
     "data": {
      "image/png": "[encoded data removed]",
      "text/plain": [
       "<Figure size 432x288 with 1 Axes>"
      ]
     },
     "metadata": {
      "needs_background": "light"
     },
     "output_type": "display_data"
    },
    {
     "data": {
      "image/png": "[encoded data removed]",
      "text/plain": [
       "<Figure size 432x288 with 1 Axes>"
      ]
     },
     "metadata": {
      "needs_background": "light"
     },
     "output_type": "display_data"
    }
   ],
   "source": [
    "phi = np.linspace(0, 2*np.pi, 25)\n",
    "# plt.figure(figsize = (11, 8),dpi =300)\n",
    "plt.polar(phi, patt[:,12],label='target(az)',linewidth=4,color = 'black',ls='--' )\n",
    "plt.polar(phi, patD[:,12],label='DNN',linewidth=4,color = 'royalblue' )\n",
    "plt.polar(phi, patM[:,12],label='Matlab',linewidth=4,color = 'deeppink' )\n",
    "ax = plt.gca()\n",
    "# ax.set_rticks([-3,0,3,5,10])\n",
    "ax.set_rlabel_position(180)\n",
    "# plt.legend()\n",
    "plt.show()\n",
    "phi = np.linspace(0, 2*np.pi, 25)\n",
    "# # plt.figure(figsize = (11, 8),dpi =300)\n",
    "plt.polar(phi, cc,label='target(el)',linewidth=4,color = 'black',ls='--' )\n",
    "plt.polar(phi, zz,label='DNN',linewidth=3,color = 'royalblue' )\n",
    "plt.polar(phi, ss,label='Matlab',linewidth=4,color = 'deeppink' )\n",
    "# # \n",
    "ax = plt.gca()\n",
    "# ax.set_rticks([-3,0,3,5,10])\n",
    "ax.set_rlabel_position(180)\n",
    "# plt.legend()\n",
    "plt.show()"
   ]
  },
  {
   "cell_type": "code",
   "execution_count": 49,
   "id": "ff55a090",
   "metadata": {},
   "outputs": [
    {
     "name": "stderr",
     "output_type": "stream",
     "text": [
      "No artists with labels found to put in legend.  Note that artists whose label start with an underscore are ignored when legend() is called with no argument.\n"
     ]
    },
    {
     "name": "stdout",
     "output_type": "stream",
     "text": [
      "17 7\n"
     ]
    },
    {
     "data": {
      "image/png": "[encoded data removed]",
      "text/plain": [
       "<Figure size 432x288 with 1 Axes>"
      ]
     },
     "metadata": {
      "needs_background": "light"
     },
     "output_type": "display_data"
    }
   ],
   "source": [
    "rr = np.random.randint(0,25)\n",
    "ff = np.random.randint(0,13)\n",
    "print(rr,ff)\n",
    "plt.plot(freq,patt[0,:,0,12],linewidth=2)\n",
    "# plt.ylim(0,1)\n",
    "plt.legend()\n",
    "plt.show()"
   ]
  },
  {
   "cell_type": "code",
   "execution_count": 50,
   "id": "220d0918",
   "metadata": {},
   "outputs": [
    {
     "name": "stdout",
     "output_type": "stream",
     "text": [
      "11\n"
     ]
    },
    {
     "data": {
      "image/png": "[encoded data removed]",
      "text/plain": [
       "<Figure size 432x288 with 1 Axes>"
      ]
     },
     "metadata": {
      "needs_background": "light"
     },
     "output_type": "display_data"
    },
    {
     "ename": "NameError",
     "evalue": "name 'pat_mat' is not defined",
     "output_type": "error",
     "traceback": [
      "\u001b[0;31m---------------------------------------------------------------------------\u001b[0m",
      "\u001b[0;31mNameError\u001b[0m                                 Traceback (most recent call last)",
      "\u001b[0;32m/tmp/ipykernel_663032/2458559670.py\u001b[0m in \u001b[0;36m<module>\u001b[0;34m\u001b[0m\n\u001b[1;32m      9\u001b[0m \u001b[0;34m\u001b[0m\u001b[0m\n\u001b[1;32m     10\u001b[0m \u001b[0mphi\u001b[0m \u001b[0;34m=\u001b[0m \u001b[0mnp\u001b[0m\u001b[0;34m.\u001b[0m\u001b[0mlinspace\u001b[0m\u001b[0;34m(\u001b[0m\u001b[0;36m0\u001b[0m\u001b[0;34m,\u001b[0m \u001b[0;36m2\u001b[0m\u001b[0;34m*\u001b[0m\u001b[0mnp\u001b[0m\u001b[0;34m.\u001b[0m\u001b[0mpi\u001b[0m\u001b[0;34m,\u001b[0m \u001b[0;36m25\u001b[0m\u001b[0;34m)\u001b[0m\u001b[0;34m\u001b[0m\u001b[0;34m\u001b[0m\u001b[0m\n\u001b[0;32m---> 11\u001b[0;31m \u001b[0mplt\u001b[0m\u001b[0;34m.\u001b[0m\u001b[0mpolar\u001b[0m\u001b[0;34m(\u001b[0m\u001b[0mphi\u001b[0m\u001b[0;34m,\u001b[0m \u001b[0mpat_mat\u001b[0m\u001b[0;34m[\u001b[0m\u001b[0;34m:\u001b[0m\u001b[0;34m,\u001b[0m\u001b[0mrr\u001b[0m\u001b[0;34m]\u001b[0m\u001b[0;34m)\u001b[0m\u001b[0;34m\u001b[0m\u001b[0;34m\u001b[0m\u001b[0m\n\u001b[0m\u001b[1;32m     12\u001b[0m \u001b[0max\u001b[0m \u001b[0;34m=\u001b[0m \u001b[0mplt\u001b[0m\u001b[0;34m.\u001b[0m\u001b[0mgca\u001b[0m\u001b[0;34m(\u001b[0m\u001b[0;34m)\u001b[0m\u001b[0;34m\u001b[0m\u001b[0;34m\u001b[0m\u001b[0m\n\u001b[1;32m     13\u001b[0m \u001b[0max\u001b[0m\u001b[0;34m.\u001b[0m\u001b[0mset_rticks\u001b[0m\u001b[0;34m(\u001b[0m\u001b[0;34m[\u001b[0m\u001b[0;34m-\u001b[0m\u001b[0;36m10\u001b[0m\u001b[0;34m,\u001b[0m\u001b[0;34m-\u001b[0m\u001b[0;36m5\u001b[0m\u001b[0;34m,\u001b[0m \u001b[0;36m0\u001b[0m\u001b[0;34m,\u001b[0m \u001b[0;36m5\u001b[0m\u001b[0;34m,\u001b[0m \u001b[0;36m10\u001b[0m\u001b[0;34m]\u001b[0m\u001b[0;34m)\u001b[0m\u001b[0;34m\u001b[0m\u001b[0;34m\u001b[0m\u001b[0m\n",
      "\u001b[0;31mNameError\u001b[0m: name 'pat_mat' is not defined"
     ]
    }
   ],
   "source": [
    "rr = np.random.randint(0,13)\n",
    "print(rr)\n",
    "phi = np.linspace(0, 2*np.pi, 25)\n",
    "plt.polar(phi, pattern1[:,rr])\n",
    "ax = plt.gca()\n",
    "ax.set_rticks([-10,-5, 0, 5, 10])\n",
    "ax.set_rlabel_position(75)\n",
    "plt.show()\n",
    "\n",
    "phi = np.linspace(0, 2*np.pi, 25)\n",
    "plt.polar(phi, pat_mat[:,rr])\n",
    "ax = plt.gca()\n",
    "ax.set_rticks([-10,-5, 0, 5, 10])\n",
    "ax.set_rlabel_position(75)\n",
    "plt.show()"
   ]
  },
  {
   "cell_type": "code",
   "execution_count": 2,
   "id": "fb2ac31a",
   "metadata": {},
   "outputs": [
    {
     "name": "stdout",
     "output_type": "stream",
     "text": [
      "3.32733887375688\n"
     ]
    }
   ],
   "source": [
    "patt2 = np.loadtxt('ant128patt_2trial.txt',delimiter=',')\n",
    "patt = np.reshape(patt2,(1,13,25,128))\n",
    "patt=np.swapaxes(patt,1,3)\n",
    "print(np.max(patt2))"
   ]
  },
  {
   "cell_type": "code",
   "execution_count": 3,
   "id": "b9fa0dab",
   "metadata": {},
   "outputs": [
    {
     "name": "stdout",
     "output_type": "stream",
     "text": [
      "1.27915575072376 (1, 128, 25, 13)\n"
     ]
    }
   ],
   "source": [
    "patt3 = np.loadtxt('ant128patt_trial.txt',delimiter=',')\n",
    "patt3 = np.reshape(patt3,(1,13,25,128))\n",
    "patt4=np.swapaxes(patt3,1,3)\n",
    "print(np.max(patt4),np.shape(patt4))\n"
   ]
  },
  {
   "cell_type": "code",
   "execution_count": 4,
   "id": "eaf2c08f",
   "metadata": {},
   "outputs": [
    {
     "data": {
      "image/png": "[encoded data removed]",
      "text/plain": [
       "<Figure size 432x288 with 1 Axes>"
      ]
     },
     "metadata": {
      "needs_background": "light"
     },
     "output_type": "display_data"
    },
    {
     "data": {
      "image/png": "[encoded data removed]",
      "text/plain": [
       "<Figure size 432x288 with 1 Axes>"
      ]
     },
     "metadata": {
      "needs_background": "light"
     },
     "output_type": "display_data"
    }
   ],
   "source": [
    "pat_mat = patt[0,52,:,:]\n",
    "plt.figure\n",
    "plt.imshow(pat_mat)\n",
    "plt.title('Pattern_tgt')\n",
    "plt.show()\n",
    "pat_3 = patt4[0,52,:,:]\n",
    "plt.figure\n",
    "plt.imshow(pat_3)\n",
    "plt.title('Pattern_DE')\n",
    "plt.show()"
   ]
  },
  {
   "cell_type": "code",
   "execution_count": 5,
   "id": "5d0f418b",
   "metadata": {},
   "outputs": [
    {
     "name": "stdout",
     "output_type": "stream",
     "text": [
      "[-11.74365432 -14.38173218 -20.9656087  -24.38539135 -15.24464669\n",
      " -10.61961579  -7.4011765   -4.71295081  -2.31392122  -0.21476069\n",
      "   1.47665329   2.63715908   3.17211806] \n",
      " [  3.17211806   2.63715908   1.47665329  -0.21476069  -2.31392122\n",
      "  -4.71295081  -7.4011765  -10.61961579 -15.24464669 -24.38539135\n",
      " -20.9656087  -14.38173218 -11.74365432] \n",
      " [-11.74365432 -14.38173218 -20.9656087  -24.38539135 -15.24464669\n",
      " -10.61961579  -7.4011765   -4.71295081  -2.31392122  -0.21476069\n",
      "   1.47665329   2.63715908   3.17211806   3.17211806   2.63715908\n",
      "   1.47665329  -0.21476069  -2.31392122  -4.71295081  -7.4011765\n",
      " -10.61961579 -15.24464669 -24.38539135 -20.9656087  -14.38173218\n",
      " -11.74365432] \n",
      " [-14.94506314 -16.79587511 -20.61259821 -22.69343008 -18.15906862\n",
      " -13.82305305 -10.28585842  -7.20160618  -4.50770391  -2.25464627\n",
      "  -0.51659127   0.63670964   1.15563926] \n",
      " [  1.15563926   0.63670964  -0.51659127  -2.25464627  -4.50770391\n",
      "  -7.20160618 -10.28585842 -13.82305305 -18.15906862 -22.69343008\n",
      " -20.61259821 -16.79587511 -14.94506314] \n",
      " [-14.94506314 -16.79587511 -20.61259821 -22.69343008 -18.15906862\n",
      " -13.82305305 -10.28585842  -7.20160618  -4.50770391  -2.25464627\n",
      "  -0.51659127   0.63670964   1.15563926   1.15563926   0.63670964\n",
      "  -0.51659127  -2.25464627  -4.50770391  -7.20160618 -10.28585842\n",
      " -13.82305305 -18.15906862 -22.69343008 -20.61259821 -16.79587511\n",
      " -14.94506314]\n"
     ]
    }
   ],
   "source": [
    "np.shape(pat_mat[13,:])\n",
    "\n",
    "aa = pat_mat[13]\n",
    "xx = pat_3[13]\n",
    "yy = np.flip(xx)\n",
    "zz = np.append(xx,yy)\n",
    "bb = np.flip(aa)\n",
    "cc = np.append(aa,bb)\n",
    "print(aa, '\\n', bb, '\\n', cc,'\\n', xx, '\\n', yy, '\\n', zz )\n"
   ]
  },
  {
   "cell_type": "code",
   "execution_count": 12,
   "id": "6a342b88",
   "metadata": {},
   "outputs": [
    {
     "data": {
      "image/png": "[encoded data removed]",
      "text/plain": [
       "<Figure size 432x288 with 1 Axes>"
      ]
     },
     "metadata": {
      "needs_background": "light"
     },
     "output_type": "display_data"
    },
    {
     "data": {
      "image/png": "[encoded data removed]",
      "text/plain": [
       "<Figure size 432x288 with 1 Axes>"
      ]
     },
     "metadata": {
      "needs_background": "light"
     },
     "output_type": "display_data"
    }
   ],
   "source": [
    "phi = np.linspace(0, 2*np.pi, 25)\n",
    "plt.polar(phi, pat_mat[:,12],label='target pattern_az',linewidth=3,color = 'black',ls='--' )\n",
    "plt.polar(phi, pat_3[:,12],label='opt.design_pattern_az',linewidth=3,color = 'darkviolet')\n",
    "ax = plt.gca()\n",
    "ax.set_rticks([-6,-3, 0, 3, 6])\n",
    "ax.set_rlabel_position(75)\n",
    "plt.legend(fontsize=8)\n",
    "plt.show()\n",
    "# pat2=np.transpose(pat_mat)\n",
    "phi = np.linspace(0, 2*np.pi,26)\n",
    "plt.polar(phi, cc,linewidth=3,label='target pattern_el',color = 'green',)\n",
    "# plt.polar(phi,  zz,label='opt. design_pattern_el',linewidth=4,color = 'darkviolet')\n",
    "ax = plt.gca()\n",
    "ax.set_rticks([-10, -5, 0])\n",
    "ax.set_rlabel_position(180)\n",
    "# plt.legend(fontsize=8)\n",
    "plt.show()"
   ]
  },
  {
   "cell_type": "code",
   "execution_count": 24,
   "id": "d7815de9",
   "metadata": {},
   "outputs": [
    {
     "data": {
      "text/plain": [
       "(25, 13)"
      ]
     },
     "execution_count": 24,
     "metadata": {},
     "output_type": "execute_result"
    }
   ],
   "source": [
    "aaa = np.tile(aa, (25,1))\n",
    "np.shape(aaa)"
   ]
  },
  {
   "cell_type": "code",
   "execution_count": 25,
   "id": "01ed42ff",
   "metadata": {},
   "outputs": [
    {
     "data": {
      "text/plain": [
       "<matplotlib.image.AxesImage at 0x7f56ac536550>"
      ]
     },
     "execution_count": 25,
     "metadata": {},
     "output_type": "execute_result"
    },
    {
     "data": {
      "image/png": "[encoded data removed]",
      "text/plain": [
       "<Figure size 432x288 with 1 Axes>"
      ]
     },
     "metadata": {
      "needs_background": "light"
     },
     "output_type": "display_data"
    }
   ],
   "source": [
    "plt.imshow(aaa)"
   ]
  },
  {
   "cell_type": "code",
   "execution_count": 5,
   "id": "07d23c43",
   "metadata": {},
   "outputs": [
    {
     "data": {
      "image/png": "[encoded data removed]",
      "text/plain": [
       "<Figure size 432x288 with 1 Axes>"
      ]
     },
     "metadata": {
      "needs_background": "light"
     },
     "output_type": "display_data"
    },
    {
     "ename": "NameError",
     "evalue": "name 'cc' is not defined",
     "output_type": "error",
     "traceback": [
      "\u001b[0;31m---------------------------------------------------------------------------\u001b[0m",
      "\u001b[0;31mNameError\u001b[0m                                 Traceback (most recent call last)",
      "\u001b[0;32m/tmp/ipykernel_19996/3828117996.py\u001b[0m in \u001b[0;36m<module>\u001b[0;34m\u001b[0m\n\u001b[1;32m      7\u001b[0m \u001b[0;31m# pat2=np.transpose(pat_mat)\u001b[0m\u001b[0;34m\u001b[0m\u001b[0;34m\u001b[0m\u001b[0m\n\u001b[1;32m      8\u001b[0m \u001b[0mphi\u001b[0m \u001b[0;34m=\u001b[0m \u001b[0mnp\u001b[0m\u001b[0;34m.\u001b[0m\u001b[0mlinspace\u001b[0m\u001b[0;34m(\u001b[0m\u001b[0;36m0\u001b[0m\u001b[0;34m,\u001b[0m \u001b[0;36m2\u001b[0m\u001b[0;34m*\u001b[0m\u001b[0mnp\u001b[0m\u001b[0;34m.\u001b[0m\u001b[0mpi\u001b[0m\u001b[0;34m,\u001b[0m\u001b[0;36m26\u001b[0m\u001b[0;34m)\u001b[0m\u001b[0;34m\u001b[0m\u001b[0;34m\u001b[0m\u001b[0m\n\u001b[0;32m----> 9\u001b[0;31m \u001b[0mplt\u001b[0m\u001b[0;34m.\u001b[0m\u001b[0mpolar\u001b[0m\u001b[0;34m(\u001b[0m\u001b[0mphi\u001b[0m\u001b[0;34m,\u001b[0m \u001b[0mcc\u001b[0m\u001b[0;34m)\u001b[0m\u001b[0;34m\u001b[0m\u001b[0;34m\u001b[0m\u001b[0m\n\u001b[0m\u001b[1;32m     10\u001b[0m \u001b[0mplt\u001b[0m\u001b[0;34m.\u001b[0m\u001b[0mpolar\u001b[0m\u001b[0;34m(\u001b[0m\u001b[0mphi\u001b[0m\u001b[0;34m,\u001b[0m\u001b[0mzz\u001b[0m\u001b[0;34m)\u001b[0m\u001b[0;34m\u001b[0m\u001b[0;34m\u001b[0m\u001b[0m\n\u001b[1;32m     11\u001b[0m \u001b[0max\u001b[0m \u001b[0;34m=\u001b[0m \u001b[0mplt\u001b[0m\u001b[0;34m.\u001b[0m\u001b[0mgca\u001b[0m\u001b[0;34m(\u001b[0m\u001b[0;34m)\u001b[0m\u001b[0;34m\u001b[0m\u001b[0;34m\u001b[0m\u001b[0m\n",
      "\u001b[0;31mNameError\u001b[0m: name 'cc' is not defined"
     ]
    }
   ],
   "source": [
    "phi = np.linspace(0, 2*np.pi, 25)\n",
    "plt.polar(phi, aaa[:,12])\n",
    "ax = plt.gca()\n",
    "ax.set_rticks([-6,-3, 0, 3, 6])\n",
    "ax.set_rlabel_position(75)\n",
    "plt.show()\n",
    "# pat2=np.transpose(pat_mat)\n",
    "phi = np.linspace(0, 2*np.pi,26)\n",
    "plt.polar(phi, cc)\n",
    "plt.polar(phi,zz)\n",
    "ax = plt.gca()\n",
    "ax.set_rticks([-10,-5, 0, 5, 10])\n",
    "ax.set_rlabel_position(75)\n",
    "plt.show()"
   ]
  },
  {
   "cell_type": "code",
   "execution_count": 50,
   "id": "fe8ea6cd",
   "metadata": {},
   "outputs": [
    {
     "data": {
      "text/plain": [
       "[<matplotlib.lines.Line2D at 0x7fa4d86eb7c0>]"
      ]
     },
     "execution_count": 50,
     "metadata": {},
     "output_type": "execute_result"
    },
    {
     "data": {
      "image/png": "[encoded data removed]",
      "text/plain": [
       "<Figure size 432x288 with 1 Axes>"
      ]
     },
     "metadata": {
      "needs_background": "light"
     },
     "output_type": "display_data"
    }
   ],
   "source": [
    "S11 = np.loadtxt('S11.txt')\n",
    "target2 = np.ones(1001)\n",
    "target2[360:420] = 0.1 \n",
    "freq = np.linspace(2,3,1001)\n",
    "# plt.plot(S11)\n",
    "# plt.show()\n",
    "plt.plot(freq,S11[:,1])\n",
    "plt.plot(freq,10*log(target2))"
   ]
  },
  {
   "cell_type": "code",
   "execution_count": 72,
   "id": "28a1af9d",
   "metadata": {},
   "outputs": [
    {
     "data": {
      "text/plain": [
       "(85, 17)"
      ]
     },
     "execution_count": 72,
     "metadata": {},
     "output_type": "execute_result"
    }
   ],
   "source": [
    "pop = np.array(population)\n",
    "population = pop[0,:,:]\n",
    "np.shape(population)"
   ]
  },
  {
   "cell_type": "code",
   "execution_count": 76,
   "id": "bca3c957",
   "metadata": {},
   "outputs": [],
   "source": [
    "tar=target\n",
    "n_i=1\n",
    "n_p =85"
   ]
  },
  {
   "cell_type": "code",
   "execution_count": 78,
   "id": "a768f2ef",
   "metadata": {},
   "outputs": [
    {
     "ename": "IndexError",
     "evalue": "too many indices for array: array is 1-dimensional, but 2 were indexed",
     "output_type": "error",
     "traceback": [
      "\u001b[0;31m---------------------------------------------------------------------------\u001b[0m",
      "\u001b[0;31mIndexError\u001b[0m                                Traceback (most recent call last)",
      "\u001b[0;32m/tmp/ipykernel_411725/736199799.py\u001b[0m in \u001b[0;36m<module>\u001b[0;34m\u001b[0m\n\u001b[1;32m     12\u001b[0m \u001b[0;34m\u001b[0m\u001b[0m\n\u001b[1;32m     13\u001b[0m \u001b[0;31m# Perform Differential Evolution optimization\u001b[0m\u001b[0;34m\u001b[0m\u001b[0;34m\u001b[0m\u001b[0m\n\u001b[0;32m---> 14\u001b[0;31m \u001b[0mresult\u001b[0m \u001b[0;34m=\u001b[0m \u001b[0mdifferential_evolution\u001b[0m\u001b[0;34m(\u001b[0m\u001b[0mpred\u001b[0m\u001b[0;34m.\u001b[0m\u001b[0mget_mse3\u001b[0m\u001b[0;34m(\u001b[0m\u001b[0mpopulation\u001b[0m\u001b[0;34m,\u001b[0m\u001b[0mtarget\u001b[0m\u001b[0;34m,\u001b[0m\u001b[0mN_I\u001b[0m\u001b[0;34m,\u001b[0m\u001b[0mN_P\u001b[0m\u001b[0;34m)\u001b[0m\u001b[0;34m,\u001b[0m \u001b[0mbounds\u001b[0m\u001b[0;34m,\u001b[0m \u001b[0mstrategy\u001b[0m\u001b[0;34m=\u001b[0m\u001b[0;34m'best1bin'\u001b[0m\u001b[0;34m,\u001b[0m \u001b[0mpopsize\u001b[0m\u001b[0;34m=\u001b[0m\u001b[0;36m85\u001b[0m\u001b[0;34m,\u001b[0m \u001b[0mmaxiter\u001b[0m\u001b[0;34m=\u001b[0m\u001b[0;36m200\u001b[0m\u001b[0;34m,\u001b[0m \u001b[0mrecombination\u001b[0m\u001b[0;34m=\u001b[0m\u001b[0;36m0.5\u001b[0m\u001b[0;34m,\u001b[0m\u001b[0minit\u001b[0m\u001b[0;34m=\u001b[0m\u001b[0;34m'latinhypercube'\u001b[0m\u001b[0;34m)\u001b[0m\u001b[0;34m\u001b[0m\u001b[0;34m\u001b[0m\u001b[0m\n\u001b[0m\u001b[1;32m     15\u001b[0m \u001b[0;34m\u001b[0m\u001b[0m\n\u001b[1;32m     16\u001b[0m \u001b[0;31m# Print the optimization result\u001b[0m\u001b[0;34m\u001b[0m\u001b[0;34m\u001b[0m\u001b[0m\n",
      "\u001b[0;32m~/Praveen/Antenna dataset/Trials/Asymmtry/ant_128F_model/pred.py\u001b[0m in \u001b[0;36mget_mse3\u001b[0;34m(pop, tar, n_i, n_p)\u001b[0m\n\u001b[1;32m     93\u001b[0m     \u001b[0mtar3\u001b[0m \u001b[0;34m=\u001b[0m \u001b[0mnp\u001b[0m\u001b[0;34m.\u001b[0m\u001b[0mtile\u001b[0m\u001b[0;34m(\u001b[0m\u001b[0mRtar\u001b[0m\u001b[0;34m,\u001b[0m \u001b[0;34m(\u001b[0m\u001b[0mn_i\u001b[0m\u001b[0;34m*\u001b[0m\u001b[0mn_p\u001b[0m\u001b[0;34m,\u001b[0m\u001b[0;36m1\u001b[0m\u001b[0;34m)\u001b[0m\u001b[0;34m)\u001b[0m\u001b[0;34m\u001b[0m\u001b[0;34m\u001b[0m\u001b[0m\n\u001b[1;32m     94\u001b[0m \u001b[0;34m\u001b[0m\u001b[0m\n\u001b[0;32m---> 95\u001b[0;31m     \u001b[0my\u001b[0m \u001b[0;34m=\u001b[0m \u001b[0mprediction\u001b[0m\u001b[0;34m(\u001b[0m\u001b[0misl\u001b[0m\u001b[0;34m)\u001b[0m\u001b[0;34m\u001b[0m\u001b[0;34m\u001b[0m\u001b[0m\n\u001b[0m\u001b[1;32m     96\u001b[0m     \u001b[0my1\u001b[0m\u001b[0;34m=\u001b[0m\u001b[0my\u001b[0m\u001b[0;34m[\u001b[0m\u001b[0;34m:\u001b[0m\u001b[0;34m,\u001b[0m\u001b[0;36m0\u001b[0m\u001b[0;34m:\u001b[0m\u001b[0;36m41600\u001b[0m\u001b[0;34m]\u001b[0m\u001b[0;34m\u001b[0m\u001b[0;34m\u001b[0m\u001b[0m\n\u001b[1;32m     97\u001b[0m     \u001b[0my1\u001b[0m\u001b[0;34m=\u001b[0m\u001b[0mnp\u001b[0m\u001b[0;34m.\u001b[0m\u001b[0mreshape\u001b[0m\u001b[0;34m(\u001b[0m\u001b[0my1\u001b[0m\u001b[0;34m,\u001b[0m\u001b[0;34m(\u001b[0m\u001b[0mn_i\u001b[0m\u001b[0;34m*\u001b[0m\u001b[0mn_p\u001b[0m\u001b[0;34m,\u001b[0m\u001b[0;36m13\u001b[0m\u001b[0;34m,\u001b[0m\u001b[0;36m25\u001b[0m\u001b[0;34m,\u001b[0m\u001b[0;36m128\u001b[0m\u001b[0;34m)\u001b[0m\u001b[0;34m)\u001b[0m\u001b[0;34m\u001b[0m\u001b[0;34m\u001b[0m\u001b[0m\n",
      "\u001b[0;32m~/Praveen/Antenna dataset/Trials/Asymmtry/ant_128F_model/pred.py\u001b[0m in \u001b[0;36mprediction\u001b[0;34m(pop)\u001b[0m\n\u001b[1;32m     58\u001b[0m \u001b[0;34m\u001b[0m\u001b[0m\n\u001b[1;32m     59\u001b[0m \u001b[0;32mdef\u001b[0m \u001b[0mprediction\u001b[0m\u001b[0;34m(\u001b[0m\u001b[0mpop\u001b[0m\u001b[0;34m)\u001b[0m\u001b[0;34m:\u001b[0m\u001b[0;34m\u001b[0m\u001b[0;34m\u001b[0m\u001b[0m\n\u001b[0;32m---> 60\u001b[0;31m     \u001b[0mxy\u001b[0m \u001b[0;34m=\u001b[0m \u001b[0mpolar_to_cartesian\u001b[0m\u001b[0;34m(\u001b[0m\u001b[0mpop\u001b[0m\u001b[0;34m)\u001b[0m\u001b[0;34m\u001b[0m\u001b[0;34m\u001b[0m\u001b[0m\n\u001b[0m\u001b[1;32m     61\u001b[0m     lower = np.array([-0.03,-0.03,-0.03,-0.03,-0.03,-0.03,-0.03,-0.03,\n\u001b[1;32m     62\u001b[0m                   -0.03,-0.03,-0.03,-0.03,-0.03,-0.03,-0.03,-0.03])\n",
      "\u001b[0;32m~/Praveen/Antenna dataset/Trials/Asymmtry/ant_128F_model/pred.py\u001b[0m in \u001b[0;36mpolar_to_cartesian\u001b[0;34m(pop)\u001b[0m\n\u001b[1;32m     28\u001b[0m \u001b[0;34m\u001b[0m\u001b[0m\n\u001b[1;32m     29\u001b[0m \u001b[0;32mdef\u001b[0m \u001b[0mpolar_to_cartesian\u001b[0m\u001b[0;34m(\u001b[0m\u001b[0mpop\u001b[0m\u001b[0;34m)\u001b[0m\u001b[0;34m:\u001b[0m\u001b[0;34m\u001b[0m\u001b[0;34m\u001b[0m\u001b[0m\n\u001b[0;32m---> 30\u001b[0;31m     \u001b[0mrad\u001b[0m \u001b[0;34m=\u001b[0m \u001b[0mpop\u001b[0m\u001b[0;34m[\u001b[0m\u001b[0;34m:\u001b[0m\u001b[0;34m,\u001b[0m\u001b[0;36m0\u001b[0m\u001b[0;34m:\u001b[0m\u001b[0;36m8\u001b[0m\u001b[0;34m]\u001b[0m\u001b[0;34m\u001b[0m\u001b[0;34m\u001b[0m\u001b[0m\n\u001b[0m\u001b[1;32m     31\u001b[0m     \u001b[0mphi\u001b[0m \u001b[0;34m=\u001b[0m \u001b[0mpop\u001b[0m\u001b[0;34m[\u001b[0m\u001b[0;34m:\u001b[0m\u001b[0;34m,\u001b[0m\u001b[0;36m8\u001b[0m\u001b[0;34m:\u001b[0m\u001b[0;36m16\u001b[0m\u001b[0;34m]\u001b[0m\u001b[0;34m\u001b[0m\u001b[0;34m\u001b[0m\u001b[0m\n\u001b[1;32m     32\u001b[0m     \u001b[0malp\u001b[0m \u001b[0;34m=\u001b[0m \u001b[0mpop\u001b[0m\u001b[0;34m[\u001b[0m\u001b[0;34m:\u001b[0m\u001b[0;34m,\u001b[0m\u001b[0;36m16\u001b[0m\u001b[0;34m]\u001b[0m\u001b[0;34m\u001b[0m\u001b[0;34m\u001b[0m\u001b[0m\n",
      "\u001b[0;31mIndexError\u001b[0m: too many indices for array: array is 1-dimensional, but 2 were indexed"
     ]
    }
   ],
   "source": [
    "import numpy as np\n",
    "import scipy\n",
    "from scipy.optimize import differential_evolution\n",
    "\n",
    "# Define the objective function to be minimized\n",
    "# def objective_function(x):\n",
    "#     # Example objective function: Rosenbrock's function\n",
    "#     return sum(100.0 * (x[1:] - x[:-1]*2.0)*2.0 + (1 - x[:-1])*2.0)\n",
    "\n",
    "# Define the bounds for each parameter (variables)\n",
    "bounds = [(10,29),(10,29),(10,29),(10,29),(10,29),(10,29),(10,29),(10,29),(10,100),(10,100),(10,100),(10,100),(10,100),(10,100),(10,100),(10,100),(2*pi-5*pi/12,2*pi-pi/12)]  # Adjust as needed for your problem\n",
    "\n",
    "# Perform Differential Evolution optimization\n",
    "result = differential_evolution(pred.get_mse3(population,target,N_I,N_P), bounds, strategy='best1bin', popsize=85, maxiter=200, recombination=0.5,init='latinhypercube')\n",
    "\n",
    "# Print the optimization result\n",
    "print(\"Optimal Solution:\", result.pred.get_mse3)\n",
    "print(\"Optimal Value:\", result.fun)"
   ]
  },
  {
   "cell_type": "code",
   "execution_count": null,
   "id": "472d8c8e",
   "metadata": {},
   "outputs": [],
   "source": [
    "import datetime\n",
    "t1 = datetime.datetime.now()\n",
    "print(t1)\n",
    "de_nn.de_isl(pred.get_mse3,target,L,U,num_layers_i = 17, num_isles = N_I, num_gens = 8,\n",
    "\t  poplist = population, mut = 0.8, crossp = 0.5, popsize = N_P,\n",
    "\t  its = 200 , lenp = 0.08, lins = 0.06, verbose = 0);\n",
    "t2 = datetime.datetime.now() - t1\n",
    "print('time_taken=',t2)"
   ]
  },
  {
   "cell_type": "code",
   "execution_count": 3,
   "id": "8685a517",
   "metadata": {},
   "outputs": [],
   "source": [
    "# eng.quit"
   ]
  },
  {
   "cell_type": "code",
   "execution_count": null,
   "id": "f0abe3ee",
   "metadata": {},
   "outputs": [],
   "source": []
  }
 ],
 "metadata": {
  "kernelspec": {
   "display_name": "Python 3 (ipykernel)",
   "language": "python",
   "name": "python3"
  },
  "language_info": {
   "codemirror_mode": {
    "name": "ipython",
    "version": 3
   },
   "file_extension": ".py",
   "mimetype": "text/x-python",
   "name": "python",
   "nbconvert_exporter": "python",
   "pygments_lexer": "ipython3",
   "version": "3.9.7"
  }
 },
 "nbformat": 4,
 "nbformat_minor": 5
}
