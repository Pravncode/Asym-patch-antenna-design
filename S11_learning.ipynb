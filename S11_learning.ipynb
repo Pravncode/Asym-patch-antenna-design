{
 "cells": [
  {
   "cell_type": "code",
   "execution_count": 1,
   "metadata": {},
   "outputs": [],
   "source": [
    "import numpy as np\n",
    "import math\n",
    "import matplotlib.pyplot as plt\n",
    "import pandas as pd\n",
    "from scipy.stats import qmc\n",
    "# from sklearn.preprocessing import MinMaxScaler\n",
    "import os\n",
    "from scipy import interpolate\n",
    "from scipy.interpolate import CubicSpline"
   ]
  },
  {
   "cell_type": "code",
   "execution_count": 2,
   "metadata": {},
   "outputs": [
    {
     "name": "stderr",
     "output_type": "stream",
     "text": [
      "2023-07-25 16:19:42.646040: I tensorflow/stream_executor/platform/default/dso_loader.cc:49] Successfully opened dynamic library libcudart.so.10.1\n"
     ]
    }
   ],
   "source": [
    "%load_ext autoreload\n",
    "%autoreload 2\n",
    "%matplotlib inline\n",
    "import numpy as np\n",
    "import matplotlib.pyplot as plt\n",
    "import h5py\n",
    "from sklearn.model_selection import train_test_split\n",
    "import tensorflow as tf\n",
    "from tensorflow import keras\n",
    "from tensorflow.keras import layers, models\n",
    "from tensorflow.keras.models import load_model\n",
    "import os\n",
    "np.set_printoptions(threshold=1000000)\n",
    "from sklearn.preprocessing import MinMaxScaler\n",
    "from keras.utils import plot_model\n",
    "from keras.models import Model\n",
    "from keras.layers import Input\n",
    "from keras.layers import Dense, Activation, BatchNormalization, LeakyReLU\n",
    "from keras.layers import Dropout, UpSampling2D, ZeroPadding2D, AveragePooling2D, Conv2DTranspose, Add\n",
    "from keras.layers import Flatten, Cropping1D, Reshape\n",
    "from keras.layers.convolutional import Conv2D, Conv1D\n",
    "from keras.layers.pooling import MaxPooling2D, AveragePooling2D,MaxPooling1D \n",
    "from keras.engine.topology import Layer\n",
    "from keras.layers import Lambda, Input, GRU, LSTM\n",
    "import tensorflow as tf\n",
    "from itertools import product\n",
    "from keras.layers import Conv1DTranspose\n",
    "from keras.layers import Conv3DTranspose\n",
    "import seaborn as sns\n",
    "from keras.callbacks import EarlyStopping\n",
    "from tensorflow.keras import regularizers\n",
    "from sklearn.model_selection import ShuffleSplit, StratifiedKFold, KFold\n",
    "from sklearn.model_selection import KFold, cross_val_score\n",
    "from sklearn.metrics import accuracy_score"
   ]
  },
  {
   "cell_type": "code",
   "execution_count": 3,
   "metadata": {},
   "outputs": [
    {
     "data": {
      "text/plain": [
       "(4096, 128)"
      ]
     },
     "execution_count": 3,
     "metadata": {},
     "output_type": "execute_result"
    }
   ],
   "source": [
    "y1=np.loadtxt('S11_batch4K.txt')\n",
    "np.shape(y1)\n",
    "y2=np.loadtxt('S11_batch8K.txt')\n",
    "np.shape(y2)"
   ]
  },
  {
   "cell_type": "code",
   "execution_count": 4,
   "metadata": {},
   "outputs": [
    {
     "data": {
      "text/plain": [
       "(8192, 128)"
      ]
     },
     "execution_count": 4,
     "metadata": {},
     "output_type": "execute_result"
    }
   ],
   "source": [
    "YY3=np.concatenate((y1,y2),axis=0)\n",
    "np.shape(YY3)"
   ]
  },
  {
   "cell_type": "code",
   "execution_count": 5,
   "metadata": {},
   "outputs": [
    {
     "name": "stdout",
     "output_type": "stream",
     "text": [
      "(array([1379, 1379, 1379, 1379, 1379, 1379, 1379, 1379, 1379, 1957, 1957,\n",
      "       1957, 1957, 1957, 1957, 1957, 1957, 1957, 2468, 2468, 2468, 2468,\n",
      "       2468, 2468, 2468, 2468, 2468, 2689, 2689, 2689, 2689, 2689, 2689,\n",
      "       2689, 2689, 2689, 5090, 5090, 5090, 7361]), array([57, 61, 63, 65, 66, 67, 68, 69, 70, 57, 61, 63, 65, 66, 67, 68, 69,\n",
      "       70, 57, 61, 63, 65, 66, 67, 68, 69, 70, 57, 61, 63, 65, 66, 67, 68,\n",
      "       69, 70,  3,  4,  6,  6]))\n"
     ]
    },
    {
     "data": {
      "text/plain": [
       "(8186, 128)"
      ]
     },
     "execution_count": 5,
     "metadata": {},
     "output_type": "execute_result"
    }
   ],
   "source": [
    " print(np.where(YY3>0))\n",
    "YY= np.delete(YY3,[1379,1957,2468,2689,5090,7361],axis=0)\n",
    "np.shape(YY)\n"
   ]
  },
  {
   "cell_type": "code",
   "execution_count": 1687,
   "metadata": {},
   "outputs": [
    {
     "name": "stdout",
     "output_type": "stream",
     "text": [
      "(array([ 994,  994,  994, 3265]), array([3, 4, 6, 6]))\n"
     ]
    },
    {
     "data": {
      "text/plain": [
       "(4094, 128)"
      ]
     },
     "execution_count": 1687,
     "metadata": {},
     "output_type": "execute_result"
    }
   ],
   "source": [
    "#  print(np.where(y2>0))\n",
    "# y2= np.delete(y2,[994,3265],axis=0)\n",
    "# np.shape(y2)\n"
   ]
  },
  {
   "cell_type": "code",
   "execution_count": 891,
   "metadata": {},
   "outputs": [
    {
     "data": {
      "text/plain": [
       "(2047, 128)"
      ]
     },
     "execution_count": 891,
     "metadata": {},
     "output_type": "execute_result"
    }
   ],
   "source": [
    "# yy=np.concatenate((yy2,yy3),axis=0)\n",
    "# np.shape(yy2)"
   ]
  },
  {
   "cell_type": "code",
   "execution_count": 6,
   "metadata": {},
   "outputs": [
    {
     "data": {
      "text/plain": [
       "2.920868465670405e-06"
      ]
     },
     "execution_count": 6,
     "metadata": {},
     "output_type": "execute_result"
    }
   ],
   "source": [
    "yy2= YY/10\n",
    "yy2=10**yy2\n",
    "np.min(yy2)"
   ]
  },
  {
   "cell_type": "code",
   "execution_count": 10,
   "metadata": {},
   "outputs": [],
   "source": [
    "# xx1=np.loadtxt(\"str128_4K.txt\")\n",
    "# np.shape(xx1)"
   ]
  },
  {
   "cell_type": "code",
   "execution_count": 11,
   "metadata": {},
   "outputs": [],
   "source": [
    "# xx2=np.loadtxt(\"str128_8K.txt\")\n",
    "# np.shape(xx2)"
   ]
  },
  {
   "cell_type": "code",
   "execution_count": 16,
   "metadata": {},
   "outputs": [
    {
     "data": {
      "text/plain": [
       "(8192, 8)"
      ]
     },
     "execution_count": 16,
     "metadata": {},
     "output_type": "execute_result"
    }
   ],
   "source": [
    "x1=np.loadtxt(\"X_batch4K.txt\")\n",
    "x1=x1[:,0:8]\n",
    "np.shape(x1)\n",
    "x2=np.loadtxt(\"X_batch8K.txt\")\n",
    "x2=x2[:,0:8]\n",
    "np.shape(x1)\n",
    "XX=np.concatenate((x1,x2),axis=0)\n",
    "np.shape(XX)"
   ]
  },
  {
   "cell_type": "code",
   "execution_count": 17,
   "metadata": {},
   "outputs": [
    {
     "data": {
      "text/plain": [
       "(8192, 8)"
      ]
     },
     "execution_count": 17,
     "metadata": {},
     "output_type": "execute_result"
    }
   ],
   "source": [
    "y1=np.loadtxt(\"Y_batch4K.txt\")\n",
    "y1=y1[:,0:8]\n",
    "y2=np.loadtxt(\"Y_batch8K.txt\")\n",
    "y2=y2[:,0:8]\n",
    "np.shape(y1)\n",
    "YY=np.concatenate((y1,y2),axis=0)\n",
    "np.shape(YY)"
   ]
  },
  {
   "cell_type": "code",
   "execution_count": 18,
   "metadata": {},
   "outputs": [
    {
     "data": {
      "text/plain": [
       "(8192, 16)"
      ]
     },
     "execution_count": 18,
     "metadata": {},
     "output_type": "execute_result"
    }
   ],
   "source": [
    "xy=np.concatenate((XX,YY),axis=1)\n",
    "np.shape(xy)"
   ]
  },
  {
   "cell_type": "code",
   "execution_count": 19,
   "metadata": {},
   "outputs": [
    {
     "data": {
      "text/plain": [
       "(8186, 16)"
      ]
     },
     "execution_count": 19,
     "metadata": {},
     "output_type": "execute_result"
    }
   ],
   "source": [
    "xx2=np.delete(xy,[1379,1957,2468,2689,5090,7361],axis=0)\n",
    "np.shape(xx2)"
   ]
  },
  {
   "cell_type": "code",
   "execution_count": 21,
   "metadata": {},
   "outputs": [
    {
     "data": {
      "text/plain": [
       "-0.03"
      ]
     },
     "execution_count": 21,
     "metadata": {},
     "output_type": "execute_result"
    }
   ],
   "source": [
    "np.min(xx2)"
   ]
  },
  {
   "cell_type": "code",
   "execution_count": 550,
   "metadata": {},
   "outputs": [
    {
     "data": {
      "text/plain": [
       "(4092, 17)"
      ]
     },
     "execution_count": 550,
     "metadata": {},
     "output_type": "execute_result"
    }
   ],
   "source": [
    "# xx1=np.delete(xx1,[1379,1957,2468,2689],axis=0)\n",
    "# np.shape(xx1)"
   ]
  },
  {
   "cell_type": "code",
   "execution_count": 1690,
   "metadata": {},
   "outputs": [
    {
     "data": {
      "text/plain": [
       "(4094, 16)"
      ]
     },
     "execution_count": 1690,
     "metadata": {},
     "output_type": "execute_result"
    }
   ],
   "source": [
    "# xx2=np.delete(xy,[994,3265],axis=0)\n",
    "# np.shape(xx2)"
   ]
  },
  {
   "cell_type": "code",
   "execution_count": 17,
   "metadata": {},
   "outputs": [
    {
     "data": {
      "text/plain": [
       "(8186, 17)"
      ]
     },
     "execution_count": 17,
     "metadata": {},
     "output_type": "execute_result"
    }
   ],
   "source": [
    "# xx=np.concatenate((xx1,xx2),axis=0)\n",
    "# np.shape(xx)"
   ]
  },
  {
   "cell_type": "code",
   "execution_count": 19,
   "metadata": {},
   "outputs": [
    {
     "name": "stdout",
     "output_type": "stream",
     "text": [
      "[PhysicalDevice(name='/physical_device:GPU:0', device_type='GPU'), PhysicalDevice(name='/physical_device:GPU:1', device_type='GPU'), PhysicalDevice(name='/physical_device:GPU:2', device_type='GPU')]\n"
     ]
    }
   ],
   "source": [
    "gpus = tf.config.list_physical_devices('GPU')\n",
    "print(gpus)"
   ]
  },
  {
   "cell_type": "markdown",
   "metadata": {},
   "source": [
    "# Data Preprocessing and normalization"
   ]
  },
  {
   "cell_type": "code",
   "execution_count": 551,
   "metadata": {},
   "outputs": [
    {
     "data": {
      "text/plain": [
       "(4092, 17)"
      ]
     },
     "execution_count": 551,
     "metadata": {},
     "output_type": "execute_result"
    }
   ],
   "source": [
    "# pi = math.pi\n",
    "# # xx=np.loadtxt(\"str_32K.txt\")\n",
    "# lower = np.array([10,10,10,10,10,10,10,10,\n",
    "#                   10,10,10,10,10,10,10,10,\n",
    "#                   2*pi-5*pi/12]) #R1,R2,Phi1,Phi2,Alpha\n",
    "\n",
    "# upper = np.array([30,30,30,30,30,30,30,30,\n",
    "#                   100,100,100,100,100,100,100,100,\n",
    "#                   2*pi-pi/12])\n",
    "# for i in range (np.shape(xx1)[0]):\n",
    "#     xx1[i] = (xx1[i]-lower)/(upper-lower)\n",
    "# # print(xx)\n",
    "# np.shape(xx1)"
   ]
  },
  {
   "cell_type": "code",
   "execution_count": 22,
   "metadata": {},
   "outputs": [
    {
     "data": {
      "text/plain": [
       "0.0"
      ]
     },
     "execution_count": 22,
     "metadata": {},
     "output_type": "execute_result"
    }
   ],
   "source": [
    "lower = np.array([-0.03,-0.03,-0.03,-0.03,-0.03,-0.03,-0.03,-0.03,\n",
    "                  -0.03,-0.03,-0.03,-0.03,-0.03,-0.03,-0.03,-0.03])\n",
    "                  \n",
    "\n",
    "upper = np.array([0.03,0.03,0.03,0.03,0.03,0.03,0.03,0.03,\n",
    "                  0.03,0.03,0.03,0.03,0.03,0.03,0.03,0.03])\n",
    "                  \n",
    "for i in range (np.shape(xx2)[0]):\n",
    "    xx2[i] = (xx2[i]-lower)/(upper-lower)\n",
    "np.min(xx2)"
   ]
  },
  {
   "cell_type": "code",
   "execution_count": 16,
   "metadata": {},
   "outputs": [
    {
     "data": {
      "text/plain": [
       "0.0"
      ]
     },
     "execution_count": 16,
     "metadata": {},
     "output_type": "execute_result"
    }
   ],
   "source": [
    "xx= np.zeros(np.shape(xx2))\n",
    "xx = (xx2-np.min(xx2))/(np.max(xx2)-np.min(xx2))\n",
    "np.min(xx)"
   ]
  },
  {
   "cell_type": "code",
   "execution_count": 23,
   "metadata": {},
   "outputs": [
    {
     "name": "stdout",
     "output_type": "stream",
     "text": [
      "0.999 0.0 (8186, 16)\n"
     ]
    }
   ],
   "source": [
    "print(np.max(xx2),np.min(xx2),np.shape(xx2))"
   ]
  },
  {
   "cell_type": "code",
   "execution_count": 24,
   "metadata": {},
   "outputs": [
    {
     "name": "stdout",
     "output_type": "stream",
     "text": [
      "0.9984883452966085 2.920868465670405e-06 (8186, 128)\n"
     ]
    }
   ],
   "source": [
    "print(np.max(yy2),np.min(yy2),np.shape(yy2))"
   ]
  },
  {
   "cell_type": "code",
   "execution_count": 912,
   "metadata": {},
   "outputs": [
    {
     "data": {
      "text/plain": [
       "(10233, 128)"
      ]
     },
     "execution_count": 912,
     "metadata": {},
     "output_type": "execute_result"
    }
   ],
   "source": [
    "yy=np.concatenate((yy2,yy3),axis=0)\n",
    "np.shape(yy)"
   ]
  },
  {
   "cell_type": "code",
   "execution_count": 922,
   "metadata": {},
   "outputs": [
    {
     "data": {
      "text/plain": [
       "(10233, 16)"
      ]
     },
     "execution_count": 922,
     "metadata": {},
     "output_type": "execute_result"
    }
   ],
   "source": [
    "x = np.concatenate((xx,xx1),axis=0)\n",
    "np.shape(x)"
   ]
  },
  {
   "cell_type": "code",
   "execution_count": 970,
   "metadata": {},
   "outputs": [
    {
     "data": {
      "text/plain": [
       "(8186, 16)"
      ]
     },
     "execution_count": 970,
     "metadata": {},
     "output_type": "execute_result"
    }
   ],
   "source": [
    "np.shape(xx)"
   ]
  },
  {
   "cell_type": "markdown",
   "metadata": {},
   "source": [
    "# S11 Training"
   ]
  },
  {
   "cell_type": "markdown",
   "metadata": {},
   "source": [
    "# Custom loss function"
   ]
  },
  {
   "cell_type": "code",
   "execution_count": 29,
   "metadata": {},
   "outputs": [],
   "source": [
    "# Custom relative error\n",
    "def rel_loss(y_true, y_pred):\n",
    "#     error = tf.square((y_true - y_pred)/(y_pred))\n",
    "    loss = tf.reduce_mean(tf.abs((y_true - y_pred)) / ((y_true)))\n",
    "    return loss\n",
    "   "
   ]
  },
  {
   "cell_type": "code",
   "execution_count": 594,
   "metadata": {},
   "outputs": [
    {
     "name": "stdout",
     "output_type": "stream",
     "text": [
      "Original shape: (1024, 128)\n",
      "Padded shape: (1024, 128, 2)\n"
     ]
    }
   ],
   "source": [
    "\n",
    "mask = np.where(yy2 < 0.316, 1, 0)\n",
    "\n",
    "mask = np.expand_dims(mask, axis=-1)\n",
    "\n",
    "yy2_pad = np.concatenate((yy2[:, :, np.newaxis], mask), axis=-1)\n",
    "\n",
    "print(\"Original shape:\", yy2.shape)\n",
    "print(\"Padded shape:\", yy2_pad.shape)\n"
   ]
  },
  {
   "cell_type": "code",
   "execution_count": 28,
   "metadata": {},
   "outputs": [],
   "source": [
    "    def S11_loss_pad(y_true, y_pred,mask):\n",
    "        y_pred_masked = tf.math.multiply(y_pred, mask)\n",
    "        y_pred=y_pred_masked\n",
    "        print('y_pred_mask',y_pred_masked.shape)\n",
    "#         print(type(y_true))\n",
    "#         print('y_tr',y_true[:,0,0].eval(session = tf.compat.v1.Session()))\n",
    "        alpha = 0.1\n",
    "        error=[]\n",
    "        for i in range(y_true.shape[1]):\n",
    "            if y_true[:,i,1]==1:\n",
    "                error.append(tf.abs((y_true[:,i,0] - y_pred[:,i])) / ((y_true[:,i,0])))\n",
    "            else:\n",
    "                error.append(alpha*tf.abs((y_true[:,i,0] - y_pred[:,i])) / ((y_true[:,i,0])))\n",
    "        loss = tf.reduce_mean(tf.Tensor(error))\n",
    "        return loss"
   ]
  },
  {
   "cell_type": "code",
   "execution_count": 23,
   "metadata": {},
   "outputs": [],
   "source": [
    "def S11_loss(y_true, y_pred):\n",
    "    print('y_tr',y_true.shape,'y_pr', y_pred.shape)\n",
    "    loss = tf.reduce_mean(tf.abs((y_true - y_pred)) / ((y_true)))\n",
    "    return loss\n",
    "  "
   ]
  },
  {
   "cell_type": "code",
   "execution_count": 1978,
   "metadata": {},
   "outputs": [],
   "source": [
    "def S11_new(alpha):\n",
    "    def custom_loss(y_true, y_pred):\n",
    "        error1 = tf.reduce_mean(tf.abs(y_true - y_pred))\n",
    "        error2 = tf.reduce_mean(tf.square(y_true - y_pred))\n",
    "        loss = alpha*error1 + (1-alpha)*error2\n",
    "        return loss\n",
    "    return custom_loss"
   ]
  },
  {
   "cell_type": "markdown",
   "metadata": {},
   "source": [
    "# Simple Dense Network"
   ]
  },
  {
   "cell_type": "code",
   "execution_count": 25,
   "metadata": {},
   "outputs": [
    {
     "name": "stdout",
     "output_type": "stream",
     "text": [
      "(6548, 16) (1638, 16) (6548, 128) (1638, 128)\n"
     ]
    }
   ],
   "source": [
    "x1_tr,x1_te,y1_tr,y1_te= train_test_split(xx2, yy2, test_size= 0.2, shuffle=True)\n",
    "print(np.shape(x1_tr), np.shape(x1_te), np.shape(y1_tr), np.shape(y1_te))"
   ]
  },
  {
   "cell_type": "code",
   "execution_count": null,
   "metadata": {},
   "outputs": [],
   "source": []
  },
  {
   "cell_type": "code",
   "execution_count": 28,
   "metadata": {},
   "outputs": [],
   "source": [
    "def std_dev(actu, pred):\n",
    "    return keras.backend.std(keras.backend.abs(actu - pred))\n",
    "\n",
    "def mmae(actu, pred):\n",
    "    return keras.backend.max(keras.backend.abs(actu - pred))\n"
   ]
  },
  {
   "cell_type": "code",
   "execution_count": null,
   "metadata": {},
   "outputs": [],
   "source": [
    "# initializer = tf.keras.initializers.GlorotNormal()\n",
    "from tensorflow.keras.regularizers import l1, l2, L1L2\n",
    "# l1_regularization = 0.1\n",
    "lamda =5e-7\n",
    "# l2_regularization = 0.01 \n",
    "from tensorflow.keras.layers import Input, Dense, concatenate\n",
    "\n",
    "with tf.device('/device:GPU:2'):\n",
    "#     input_shape = (16,)\n",
    "    iput = Input(shape=(16,))\n",
    "#     input_radius = Input(shape=input_shape)\n",
    "#     input_theta = Input(shape=input_shape)\n",
    "#     concatenated = concatenate([input_radius, input_theta])\n",
    "    \n",
    "    dens1 = Dense(64, activation=\"relu\",kernel_regularizer=L1L2(lamda))(iput)\n",
    "#     dens2 = Dense(64, activation=\"relu\")(dens1)\n",
    "#     dens2 = Dropout(0.5)(dens2)\n",
    "    dens3 = Dense(128, activation=\"relu\",kernel_regularizer=L1L2(lamda))(dens1)\n",
    "#     dens3 = Dropout(0.5)(dens3)\n",
    "    dens4 = Dense(256, activation=\"relu\",kernel_regularizer=L1L2(lamda))(dens3)\n",
    "#     dens4 = Dropout(0.3)(dens4)\n",
    "    dens5 = Dense(512, activation=\"relu\",kernel_regularizer=L1L2(lamda))(dens4)\n",
    "#     dens5 = Dropout(0.3)(dens5)\n",
    "#     dens5 = Dense(256, activation=\"relu\")(dens4)\n",
    "#     dens5 = Dropout(0.5)(dens5)\n",
    "#     dens30 = Dense(256, activation=\"relu\",kernel_initializer=initializer)(dens29)\n",
    "#     dens30 = Dropout(0.5)(dens30) \n",
    "#     dens31 = Dense(128, activation=\"relu\",kernel_initializer=initializer)(dens3)\n",
    "    dens32 = Dense(256, activation=\"relu\")(dens5)\n",
    "#     dens32 = Dropout(0.3)(dens32)\n",
    "    dens33 = Dense(128, activation=\"relu\")(dens32)\n",
    "\n",
    "    densf = Dense(128, activation='linear',kernel_regularizer=L1L2(lamda))(dens33)\n",
    "    oput=densf\n",
    "    \n",
    "\n",
    "    model1 = Model(inputs=iput, outputs = oput)\n",
    "\n",
    "#     model1 = Model(inputs = iput, outputs = oput)\n",
    "    model1.summary()\n",
    "#     optimizer = tf.keras.optimizers.RMSprop(0.001)\n",
    "    model1.compile(optimizer = 'adam',\n",
    "                   loss=['mae','mse'],\n",
    "                    metrics=['mse'])"
   ]
  },
  {
   "cell_type": "markdown",
   "metadata": {},
   "source": [
    "# Large Dense N/W"
   ]
  },
  {
   "cell_type": "code",
   "execution_count": 1505,
   "metadata": {},
   "outputs": [
    {
     "name": "stdout",
     "output_type": "stream",
     "text": [
      "Model: \"model_50\"\n",
      "_________________________________________________________________\n",
      "Layer (type)                 Output Shape              Param #   \n",
      "=================================================================\n",
      "input_53 (InputLayer)        [(None, 16)]              0         \n",
      "_________________________________________________________________\n",
      "dense_144 (Dense)            (None, 32)                544       \n",
      "_________________________________________________________________\n",
      "leaky_re_lu (LeakyReLU)      (None, 32)                0         \n",
      "_________________________________________________________________\n",
      "batch_normalization_281 (Bat (None, 32)                128       \n",
      "_________________________________________________________________\n",
      "dense_145 (Dense)            (None, 64)                2112      \n",
      "_________________________________________________________________\n",
      "leaky_re_lu_1 (LeakyReLU)    (None, 64)                0         \n",
      "_________________________________________________________________\n",
      "batch_normalization_282 (Bat (None, 64)                256       \n",
      "_________________________________________________________________\n",
      "dense_146 (Dense)            (None, 128)               8320      \n",
      "_________________________________________________________________\n",
      "leaky_re_lu_2 (LeakyReLU)    (None, 128)               0         \n",
      "_________________________________________________________________\n",
      "batch_normalization_283 (Bat (None, 128)               512       \n",
      "_________________________________________________________________\n",
      "dense_147 (Dense)            (None, 256)               33024     \n",
      "_________________________________________________________________\n",
      "leaky_re_lu_3 (LeakyReLU)    (None, 256)               0         \n",
      "_________________________________________________________________\n",
      "batch_normalization_284 (Bat (None, 256)               1024      \n",
      "_________________________________________________________________\n",
      "dropout_18 (Dropout)         (None, 256)               0         \n",
      "_________________________________________________________________\n",
      "dense_148 (Dense)            (None, 128)               32896     \n",
      "_________________________________________________________________\n",
      "leaky_re_lu_4 (LeakyReLU)    (None, 128)               0         \n",
      "_________________________________________________________________\n",
      "batch_normalization_285 (Bat (None, 128)               512       \n",
      "_________________________________________________________________\n",
      "dropout_19 (Dropout)         (None, 128)               0         \n",
      "_________________________________________________________________\n",
      "dense_149 (Dense)            (None, 128)               16512     \n",
      "_________________________________________________________________\n",
      "leaky_re_lu_5 (LeakyReLU)    (None, 128)               0         \n",
      "_________________________________________________________________\n",
      "batch_normalization_286 (Bat (None, 128)               512       \n",
      "_________________________________________________________________\n",
      "dropout_20 (Dropout)         (None, 128)               0         \n",
      "_________________________________________________________________\n",
      "dense_150 (Dense)            (None, 128)               16512     \n",
      "=================================================================\n",
      "Total params: 112,864\n",
      "Trainable params: 111,392\n",
      "Non-trainable params: 1,472\n",
      "_________________________________________________________________\n"
     ]
    }
   ],
   "source": [
    "# initializer = tf.keras.initializers.GlorotNormal()\n",
    "# ,kernel_regularizer=regularizers.L1L2(l1=0.01, l2=0.0001)\n",
    "with tf.device('/device:GPU:2'):\n",
    "    iput = Input(shape=(16,))\n",
    "    dens1 = Dense(32)(iput)\n",
    "    dens1 = LeakyReLU()(dens1)\n",
    "    dens1 = BatchNormalization()(dens1)\n",
    "#     dens1 = Dropout(0.5)(dens1)\n",
    "    dens2 = Dense(64)(dens1)\n",
    "    dens2 = LeakyReLU()(dens2)\n",
    "    dens2 = BatchNormalization()(dens2)\n",
    "#     dens2 = Dropout(0.5)(dens2)\n",
    "    dens3 = Dense(128)(dens2)\n",
    "    dens3 = LeakyReLU()(dens3)\n",
    "    dens3 = BatchNormalization()(dens3)\n",
    "#     dens3 = Dropout(0.5)(dens3)\n",
    "    dens4 = Dense(256)(dens3)\n",
    "    dens4 = LeakyReLU()(dens4)\n",
    "    dens4 = BatchNormalization()(dens4)\n",
    "    dens4 = Dropout(0.5)(dens4)\n",
    "    \n",
    "    dens31 = Dense(128)(dens4)\n",
    "    dens31 = LeakyReLU()(dens31)\n",
    "    dens31 = BatchNormalization()(dens31)\n",
    "    dens31 = Dropout(0.5)(dens31)\n",
    "    dens32 = Dense(128)(dens31)\n",
    "    dens32 = LeakyReLU()(dens32)\n",
    "    dens32 = BatchNormalization()(dens32)\n",
    "    dens32 = Dropout(0.5)(dens32)\n",
    "    \n",
    "\n",
    "    densf = Dense(128, activation='linear')(dens32)\n",
    "    oput=densf\n",
    "\n",
    "\n",
    "    model2 = Model(inputs=iput, outputs = oput)\n",
    "\n",
    "#     model1 = Model(inputs = iput, outputs = oput)\n",
    "    model2.summary()\n",
    "\n",
    "    model2.compile(optimizer = 'adam',\n",
    "                   loss = ['mse'],\n",
    "                        metrics=['mse'])\n"
   ]
  },
  {
   "cell_type": "markdown",
   "metadata": {},
   "source": [
    "# Conv1D model"
   ]
  },
  {
   "cell_type": "code",
   "execution_count": 26,
   "metadata": {},
   "outputs": [
    {
     "name": "stderr",
     "output_type": "stream",
     "text": [
      "2023-07-25 16:23:42.403536: I tensorflow/compiler/jit/xla_cpu_device.cc:41] Not creating XLA devices, tf_xla_enable_xla_devices not set\n",
      "2023-07-25 16:23:42.404970: I tensorflow/stream_executor/platform/default/dso_loader.cc:49] Successfully opened dynamic library libcuda.so.1\n",
      "2023-07-25 16:23:42.448744: I tensorflow/core/common_runtime/gpu/gpu_device.cc:1720] Found device 0 with properties: \n",
      "pciBusID: 0000:05:00.0 name: NVIDIA GeForce GTX 1070 computeCapability: 6.1\n",
      "coreClock: 1.683GHz coreCount: 15 deviceMemorySize: 7.92GiB deviceMemoryBandwidth: 238.66GiB/s\n",
      "2023-07-25 16:23:42.449126: I tensorflow/core/common_runtime/gpu/gpu_device.cc:1720] Found device 1 with properties: \n",
      "pciBusID: 0000:09:00.0 name: NVIDIA GeForce GTX 1070 computeCapability: 6.1\n",
      "coreClock: 1.683GHz coreCount: 15 deviceMemorySize: 7.92GiB deviceMemoryBandwidth: 238.66GiB/s\n",
      "2023-07-25 16:23:42.449491: I tensorflow/core/common_runtime/gpu/gpu_device.cc:1720] Found device 2 with properties: \n",
      "pciBusID: 0000:0b:00.0 name: NVIDIA GeForce GTX 1070 computeCapability: 6.1\n",
      "coreClock: 1.683GHz coreCount: 15 deviceMemorySize: 7.92GiB deviceMemoryBandwidth: 238.66GiB/s\n",
      "2023-07-25 16:23:42.449545: I tensorflow/stream_executor/platform/default/dso_loader.cc:49] Successfully opened dynamic library libcudart.so.10.1\n",
      "2023-07-25 16:23:42.451720: I tensorflow/stream_executor/platform/default/dso_loader.cc:49] Successfully opened dynamic library libcublas.so.10\n",
      "2023-07-25 16:23:42.451799: I tensorflow/stream_executor/platform/default/dso_loader.cc:49] Successfully opened dynamic library libcublasLt.so.10\n",
      "2023-07-25 16:23:42.453720: I tensorflow/stream_executor/platform/default/dso_loader.cc:49] Successfully opened dynamic library libcufft.so.10\n",
      "2023-07-25 16:23:42.454127: I tensorflow/stream_executor/platform/default/dso_loader.cc:49] Successfully opened dynamic library libcurand.so.10\n",
      "2023-07-25 16:23:42.456657: I tensorflow/stream_executor/platform/default/dso_loader.cc:49] Successfully opened dynamic library libcusolver.so.10\n",
      "2023-07-25 16:23:42.457999: I tensorflow/stream_executor/platform/default/dso_loader.cc:49] Successfully opened dynamic library libcusparse.so.10\n",
      "2023-07-25 16:23:42.463173: I tensorflow/stream_executor/platform/default/dso_loader.cc:49] Successfully opened dynamic library libcudnn.so.7\n",
      "2023-07-25 16:23:42.465103: I tensorflow/core/common_runtime/gpu/gpu_device.cc:1862] Adding visible gpu devices: 0, 1, 2\n",
      "2023-07-25 16:23:42.465747: I tensorflow/core/platform/cpu_feature_guard.cc:142] This TensorFlow binary is optimized with oneAPI Deep Neural Network Library (oneDNN) to use the following CPU instructions in performance-critical operations:  SSE4.1 SSE4.2 AVX AVX2 FMA\n",
      "To enable them in other operations, rebuild TensorFlow with the appropriate compiler flags.\n",
      "2023-07-25 16:23:42.919441: I tensorflow/core/common_runtime/gpu/gpu_device.cc:1720] Found device 0 with properties: \n",
      "pciBusID: 0000:05:00.0 name: NVIDIA GeForce GTX 1070 computeCapability: 6.1\n",
      "coreClock: 1.683GHz coreCount: 15 deviceMemorySize: 7.92GiB deviceMemoryBandwidth: 238.66GiB/s\n",
      "2023-07-25 16:23:42.919761: I tensorflow/core/common_runtime/gpu/gpu_device.cc:1720] Found device 1 with properties: \n",
      "pciBusID: 0000:09:00.0 name: NVIDIA GeForce GTX 1070 computeCapability: 6.1\n",
      "coreClock: 1.683GHz coreCount: 15 deviceMemorySize: 7.92GiB deviceMemoryBandwidth: 238.66GiB/s\n",
      "2023-07-25 16:23:42.922928: I tensorflow/core/common_runtime/gpu/gpu_device.cc:1720] Found device 2 with properties: \n",
      "pciBusID: 0000:0b:00.0 name: NVIDIA GeForce GTX 1070 computeCapability: 6.1\n",
      "coreClock: 1.683GHz coreCount: 15 deviceMemorySize: 7.92GiB deviceMemoryBandwidth: 238.66GiB/s\n",
      "2023-07-25 16:23:42.922990: I tensorflow/stream_executor/platform/default/dso_loader.cc:49] Successfully opened dynamic library libcudart.so.10.1\n",
      "2023-07-25 16:23:42.923020: I tensorflow/stream_executor/platform/default/dso_loader.cc:49] Successfully opened dynamic library libcublas.so.10\n",
      "2023-07-25 16:23:42.923044: I tensorflow/stream_executor/platform/default/dso_loader.cc:49] Successfully opened dynamic library libcublasLt.so.10\n",
      "2023-07-25 16:23:42.923067: I tensorflow/stream_executor/platform/default/dso_loader.cc:49] Successfully opened dynamic library libcufft.so.10\n",
      "2023-07-25 16:23:42.923105: I tensorflow/stream_executor/platform/default/dso_loader.cc:49] Successfully opened dynamic library libcurand.so.10\n",
      "2023-07-25 16:23:42.923143: I tensorflow/stream_executor/platform/default/dso_loader.cc:49] Successfully opened dynamic library libcusolver.so.10\n",
      "2023-07-25 16:23:42.923167: I tensorflow/stream_executor/platform/default/dso_loader.cc:49] Successfully opened dynamic library libcusparse.so.10\n",
      "2023-07-25 16:23:42.923191: I tensorflow/stream_executor/platform/default/dso_loader.cc:49] Successfully opened dynamic library libcudnn.so.7\n",
      "2023-07-25 16:23:42.924484: I tensorflow/core/common_runtime/gpu/gpu_device.cc:1862] Adding visible gpu devices: 0, 1, 2\n",
      "2023-07-25 16:23:42.924538: I tensorflow/stream_executor/platform/default/dso_loader.cc:49] Successfully opened dynamic library libcudart.so.10.1\n",
      "2023-07-25 16:23:43.900460: I tensorflow/core/common_runtime/gpu/gpu_device.cc:1261] Device interconnect StreamExecutor with strength 1 edge matrix:\n",
      "2023-07-25 16:23:43.900492: I tensorflow/core/common_runtime/gpu/gpu_device.cc:1267]      0 1 2 \n",
      "2023-07-25 16:23:43.900499: I tensorflow/core/common_runtime/gpu/gpu_device.cc:1280] 0:   N Y Y \n",
      "2023-07-25 16:23:43.900503: I tensorflow/core/common_runtime/gpu/gpu_device.cc:1280] 1:   Y N Y \n",
      "2023-07-25 16:23:43.900506: I tensorflow/core/common_runtime/gpu/gpu_device.cc:1280] 2:   Y Y N \n",
      "2023-07-25 16:23:43.901753: I tensorflow/core/common_runtime/gpu/gpu_device.cc:1406] Created TensorFlow device (/job:localhost/replica:0/task:0/device:GPU:0 with 5654 MB memory) -> physical GPU (device: 0, name: NVIDIA GeForce GTX 1070, pci bus id: 0000:05:00.0, compute capability: 6.1)\n",
      "2023-07-25 16:23:43.902574: I tensorflow/core/common_runtime/gpu/gpu_device.cc:1406] Created TensorFlow device (/job:localhost/replica:0/task:0/device:GPU:1 with 7245 MB memory) -> physical GPU (device: 1, name: NVIDIA GeForce GTX 1070, pci bus id: 0000:09:00.0, compute capability: 6.1)\n",
      "2023-07-25 16:23:43.903310: I tensorflow/core/common_runtime/gpu/gpu_device.cc:1406] Created TensorFlow device (/job:localhost/replica:0/task:0/device:GPU:2 with 7245 MB memory) -> physical GPU (device: 2, name: NVIDIA GeForce GTX 1070, pci bus id: 0000:0b:00.0, compute capability: 6.1)\n",
      "2023-07-25 16:23:43.903570: I tensorflow/compiler/jit/xla_gpu_device.cc:99] Not creating XLA devices, tf_xla_enable_xla_devices not set\n"
     ]
    },
    {
     "name": "stdout",
     "output_type": "stream",
     "text": [
      "Model: \"model\"\n",
      "_________________________________________________________________\n",
      "Layer (type)                 Output Shape              Param #   \n",
      "=================================================================\n",
      "input_1 (InputLayer)         [(None, 16, 1)]           0         \n",
      "_________________________________________________________________\n",
      "conv1d (Conv1D)              (None, 14, 64)            256       \n",
      "_________________________________________________________________\n",
      "batch_normalization (BatchNo (None, 14, 64)            256       \n",
      "_________________________________________________________________\n",
      "conv1d_1 (Conv1D)            (None, 12, 128)           24704     \n",
      "_________________________________________________________________\n",
      "batch_normalization_1 (Batch (None, 12, 128)           512       \n",
      "_________________________________________________________________\n",
      "conv1d_2 (Conv1D)            (None, 10, 256)           98560     \n",
      "_________________________________________________________________\n",
      "batch_normalization_2 (Batch (None, 10, 256)           1024      \n",
      "_________________________________________________________________\n",
      "conv1d_3 (Conv1D)            (None, 8, 512)            393728    \n",
      "_________________________________________________________________\n",
      "batch_normalization_3 (Batch (None, 8, 512)            2048      \n",
      "_________________________________________________________________\n",
      "conv1d_4 (Conv1D)            (None, 6, 256)            393472    \n",
      "_________________________________________________________________\n",
      "batch_normalization_4 (Batch (None, 6, 256)            1024      \n",
      "_________________________________________________________________\n",
      "conv1d_5 (Conv1D)            (None, 4, 128)            98432     \n",
      "_________________________________________________________________\n",
      "batch_normalization_5 (Batch (None, 4, 128)            512       \n",
      "_________________________________________________________________\n",
      "conv1d_6 (Conv1D)            (None, 2, 64)             24640     \n",
      "_________________________________________________________________\n",
      "batch_normalization_6 (Batch (None, 2, 64)             256       \n",
      "_________________________________________________________________\n",
      "flatten (Flatten)            (None, 128)               0         \n",
      "_________________________________________________________________\n",
      "dense (Dense)                (None, 128)               16512     \n",
      "_________________________________________________________________\n",
      "dense_1 (Dense)              (None, 128)               16512     \n",
      "=================================================================\n",
      "Total params: 1,072,448\n",
      "Trainable params: 1,069,632\n",
      "Non-trainable params: 2,816\n",
      "_________________________________________________________________\n"
     ]
    }
   ],
   "source": [
    "from tensorflow.keras.regularizers import l1, l2,L1L2\n",
    "from keras.optimizers import SGD\n",
    "initializer = tf.keras.initializers.GlorotNormal()\n",
    "# l1_regularization = 0.3\n",
    "# l2_regularization = 0.1 ,,kernel_regularizer=l1_l2(lamda)\n",
    "lamda =1e-7\n",
    "# activity_regularizer=l2(l2_regularization)\n",
    "with tf.device('/device:GPU:2'):\n",
    "    \n",
    "         \n",
    "    iput = Input(shape=(16,1))\n",
    "\n",
    "    conv1 = Conv1D(filters=64, kernel_size=3, activation='relu',kernel_regularizer=L1L2(lamda))(iput)\n",
    "    #    conv1 = MaxPooling1D(pool_size=2)(conv1)\n",
    "    conv1 = BatchNormalization()(conv1)\n",
    "    conv2 = Conv1D(filters=128, kernel_size=3, activation='relu',kernel_regularizer=L1L2(lamda))(conv1)\n",
    "    conv2 = BatchNormalization()(conv2)\n",
    "    #     conv2 = MaxPooling1D(pool_size=2)(conv2)\n",
    "    conv3 = Conv1D(filters=256, kernel_size=3, activation='relu',kernel_regularizer=L1L2(lamda))(conv2)\n",
    "    conv3 = BatchNormalization()(conv3)\n",
    "    #     conv3 = MaxPooling1D(pool_size=2)(conv3)\n",
    "    conv4 = Conv1D(filters=512, kernel_size=3, activation='relu',kernel_regularizer=L1L2(lamda))(conv3)\n",
    "    conv4 = BatchNormalization()(conv4)\n",
    "    #     conv4 = Dropout(0.3)(conv4)\n",
    "    #     conv4 = MaxPooling1D(pool_size=2)(conv4)\n",
    "    conv5 = Conv1D(filters=256, kernel_size=3, activation='relu',kernel_regularizer=L1L2(lamda))(conv4)\n",
    "    conv5 = BatchNormalization()(conv5)\n",
    "    #     conv5 = Dropout(0.3)(conv5)\n",
    "    #     conv5 = MaxPooling1D(pool_size=2)(conv5)\n",
    "    conv6 = Conv1D(filters=128, kernel_size=3, activation='relu',kernel_regularizer=L1L2(lamda))(conv5)\n",
    "    conv6 = BatchNormalization()(conv6)\n",
    "    #     conv6 = MaxPooling1D(pool_size=2)(conv6)\n",
    "    conv7 = Conv1D(filters=64, kernel_size=3, activation='relu',kernel_regularizer=L1L2(lamda))(conv6)\n",
    "    conv7 = BatchNormalization()(conv7)\n",
    "    #     conv7= MaxPooling1D(pool_size=2)(conv7)\n",
    "    F = Flatten()(conv7)\n",
    "\n",
    "    dens1 = Dense(128, activation='relu',kernel_initializer=initializer,kernel_regularizer=L1L2(lamda))(F)\n",
    "    #     dens1= BatchNormalization()(dens1)\n",
    "    densf = Dense(128, activation='linear')(dens1)\n",
    "    oput=densf\n",
    "\n",
    "\n",
    "    model3 = Model(inputs=iput, outputs = oput)\n",
    "\n",
    "\n",
    "    model3.summary()\n",
    "    #     opt = SGD(learning_rate=0.001, momentum=0.99)\n",
    "    model3.compile(optimizer = 'adam',\n",
    "                    loss=['mse'],\n",
    "                    metrics=['mse'])\n",
    "        "
   ]
  },
  {
   "cell_type": "code",
   "execution_count": 27,
   "metadata": {},
   "outputs": [
    {
     "name": "stderr",
     "output_type": "stream",
     "text": [
      "2023-07-25 16:23:52.375161: I tensorflow/compiler/mlir/mlir_graph_optimization_pass.cc:116] None of the MLIR optimization passes are enabled (registered 2)\n",
      "2023-07-25 16:23:52.375598: I tensorflow/core/platform/profile_utils/cpu_utils.cc:112] CPU Frequency: 2998255000 Hz\n"
     ]
    },
    {
     "name": "stdout",
     "output_type": "stream",
     "text": [
      "Epoch 1/5000\n"
     ]
    },
    {
     "name": "stderr",
     "output_type": "stream",
     "text": [
      "2023-07-25 16:23:54.063507: I tensorflow/stream_executor/platform/default/dso_loader.cc:49] Successfully opened dynamic library libcublas.so.10\n",
      "2023-07-25 16:23:54.205843: I tensorflow/stream_executor/platform/default/dso_loader.cc:49] Successfully opened dynamic library libcudnn.so.7\n"
     ]
    },
    {
     "name": "stdout",
     "output_type": "stream",
     "text": [
      "52/52 [==============================] - 4s 23ms/step - loss: 0.4607 - mse: 0.4576 - val_loss: 0.2749 - val_mse: 0.2718\n",
      "Epoch 2/5000\n",
      "52/52 [==============================] - 1s 14ms/step - loss: 0.0447 - mse: 0.0416 - val_loss: 0.1605 - val_mse: 0.1573\n",
      "Epoch 3/5000\n",
      "52/52 [==============================] - 1s 14ms/step - loss: 0.0402 - mse: 0.0371 - val_loss: 0.1144 - val_mse: 0.1113\n",
      "Epoch 4/5000\n",
      "52/52 [==============================] - 1s 14ms/step - loss: 0.0387 - mse: 0.0356 - val_loss: 0.1023 - val_mse: 0.0992\n",
      "Epoch 5/5000\n",
      "52/52 [==============================] - 1s 13ms/step - loss: 0.0373 - mse: 0.0342 - val_loss: 0.0709 - val_mse: 0.0678\n",
      "Epoch 6/5000\n",
      "52/52 [==============================] - 1s 13ms/step - loss: 0.0374 - mse: 0.0343 - val_loss: 0.0599 - val_mse: 0.0568\n",
      "Epoch 7/5000\n",
      "52/52 [==============================] - 1s 12ms/step - loss: 0.0364 - mse: 0.0333 - val_loss: 0.0504 - val_mse: 0.0473\n",
      "Epoch 8/5000\n",
      "52/52 [==============================] - 1s 13ms/step - loss: 0.0355 - mse: 0.0324 - val_loss: 0.0455 - val_mse: 0.0424\n",
      "Epoch 9/5000\n",
      "52/52 [==============================] - 1s 14ms/step - loss: 0.0351 - mse: 0.0320 - val_loss: 0.0426 - val_mse: 0.0395\n",
      "Epoch 10/5000\n",
      "52/52 [==============================] - 1s 14ms/step - loss: 0.0344 - mse: 0.0313 - val_loss: 0.0433 - val_mse: 0.0403\n",
      "Epoch 11/5000\n",
      "52/52 [==============================] - 1s 14ms/step - loss: 0.0324 - mse: 0.0294 - val_loss: 0.0405 - val_mse: 0.0375\n",
      "Epoch 12/5000\n",
      "52/52 [==============================] - 1s 14ms/step - loss: 0.0316 - mse: 0.0286 - val_loss: 0.0388 - val_mse: 0.0357\n",
      "Epoch 13/5000\n",
      "52/52 [==============================] - 1s 14ms/step - loss: 0.0316 - mse: 0.0285 - val_loss: 0.0375 - val_mse: 0.0344\n",
      "Epoch 14/5000\n",
      "52/52 [==============================] - 1s 14ms/step - loss: 0.0299 - mse: 0.0268 - val_loss: 0.0348 - val_mse: 0.0317\n",
      "Epoch 15/5000\n",
      "52/52 [==============================] - 1s 15ms/step - loss: 0.0306 - mse: 0.0275 - val_loss: 0.0345 - val_mse: 0.0314\n",
      "Epoch 16/5000\n",
      "52/52 [==============================] - 1s 15ms/step - loss: 0.0301 - mse: 0.0270 - val_loss: 0.0306 - val_mse: 0.0276\n",
      "Epoch 17/5000\n",
      "52/52 [==============================] - 1s 15ms/step - loss: 0.0276 - mse: 0.0245 - val_loss: 0.0334 - val_mse: 0.0303\n",
      "Epoch 18/5000\n",
      "52/52 [==============================] - 1s 16ms/step - loss: 0.0280 - mse: 0.0250 - val_loss: 0.0315 - val_mse: 0.0284\n",
      "Epoch 19/5000\n",
      "52/52 [==============================] - 1s 16ms/step - loss: 0.0274 - mse: 0.0243 - val_loss: 0.0315 - val_mse: 0.0284\n",
      "Epoch 20/5000\n",
      "52/52 [==============================] - 1s 14ms/step - loss: 0.0275 - mse: 0.0244 - val_loss: 0.0310 - val_mse: 0.0280\n",
      "Epoch 21/5000\n",
      "52/52 [==============================] - 1s 15ms/step - loss: 0.0270 - mse: 0.0239 - val_loss: 0.0308 - val_mse: 0.0277\n",
      "Epoch 22/5000\n",
      "52/52 [==============================] - 1s 15ms/step - loss: 0.0254 - mse: 0.0223 - val_loss: 0.0327 - val_mse: 0.0296\n",
      "Epoch 23/5000\n",
      "52/52 [==============================] - 1s 14ms/step - loss: 0.0258 - mse: 0.0228 - val_loss: 0.0314 - val_mse: 0.0283\n",
      "Epoch 24/5000\n",
      "52/52 [==============================] - 1s 15ms/step - loss: 0.0251 - mse: 0.0220 - val_loss: 0.0302 - val_mse: 0.0271\n",
      "Epoch 25/5000\n",
      "52/52 [==============================] - 1s 15ms/step - loss: 0.0236 - mse: 0.0205 - val_loss: 0.0294 - val_mse: 0.0263\n",
      "Epoch 26/5000\n",
      "52/52 [==============================] - 1s 15ms/step - loss: 0.0241 - mse: 0.0210 - val_loss: 0.0305 - val_mse: 0.0274\n",
      "Epoch 27/5000\n",
      "52/52 [==============================] - 1s 15ms/step - loss: 0.0231 - mse: 0.0200 - val_loss: 0.0287 - val_mse: 0.0256\n",
      "Epoch 28/5000\n",
      "52/52 [==============================] - 1s 15ms/step - loss: 0.0218 - mse: 0.0187 - val_loss: 0.0286 - val_mse: 0.0255\n",
      "Epoch 29/5000\n",
      "52/52 [==============================] - 1s 15ms/step - loss: 0.0216 - mse: 0.0185 - val_loss: 0.0311 - val_mse: 0.0280\n",
      "Epoch 30/5000\n",
      "52/52 [==============================] - 1s 15ms/step - loss: 0.0209 - mse: 0.0178 - val_loss: 0.0264 - val_mse: 0.0233\n",
      "Epoch 31/5000\n",
      "52/52 [==============================] - 1s 16ms/step - loss: 0.0208 - mse: 0.0177 - val_loss: 0.0295 - val_mse: 0.0264\n",
      "Epoch 32/5000\n",
      "52/52 [==============================] - 1s 14ms/step - loss: 0.0199 - mse: 0.0167 - val_loss: 0.0288 - val_mse: 0.0256\n",
      "Epoch 33/5000\n",
      "52/52 [==============================] - 1s 15ms/step - loss: 0.0198 - mse: 0.0167 - val_loss: 0.0298 - val_mse: 0.0267\n",
      "Epoch 34/5000\n",
      "52/52 [==============================] - 1s 14ms/step - loss: 0.0193 - mse: 0.0162 - val_loss: 0.0320 - val_mse: 0.0288\n",
      "Epoch 35/5000\n",
      "52/52 [==============================] - 1s 14ms/step - loss: 0.0179 - mse: 0.0148 - val_loss: 0.0262 - val_mse: 0.0231\n",
      "Epoch 36/5000\n",
      "52/52 [==============================] - 1s 14ms/step - loss: 0.0176 - mse: 0.0144 - val_loss: 0.0255 - val_mse: 0.0223\n",
      "Epoch 37/5000\n",
      "52/52 [==============================] - 1s 15ms/step - loss: 0.0168 - mse: 0.0137 - val_loss: 0.0263 - val_mse: 0.0231\n",
      "Epoch 38/5000\n",
      "52/52 [==============================] - 1s 14ms/step - loss: 0.0155 - mse: 0.0123 - val_loss: 0.0252 - val_mse: 0.0220\n",
      "Epoch 39/5000\n",
      "52/52 [==============================] - 1s 15ms/step - loss: 0.0151 - mse: 0.0120 - val_loss: 0.0267 - val_mse: 0.0235\n",
      "Epoch 40/5000\n",
      "52/52 [==============================] - 1s 15ms/step - loss: 0.0151 - mse: 0.0119 - val_loss: 0.0260 - val_mse: 0.0228\n",
      "Epoch 41/5000\n",
      "52/52 [==============================] - 1s 14ms/step - loss: 0.0151 - mse: 0.0120 - val_loss: 0.0254 - val_mse: 0.0223\n",
      "Epoch 42/5000\n",
      "52/52 [==============================] - 1s 13ms/step - loss: 0.0142 - mse: 0.0111 - val_loss: 0.0245 - val_mse: 0.0213\n",
      "Epoch 43/5000\n",
      "52/52 [==============================] - 1s 16ms/step - loss: 0.0138 - mse: 0.0106 - val_loss: 0.0241 - val_mse: 0.0209\n",
      "Epoch 44/5000\n",
      "52/52 [==============================] - 1s 15ms/step - loss: 0.0134 - mse: 0.0102 - val_loss: 0.0237 - val_mse: 0.0205\n",
      "Epoch 45/5000\n",
      "52/52 [==============================] - 1s 15ms/step - loss: 0.0128 - mse: 0.0096 - val_loss: 0.0249 - val_mse: 0.0218\n",
      "Epoch 46/5000\n",
      "52/52 [==============================] - 1s 15ms/step - loss: 0.0126 - mse: 0.0095 - val_loss: 0.0228 - val_mse: 0.0196\n",
      "Epoch 47/5000\n",
      "52/52 [==============================] - 1s 15ms/step - loss: 0.0118 - mse: 0.0086 - val_loss: 0.0226 - val_mse: 0.0194\n",
      "Epoch 48/5000\n",
      "52/52 [==============================] - 1s 15ms/step - loss: 0.0129 - mse: 0.0097 - val_loss: 0.0239 - val_mse: 0.0207\n",
      "Epoch 49/5000\n",
      "52/52 [==============================] - 1s 15ms/step - loss: 0.0116 - mse: 0.0084 - val_loss: 0.0227 - val_mse: 0.0195\n",
      "Epoch 50/5000\n",
      "52/52 [==============================] - 1s 16ms/step - loss: 0.0108 - mse: 0.0076 - val_loss: 0.0217 - val_mse: 0.0184\n",
      "Epoch 51/5000\n",
      "52/52 [==============================] - 1s 15ms/step - loss: 0.0105 - mse: 0.0073 - val_loss: 0.0218 - val_mse: 0.0186\n",
      "Epoch 52/5000\n",
      "52/52 [==============================] - 1s 15ms/step - loss: 0.0105 - mse: 0.0073 - val_loss: 0.0225 - val_mse: 0.0193\n",
      "Epoch 53/5000\n",
      "52/52 [==============================] - 1s 15ms/step - loss: 0.0103 - mse: 0.0071 - val_loss: 0.0218 - val_mse: 0.0186\n",
      "Epoch 54/5000\n",
      "52/52 [==============================] - 1s 14ms/step - loss: 0.0098 - mse: 0.0066 - val_loss: 0.0212 - val_mse: 0.0180\n",
      "Epoch 55/5000\n",
      "52/52 [==============================] - 1s 14ms/step - loss: 0.0094 - mse: 0.0062 - val_loss: 0.0224 - val_mse: 0.0192\n",
      "Epoch 56/5000\n",
      "52/52 [==============================] - 1s 15ms/step - loss: 0.0095 - mse: 0.0063 - val_loss: 0.0234 - val_mse: 0.0202\n",
      "Epoch 57/5000\n",
      "52/52 [==============================] - 1s 14ms/step - loss: 0.0096 - mse: 0.0064 - val_loss: 0.0219 - val_mse: 0.0187\n",
      "Epoch 58/5000\n",
      "52/52 [==============================] - 1s 14ms/step - loss: 0.0092 - mse: 0.0059 - val_loss: 0.0214 - val_mse: 0.0182\n",
      "Epoch 59/5000\n",
      "52/52 [==============================] - 1s 15ms/step - loss: 0.0089 - mse: 0.0056 - val_loss: 0.0205 - val_mse: 0.0173\n",
      "Epoch 60/5000\n",
      "52/52 [==============================] - 1s 15ms/step - loss: 0.0091 - mse: 0.0059 - val_loss: 0.0217 - val_mse: 0.0185\n",
      "Epoch 61/5000\n",
      "52/52 [==============================] - 1s 15ms/step - loss: 0.0091 - mse: 0.0059 - val_loss: 0.0217 - val_mse: 0.0185\n",
      "Epoch 62/5000\n"
     ]
    },
    {
     "name": "stdout",
     "output_type": "stream",
     "text": [
      "52/52 [==============================] - 1s 13ms/step - loss: 0.0085 - mse: 0.0052 - val_loss: 0.0208 - val_mse: 0.0176\n",
      "Epoch 63/5000\n",
      "52/52 [==============================] - 1s 14ms/step - loss: 0.0082 - mse: 0.0049 - val_loss: 0.0208 - val_mse: 0.0176\n",
      "Epoch 64/5000\n",
      "52/52 [==============================] - 1s 14ms/step - loss: 0.0082 - mse: 0.0050 - val_loss: 0.0205 - val_mse: 0.0173\n",
      "Epoch 65/5000\n",
      "52/52 [==============================] - 1s 13ms/step - loss: 0.0082 - mse: 0.0050 - val_loss: 0.0204 - val_mse: 0.0172\n",
      "Epoch 66/5000\n",
      "52/52 [==============================] - 1s 13ms/step - loss: 0.0080 - mse: 0.0048 - val_loss: 0.0207 - val_mse: 0.0175\n",
      "Epoch 67/5000\n",
      "52/52 [==============================] - 1s 14ms/step - loss: 0.0081 - mse: 0.0049 - val_loss: 0.0206 - val_mse: 0.0174\n",
      "Epoch 68/5000\n",
      "52/52 [==============================] - 1s 15ms/step - loss: 0.0086 - mse: 0.0054 - val_loss: 0.0210 - val_mse: 0.0178\n",
      "Epoch 69/5000\n",
      "52/52 [==============================] - 1s 14ms/step - loss: 0.0080 - mse: 0.0048 - val_loss: 0.0199 - val_mse: 0.0167\n",
      "Epoch 70/5000\n",
      "52/52 [==============================] - 1s 16ms/step - loss: 0.0081 - mse: 0.0049 - val_loss: 0.0216 - val_mse: 0.0184\n",
      "Epoch 71/5000\n",
      "52/52 [==============================] - 1s 15ms/step - loss: 0.0080 - mse: 0.0048 - val_loss: 0.0220 - val_mse: 0.0188\n",
      "Epoch 72/5000\n",
      "52/52 [==============================] - 1s 15ms/step - loss: 0.0083 - mse: 0.0051 - val_loss: 0.0212 - val_mse: 0.0180\n",
      "Epoch 73/5000\n",
      "52/52 [==============================] - 1s 14ms/step - loss: 0.0076 - mse: 0.0044 - val_loss: 0.0211 - val_mse: 0.0179\n",
      "Epoch 74/5000\n",
      "52/52 [==============================] - 1s 14ms/step - loss: 0.0080 - mse: 0.0048 - val_loss: 0.0199 - val_mse: 0.0167\n",
      "Epoch 75/5000\n",
      "52/52 [==============================] - 1s 16ms/step - loss: 0.0082 - mse: 0.0050 - val_loss: 0.0206 - val_mse: 0.0174\n",
      "Epoch 76/5000\n",
      "52/52 [==============================] - 1s 15ms/step - loss: 0.0076 - mse: 0.0044 - val_loss: 0.0200 - val_mse: 0.0168\n",
      "Epoch 77/5000\n",
      "52/52 [==============================] - 1s 15ms/step - loss: 0.0071 - mse: 0.0039 - val_loss: 0.0199 - val_mse: 0.0167\n",
      "Epoch 78/5000\n",
      "52/52 [==============================] - 1s 14ms/step - loss: 0.0071 - mse: 0.0039 - val_loss: 0.0224 - val_mse: 0.0192\n",
      "Epoch 79/5000\n",
      "52/52 [==============================] - 1s 15ms/step - loss: 0.0076 - mse: 0.0044 - val_loss: 0.0210 - val_mse: 0.0178\n",
      "Epoch 80/5000\n",
      "52/52 [==============================] - 1s 14ms/step - loss: 0.0078 - mse: 0.0046 - val_loss: 0.0202 - val_mse: 0.0170\n",
      "Epoch 81/5000\n",
      "52/52 [==============================] - 1s 14ms/step - loss: 0.0079 - mse: 0.0047 - val_loss: 0.0202 - val_mse: 0.0170\n",
      "Epoch 82/5000\n",
      "52/52 [==============================] - 1s 16ms/step - loss: 0.0075 - mse: 0.0042 - val_loss: 0.0199 - val_mse: 0.0167\n",
      "Epoch 83/5000\n",
      "52/52 [==============================] - 1s 15ms/step - loss: 0.0072 - mse: 0.0040 - val_loss: 0.0204 - val_mse: 0.0172\n",
      "Epoch 84/5000\n",
      "52/52 [==============================] - 1s 15ms/step - loss: 0.0068 - mse: 0.0036 - val_loss: 0.0245 - val_mse: 0.0213\n",
      "Epoch 85/5000\n",
      "52/52 [==============================] - 1s 16ms/step - loss: 0.0137 - mse: 0.0105 - val_loss: 0.0360 - val_mse: 0.0327\n",
      "Epoch 86/5000\n",
      "52/52 [==============================] - 1s 14ms/step - loss: 0.0118 - mse: 0.0085 - val_loss: 0.0241 - val_mse: 0.0208\n",
      "Epoch 87/5000\n",
      "52/52 [==============================] - 1s 13ms/step - loss: 0.0092 - mse: 0.0058 - val_loss: 0.0209 - val_mse: 0.0175\n",
      "Epoch 88/5000\n",
      "52/52 [==============================] - 1s 15ms/step - loss: 0.0080 - mse: 0.0047 - val_loss: 0.0224 - val_mse: 0.0191\n",
      "Epoch 89/5000\n",
      "52/52 [==============================] - 1s 15ms/step - loss: 0.0074 - mse: 0.0040 - val_loss: 0.0205 - val_mse: 0.0172\n",
      "Epoch 90/5000\n",
      "52/52 [==============================] - 1s 14ms/step - loss: 0.0070 - mse: 0.0036 - val_loss: 0.0205 - val_mse: 0.0171\n",
      "Epoch 91/5000\n",
      "52/52 [==============================] - 1s 15ms/step - loss: 0.0068 - mse: 0.0035 - val_loss: 0.0199 - val_mse: 0.0166\n",
      "Epoch 92/5000\n",
      "52/52 [==============================] - 1s 15ms/step - loss: 0.0070 - mse: 0.0036 - val_loss: 0.0193 - val_mse: 0.0160\n",
      "Epoch 93/5000\n",
      "52/52 [==============================] - 1s 14ms/step - loss: 0.0063 - mse: 0.0030 - val_loss: 0.0197 - val_mse: 0.0164\n",
      "Epoch 94/5000\n",
      "52/52 [==============================] - 1s 14ms/step - loss: 0.0076 - mse: 0.0043 - val_loss: 0.0196 - val_mse: 0.0163\n",
      "Epoch 95/5000\n",
      "52/52 [==============================] - 1s 15ms/step - loss: 0.0067 - mse: 0.0035 - val_loss: 0.0191 - val_mse: 0.0158\n",
      "Epoch 96/5000\n",
      "52/52 [==============================] - 1s 15ms/step - loss: 0.0064 - mse: 0.0031 - val_loss: 0.0194 - val_mse: 0.0161\n",
      "Epoch 97/5000\n",
      "52/52 [==============================] - 1s 14ms/step - loss: 0.0064 - mse: 0.0032 - val_loss: 0.0192 - val_mse: 0.0159\n",
      "Epoch 98/5000\n",
      "52/52 [==============================] - 1s 14ms/step - loss: 0.0063 - mse: 0.0030 - val_loss: 0.0191 - val_mse: 0.0158\n",
      "Epoch 99/5000\n",
      "52/52 [==============================] - 1s 15ms/step - loss: 0.0062 - mse: 0.0030 - val_loss: 0.0199 - val_mse: 0.0167\n",
      "Epoch 100/5000\n",
      "52/52 [==============================] - 1s 16ms/step - loss: 0.0060 - mse: 0.0028 - val_loss: 0.0185 - val_mse: 0.0153\n",
      "Epoch 101/5000\n",
      "52/52 [==============================] - 1s 16ms/step - loss: 0.0058 - mse: 0.0026 - val_loss: 0.0192 - val_mse: 0.0160\n",
      "Epoch 102/5000\n",
      "52/52 [==============================] - 1s 15ms/step - loss: 0.0067 - mse: 0.0035 - val_loss: 0.0191 - val_mse: 0.0159\n",
      "Epoch 103/5000\n",
      "52/52 [==============================] - 1s 16ms/step - loss: 0.0068 - mse: 0.0036 - val_loss: 0.0197 - val_mse: 0.0165\n",
      "Epoch 104/5000\n",
      "52/52 [==============================] - 1s 15ms/step - loss: 0.0065 - mse: 0.0033 - val_loss: 0.0193 - val_mse: 0.0161\n",
      "Epoch 105/5000\n",
      "52/52 [==============================] - 1s 15ms/step - loss: 0.0061 - mse: 0.0029 - val_loss: 0.0197 - val_mse: 0.0165\n",
      "Epoch 106/5000\n",
      "52/52 [==============================] - 1s 15ms/step - loss: 0.0063 - mse: 0.0031 - val_loss: 0.0189 - val_mse: 0.0157\n",
      "Epoch 107/5000\n",
      "52/52 [==============================] - 1s 15ms/step - loss: 0.0059 - mse: 0.0027 - val_loss: 0.0192 - val_mse: 0.0160\n",
      "Epoch 108/5000\n",
      "52/52 [==============================] - 1s 14ms/step - loss: 0.0059 - mse: 0.0028 - val_loss: 0.0200 - val_mse: 0.0168\n",
      "Epoch 109/5000\n",
      "52/52 [==============================] - 1s 14ms/step - loss: 0.0062 - mse: 0.0031 - val_loss: 0.0192 - val_mse: 0.0161\n",
      "Epoch 110/5000\n",
      "52/52 [==============================] - 1s 15ms/step - loss: 0.0065 - mse: 0.0033 - val_loss: 0.0195 - val_mse: 0.0164\n",
      "Epoch 111/5000\n",
      "52/52 [==============================] - 1s 15ms/step - loss: 0.0061 - mse: 0.0029 - val_loss: 0.0192 - val_mse: 0.0160\n",
      "Epoch 112/5000\n",
      "52/52 [==============================] - 1s 15ms/step - loss: 0.0061 - mse: 0.0029 - val_loss: 0.0190 - val_mse: 0.0158\n",
      "Epoch 113/5000\n",
      "52/52 [==============================] - 1s 14ms/step - loss: 0.0060 - mse: 0.0029 - val_loss: 0.0194 - val_mse: 0.0163\n",
      "Epoch 114/5000\n",
      "52/52 [==============================] - 1s 15ms/step - loss: 0.0065 - mse: 0.0033 - val_loss: 0.0218 - val_mse: 0.0186\n",
      "Epoch 115/5000\n",
      "52/52 [==============================] - 1s 16ms/step - loss: 0.0113 - mse: 0.0081 - val_loss: 0.0228 - val_mse: 0.0195\n",
      "Epoch 116/5000\n",
      "52/52 [==============================] - 1s 15ms/step - loss: 0.0095 - mse: 0.0062 - val_loss: 0.0209 - val_mse: 0.0175\n",
      "Epoch 117/5000\n",
      "52/52 [==============================] - 1s 13ms/step - loss: 0.0083 - mse: 0.0050 - val_loss: 0.0210 - val_mse: 0.0176\n",
      "Epoch 118/5000\n",
      "52/52 [==============================] - 1s 14ms/step - loss: 0.0073 - mse: 0.0040 - val_loss: 0.0213 - val_mse: 0.0180\n",
      "Epoch 119/5000\n",
      "52/52 [==============================] - 1s 15ms/step - loss: 0.0069 - mse: 0.0036 - val_loss: 0.0200 - val_mse: 0.0167\n",
      "Epoch 120/5000\n",
      "52/52 [==============================] - 1s 15ms/step - loss: 0.0063 - mse: 0.0029 - val_loss: 0.0190 - val_mse: 0.0157\n",
      "Epoch 121/5000\n",
      "52/52 [==============================] - 1s 15ms/step - loss: 0.0059 - mse: 0.0025 - val_loss: 0.0187 - val_mse: 0.0154\n",
      "Epoch 122/5000\n",
      "52/52 [==============================] - 1s 15ms/step - loss: 0.0060 - mse: 0.0027 - val_loss: 0.0189 - val_mse: 0.0156\n",
      "Epoch 123/5000\n"
     ]
    },
    {
     "name": "stdout",
     "output_type": "stream",
     "text": [
      "52/52 [==============================] - 1s 15ms/step - loss: 0.0060 - mse: 0.0027 - val_loss: 0.0191 - val_mse: 0.0158\n",
      "Epoch 124/5000\n",
      "52/52 [==============================] - 1s 15ms/step - loss: 0.0060 - mse: 0.0027 - val_loss: 0.0185 - val_mse: 0.0153\n",
      "Epoch 125/5000\n",
      "52/52 [==============================] - 1s 15ms/step - loss: 0.0058 - mse: 0.0025 - val_loss: 0.0187 - val_mse: 0.0155\n",
      "Epoch 126/5000\n",
      "52/52 [==============================] - 1s 15ms/step - loss: 0.0057 - mse: 0.0025 - val_loss: 0.0193 - val_mse: 0.0161\n",
      "Epoch 127/5000\n",
      "52/52 [==============================] - 1s 15ms/step - loss: 0.0058 - mse: 0.0026 - val_loss: 0.0199 - val_mse: 0.0167\n",
      "Epoch 128/5000\n",
      "52/52 [==============================] - 1s 14ms/step - loss: 0.0067 - mse: 0.0035 - val_loss: 0.0191 - val_mse: 0.0159\n",
      "Epoch 129/5000\n",
      "52/52 [==============================] - 1s 14ms/step - loss: 0.0060 - mse: 0.0028 - val_loss: 0.0204 - val_mse: 0.0172\n",
      "Epoch 130/5000\n",
      "52/52 [==============================] - 1s 15ms/step - loss: 0.0058 - mse: 0.0026 - val_loss: 0.0194 - val_mse: 0.0162\n",
      "Epoch 131/5000\n",
      "52/52 [==============================] - 1s 15ms/step - loss: 0.0057 - mse: 0.0025 - val_loss: 0.0190 - val_mse: 0.0159\n",
      "Epoch 132/5000\n",
      "52/52 [==============================] - 1s 14ms/step - loss: 0.0060 - mse: 0.0028 - val_loss: 0.0187 - val_mse: 0.0155\n",
      "Epoch 133/5000\n",
      "52/52 [==============================] - 1s 13ms/step - loss: 0.0056 - mse: 0.0024 - val_loss: 0.0183 - val_mse: 0.0151\n",
      "Epoch 134/5000\n",
      "52/52 [==============================] - 1s 13ms/step - loss: 0.0058 - mse: 0.0026 - val_loss: 0.0184 - val_mse: 0.0152\n",
      "Epoch 135/5000\n",
      "52/52 [==============================] - 1s 12ms/step - loss: 0.0057 - mse: 0.0025 - val_loss: 0.0186 - val_mse: 0.0155\n",
      "Epoch 136/5000\n",
      "52/52 [==============================] - 1s 14ms/step - loss: 0.0056 - mse: 0.0025 - val_loss: 0.0188 - val_mse: 0.0156\n",
      "Epoch 137/5000\n",
      "52/52 [==============================] - 1s 15ms/step - loss: 0.0059 - mse: 0.0028 - val_loss: 0.0200 - val_mse: 0.0169\n",
      "Epoch 138/5000\n",
      "52/52 [==============================] - 1s 15ms/step - loss: 0.0057 - mse: 0.0026 - val_loss: 0.0185 - val_mse: 0.0154\n",
      "Epoch 139/5000\n",
      "52/52 [==============================] - 1s 14ms/step - loss: 0.0059 - mse: 0.0028 - val_loss: 0.0186 - val_mse: 0.0155\n",
      "Epoch 140/5000\n",
      "52/52 [==============================] - 1s 12ms/step - loss: 0.0058 - mse: 0.0026 - val_loss: 0.0192 - val_mse: 0.0160\n",
      "Epoch 141/5000\n",
      "52/52 [==============================] - 1s 14ms/step - loss: 0.0058 - mse: 0.0027 - val_loss: 0.0186 - val_mse: 0.0155\n",
      "Epoch 142/5000\n",
      "52/52 [==============================] - 1s 15ms/step - loss: 0.0056 - mse: 0.0025 - val_loss: 0.0200 - val_mse: 0.0169\n",
      "Epoch 143/5000\n",
      "52/52 [==============================] - 1s 15ms/step - loss: 0.0066 - mse: 0.0035 - val_loss: 0.0187 - val_mse: 0.0156\n",
      "Epoch 144/5000\n",
      "52/52 [==============================] - 1s 15ms/step - loss: 0.0058 - mse: 0.0027 - val_loss: 0.0186 - val_mse: 0.0155\n",
      "Epoch 145/5000\n",
      "52/52 [==============================] - 1s 15ms/step - loss: 0.0063 - mse: 0.0032 - val_loss: 0.0199 - val_mse: 0.0168\n",
      "Epoch 146/5000\n",
      "52/52 [==============================] - 1s 15ms/step - loss: 0.0064 - mse: 0.0033 - val_loss: 0.0187 - val_mse: 0.0156\n",
      "Epoch 147/5000\n",
      "52/52 [==============================] - 1s 13ms/step - loss: 0.0061 - mse: 0.0029 - val_loss: 0.0190 - val_mse: 0.0158\n",
      "Epoch 148/5000\n",
      "52/52 [==============================] - 1s 12ms/step - loss: 0.0058 - mse: 0.0026 - val_loss: 0.0189 - val_mse: 0.0158\n",
      "Epoch 149/5000\n",
      "52/52 [==============================] - 1s 14ms/step - loss: 0.0055 - mse: 0.0024 - val_loss: 0.0190 - val_mse: 0.0158\n",
      "Epoch 150/5000\n",
      "52/52 [==============================] - 1s 13ms/step - loss: 0.0054 - mse: 0.0023 - val_loss: 0.0187 - val_mse: 0.0156\n",
      "Epoch 151/5000\n",
      "52/52 [==============================] - 1s 13ms/step - loss: 0.0052 - mse: 0.0021 - val_loss: 0.0193 - val_mse: 0.0162\n",
      "Epoch 152/5000\n",
      "52/52 [==============================] - 1s 14ms/step - loss: 0.0054 - mse: 0.0023 - val_loss: 0.0211 - val_mse: 0.0181\n",
      "Epoch 153/5000\n",
      "52/52 [==============================] - 1s 13ms/step - loss: 0.0075 - mse: 0.0044 - val_loss: 0.0195 - val_mse: 0.0163\n",
      "Epoch 154/5000\n",
      "52/52 [==============================] - 1s 15ms/step - loss: 0.0065 - mse: 0.0034 - val_loss: 0.0194 - val_mse: 0.0163\n",
      "Epoch 155/5000\n",
      "52/52 [==============================] - 1s 13ms/step - loss: 0.0062 - mse: 0.0030 - val_loss: 0.0196 - val_mse: 0.0164\n",
      "Epoch 156/5000\n",
      "52/52 [==============================] - 1s 14ms/step - loss: 0.0057 - mse: 0.0026 - val_loss: 0.0183 - val_mse: 0.0152\n",
      "Epoch 157/5000\n",
      "52/52 [==============================] - 1s 15ms/step - loss: 0.0058 - mse: 0.0027 - val_loss: 0.0190 - val_mse: 0.0158\n",
      "Epoch 158/5000\n",
      "52/52 [==============================] - 1s 16ms/step - loss: 0.0056 - mse: 0.0024 - val_loss: 0.0182 - val_mse: 0.0151\n",
      "Epoch 159/5000\n",
      "52/52 [==============================] - 1s 15ms/step - loss: 0.0054 - mse: 0.0022 - val_loss: 0.0182 - val_mse: 0.0151\n",
      "Epoch 160/5000\n",
      "52/52 [==============================] - 1s 16ms/step - loss: 0.0052 - mse: 0.0021 - val_loss: 0.0184 - val_mse: 0.0153\n",
      "Epoch 161/5000\n",
      "52/52 [==============================] - 1s 16ms/step - loss: 0.0054 - mse: 0.0023 - val_loss: 0.0192 - val_mse: 0.0161\n",
      "Epoch 162/5000\n",
      "52/52 [==============================] - 1s 15ms/step - loss: 0.0055 - mse: 0.0024 - val_loss: 0.0180 - val_mse: 0.0149\n",
      "Epoch 163/5000\n",
      "52/52 [==============================] - 1s 16ms/step - loss: 0.0054 - mse: 0.0023 - val_loss: 0.0183 - val_mse: 0.0152\n",
      "Epoch 164/5000\n",
      "52/52 [==============================] - 1s 15ms/step - loss: 0.0052 - mse: 0.0022 - val_loss: 0.0185 - val_mse: 0.0154\n",
      "Epoch 165/5000\n",
      "52/52 [==============================] - 1s 16ms/step - loss: 0.0051 - mse: 0.0021 - val_loss: 0.0182 - val_mse: 0.0152\n",
      "Epoch 166/5000\n",
      "52/52 [==============================] - 1s 15ms/step - loss: 0.0050 - mse: 0.0020 - val_loss: 0.0185 - val_mse: 0.0154\n",
      "Epoch 167/5000\n",
      "52/52 [==============================] - 1s 14ms/step - loss: 0.0054 - mse: 0.0024 - val_loss: 0.0183 - val_mse: 0.0152\n",
      "Epoch 168/5000\n",
      "52/52 [==============================] - 1s 15ms/step - loss: 0.0052 - mse: 0.0022 - val_loss: 0.0182 - val_mse: 0.0152\n",
      "Epoch 169/5000\n",
      "52/52 [==============================] - 1s 15ms/step - loss: 0.0052 - mse: 0.0022 - val_loss: 0.0189 - val_mse: 0.0159\n",
      "Epoch 170/5000\n",
      "52/52 [==============================] - 1s 15ms/step - loss: 0.0050 - mse: 0.0021 - val_loss: 0.0190 - val_mse: 0.0160\n",
      "Epoch 171/5000\n",
      "52/52 [==============================] - 1s 15ms/step - loss: 0.0056 - mse: 0.0026 - val_loss: 0.0190 - val_mse: 0.0160\n",
      "Epoch 172/5000\n",
      "52/52 [==============================] - 1s 15ms/step - loss: 0.0054 - mse: 0.0024 - val_loss: 0.0181 - val_mse: 0.0151\n",
      "Epoch 173/5000\n",
      "52/52 [==============================] - 1s 15ms/step - loss: 0.0053 - mse: 0.0023 - val_loss: 0.0189 - val_mse: 0.0159\n",
      "Epoch 174/5000\n",
      "52/52 [==============================] - 1s 14ms/step - loss: 0.0064 - mse: 0.0034 - val_loss: 0.0192 - val_mse: 0.0161\n",
      "Epoch 175/5000\n",
      "52/52 [==============================] - 1s 15ms/step - loss: 0.0058 - mse: 0.0027 - val_loss: 0.0193 - val_mse: 0.0163\n",
      "Epoch 176/5000\n",
      "52/52 [==============================] - 1s 13ms/step - loss: 0.0056 - mse: 0.0026 - val_loss: 0.0192 - val_mse: 0.0162\n",
      "Epoch 177/5000\n",
      "52/52 [==============================] - 1s 14ms/step - loss: 0.0056 - mse: 0.0025 - val_loss: 0.0195 - val_mse: 0.0164\n",
      "Epoch 178/5000\n",
      "52/52 [==============================] - 1s 14ms/step - loss: 0.0053 - mse: 0.0022 - val_loss: 0.0188 - val_mse: 0.0158\n",
      "Epoch 179/5000\n",
      "52/52 [==============================] - 1s 14ms/step - loss: 0.0055 - mse: 0.0024 - val_loss: 0.0190 - val_mse: 0.0159\n",
      "Epoch 180/5000\n",
      "52/52 [==============================] - 1s 14ms/step - loss: 0.0056 - mse: 0.0025 - val_loss: 0.0194 - val_mse: 0.0164\n",
      "Epoch 181/5000\n",
      "52/52 [==============================] - 1s 15ms/step - loss: 0.0058 - mse: 0.0027 - val_loss: 0.0184 - val_mse: 0.0154\n",
      "Epoch 182/5000\n",
      "52/52 [==============================] - 1s 15ms/step - loss: 0.0057 - mse: 0.0026 - val_loss: 0.0192 - val_mse: 0.0161\n",
      "Epoch 183/5000\n",
      "52/52 [==============================] - 1s 15ms/step - loss: 0.0054 - mse: 0.0024 - val_loss: 0.0183 - val_mse: 0.0153\n"
     ]
    },
    {
     "name": "stdout",
     "output_type": "stream",
     "text": [
      "Epoch 184/5000\n",
      "52/52 [==============================] - 1s 15ms/step - loss: 0.0052 - mse: 0.0021 - val_loss: 0.0185 - val_mse: 0.0154\n",
      "Epoch 185/5000\n",
      "52/52 [==============================] - 1s 16ms/step - loss: 0.0054 - mse: 0.0024 - val_loss: 0.0185 - val_mse: 0.0155\n",
      "Epoch 186/5000\n",
      "52/52 [==============================] - 1s 15ms/step - loss: 0.0051 - mse: 0.0020 - val_loss: 0.0184 - val_mse: 0.0154\n",
      "Epoch 187/5000\n",
      "52/52 [==============================] - 1s 15ms/step - loss: 0.0049 - mse: 0.0018 - val_loss: 0.0188 - val_mse: 0.0158\n",
      "Epoch 188/5000\n",
      "52/52 [==============================] - 1s 15ms/step - loss: 0.0050 - mse: 0.0020 - val_loss: 0.0192 - val_mse: 0.0162\n",
      "Epoch 189/5000\n",
      "52/52 [==============================] - 1s 14ms/step - loss: 0.0079 - mse: 0.0048 - val_loss: 0.0243 - val_mse: 0.0211\n",
      "Epoch 190/5000\n",
      "52/52 [==============================] - 1s 15ms/step - loss: 0.0088 - mse: 0.0055 - val_loss: 0.0205 - val_mse: 0.0172\n",
      "Epoch 191/5000\n",
      "52/52 [==============================] - 1s 15ms/step - loss: 0.0070 - mse: 0.0037 - val_loss: 0.0197 - val_mse: 0.0163\n",
      "Epoch 192/5000\n",
      "52/52 [==============================] - 1s 15ms/step - loss: 0.0059 - mse: 0.0026 - val_loss: 0.0198 - val_mse: 0.0165\n",
      "Epoch 193/5000\n",
      "52/52 [==============================] - 1s 14ms/step - loss: 0.0055 - mse: 0.0022 - val_loss: 0.0187 - val_mse: 0.0154\n",
      "Epoch 194/5000\n",
      "52/52 [==============================] - 1s 15ms/step - loss: 0.0051 - mse: 0.0018 - val_loss: 0.0184 - val_mse: 0.0152\n",
      "Epoch 195/5000\n",
      "52/52 [==============================] - 1s 14ms/step - loss: 0.0050 - mse: 0.0017 - val_loss: 0.0180 - val_mse: 0.0148\n",
      "Epoch 196/5000\n",
      "52/52 [==============================] - 1s 14ms/step - loss: 0.0048 - mse: 0.0016 - val_loss: 0.0183 - val_mse: 0.0151\n",
      "Epoch 197/5000\n",
      "52/52 [==============================] - 1s 14ms/step - loss: 0.0048 - mse: 0.0016 - val_loss: 0.0182 - val_mse: 0.0150\n",
      "Epoch 198/5000\n",
      "52/52 [==============================] - 1s 15ms/step - loss: 0.0049 - mse: 0.0017 - val_loss: 0.0186 - val_mse: 0.0155\n",
      "Epoch 199/5000\n",
      "52/52 [==============================] - 1s 16ms/step - loss: 0.0050 - mse: 0.0019 - val_loss: 0.0180 - val_mse: 0.0149\n",
      "Epoch 200/5000\n",
      "52/52 [==============================] - 1s 15ms/step - loss: 0.0047 - mse: 0.0017 - val_loss: 0.0187 - val_mse: 0.0157\n",
      "Epoch 201/5000\n",
      "52/52 [==============================] - 1s 13ms/step - loss: 0.0052 - mse: 0.0022 - val_loss: 0.0181 - val_mse: 0.0150\n",
      "Epoch 202/5000\n",
      "52/52 [==============================] - 1s 12ms/step - loss: 0.0049 - mse: 0.0018 - val_loss: 0.0184 - val_mse: 0.0154\n",
      "Epoch 203/5000\n",
      "52/52 [==============================] - 1s 13ms/step - loss: 0.0050 - mse: 0.0019 - val_loss: 0.0182 - val_mse: 0.0152\n",
      "Epoch 204/5000\n",
      "52/52 [==============================] - 1s 13ms/step - loss: 0.0046 - mse: 0.0016 - val_loss: 0.0220 - val_mse: 0.0190\n",
      "Epoch 205/5000\n",
      "52/52 [==============================] - 1s 15ms/step - loss: 0.0100 - mse: 0.0069 - val_loss: 0.0235 - val_mse: 0.0202\n",
      "Epoch 206/5000\n",
      "52/52 [==============================] - 1s 15ms/step - loss: 0.0097 - mse: 0.0063 - val_loss: 0.0219 - val_mse: 0.0184\n",
      "Epoch 207/5000\n",
      "52/52 [==============================] - 1s 14ms/step - loss: 0.0079 - mse: 0.0044 - val_loss: 0.0201 - val_mse: 0.0165\n",
      "Epoch 208/5000\n",
      "52/52 [==============================] - 1s 14ms/step - loss: 0.0065 - mse: 0.0030 - val_loss: 0.0193 - val_mse: 0.0158\n",
      "Epoch 209/5000\n",
      "52/52 [==============================] - 1s 15ms/step - loss: 0.0056 - mse: 0.0021 - val_loss: 0.0189 - val_mse: 0.0154\n",
      "Epoch 210/5000\n",
      "52/52 [==============================] - 1s 15ms/step - loss: 0.0051 - mse: 0.0017 - val_loss: 0.0187 - val_mse: 0.0153\n",
      "Epoch 211/5000\n",
      "52/52 [==============================] - 1s 15ms/step - loss: 0.0052 - mse: 0.0018 - val_loss: 0.0183 - val_mse: 0.0149\n",
      "Epoch 212/5000\n",
      "52/52 [==============================] - 1s 15ms/step - loss: 0.0049 - mse: 0.0016 - val_loss: 0.0179 - val_mse: 0.0146\n",
      "Epoch 213/5000\n",
      "52/52 [==============================] - 1s 15ms/step - loss: 0.0048 - mse: 0.0015 - val_loss: 0.0180 - val_mse: 0.0148\n",
      "Epoch 214/5000\n",
      "52/52 [==============================] - 1s 14ms/step - loss: 0.0048 - mse: 0.0016 - val_loss: 0.0182 - val_mse: 0.0149\n",
      "Epoch 215/5000\n",
      "52/52 [==============================] - 1s 15ms/step - loss: 0.0048 - mse: 0.0016 - val_loss: 0.0178 - val_mse: 0.0146\n",
      "Epoch 216/5000\n",
      "52/52 [==============================] - 1s 15ms/step - loss: 0.0046 - mse: 0.0014 - val_loss: 0.0180 - val_mse: 0.0149\n",
      "Epoch 217/5000\n",
      "52/52 [==============================] - 1s 16ms/step - loss: 0.0046 - mse: 0.0015 - val_loss: 0.0178 - val_mse: 0.0146\n",
      "Epoch 218/5000\n",
      "52/52 [==============================] - 1s 15ms/step - loss: 0.0050 - mse: 0.0018 - val_loss: 0.0177 - val_mse: 0.0146\n",
      "Epoch 219/5000\n",
      "52/52 [==============================] - 1s 16ms/step - loss: 0.0046 - mse: 0.0015 - val_loss: 0.0180 - val_mse: 0.0149\n",
      "Epoch 220/5000\n",
      "52/52 [==============================] - 1s 14ms/step - loss: 0.0049 - mse: 0.0018 - val_loss: 0.0177 - val_mse: 0.0146\n",
      "Epoch 221/5000\n",
      "52/52 [==============================] - 1s 14ms/step - loss: 0.0045 - mse: 0.0014 - val_loss: 0.0178 - val_mse: 0.0147\n",
      "Epoch 222/5000\n",
      "52/52 [==============================] - 1s 15ms/step - loss: 0.0045 - mse: 0.0015 - val_loss: 0.0181 - val_mse: 0.0151\n",
      "Epoch 223/5000\n",
      "52/52 [==============================] - 1s 15ms/step - loss: 0.0046 - mse: 0.0016 - val_loss: 0.0179 - val_mse: 0.0149\n",
      "Epoch 224/5000\n",
      "52/52 [==============================] - 1s 14ms/step - loss: 0.0047 - mse: 0.0017 - val_loss: 0.0179 - val_mse: 0.0149\n",
      "Epoch 225/5000\n",
      "52/52 [==============================] - 1s 15ms/step - loss: 0.0048 - mse: 0.0018 - val_loss: 0.0179 - val_mse: 0.0149\n",
      "Epoch 226/5000\n",
      "52/52 [==============================] - 1s 15ms/step - loss: 0.0045 - mse: 0.0015 - val_loss: 0.0178 - val_mse: 0.0148\n",
      "Epoch 227/5000\n",
      "52/52 [==============================] - 1s 15ms/step - loss: 0.0044 - mse: 0.0015 - val_loss: 0.0177 - val_mse: 0.0148\n",
      "Epoch 228/5000\n",
      "52/52 [==============================] - 1s 15ms/step - loss: 0.0043 - mse: 0.0014 - val_loss: 0.0175 - val_mse: 0.0146\n",
      "Epoch 229/5000\n",
      "52/52 [==============================] - 1s 15ms/step - loss: 0.0044 - mse: 0.0015 - val_loss: 0.0183 - val_mse: 0.0154\n",
      "Epoch 230/5000\n",
      "52/52 [==============================] - 1s 15ms/step - loss: 0.0045 - mse: 0.0017 - val_loss: 0.0176 - val_mse: 0.0147\n",
      "Epoch 231/5000\n",
      "52/52 [==============================] - 1s 14ms/step - loss: 0.0043 - mse: 0.0014 - val_loss: 0.0177 - val_mse: 0.0148\n",
      "Epoch 232/5000\n",
      "52/52 [==============================] - 1s 15ms/step - loss: 0.0044 - mse: 0.0016 - val_loss: 0.0176 - val_mse: 0.0148\n",
      "Epoch 233/5000\n",
      "52/52 [==============================] - 1s 16ms/step - loss: 0.0042 - mse: 0.0014 - val_loss: 0.0177 - val_mse: 0.0148\n",
      "Epoch 234/5000\n",
      "52/52 [==============================] - 1s 15ms/step - loss: 0.0043 - mse: 0.0015 - val_loss: 0.0178 - val_mse: 0.0150\n",
      "Epoch 235/5000\n",
      "52/52 [==============================] - 1s 15ms/step - loss: 0.0046 - mse: 0.0018 - val_loss: 0.0178 - val_mse: 0.0150\n",
      "Epoch 236/5000\n",
      "52/52 [==============================] - 1s 15ms/step - loss: 0.0045 - mse: 0.0017 - val_loss: 0.0180 - val_mse: 0.0152\n",
      "Epoch 237/5000\n",
      "52/52 [==============================] - 1s 15ms/step - loss: 0.0044 - mse: 0.0016 - val_loss: 0.0180 - val_mse: 0.0152\n",
      "Epoch 238/5000\n",
      "52/52 [==============================] - 1s 15ms/step - loss: 0.0046 - mse: 0.0018 - val_loss: 0.0182 - val_mse: 0.0154\n",
      "Epoch 239/5000\n",
      "52/52 [==============================] - 1s 16ms/step - loss: 0.0049 - mse: 0.0021 - val_loss: 0.0185 - val_mse: 0.0157\n",
      "Epoch 240/5000\n",
      "52/52 [==============================] - 1s 14ms/step - loss: 0.0046 - mse: 0.0018 - val_loss: 0.0180 - val_mse: 0.0152\n",
      "Epoch 241/5000\n",
      "52/52 [==============================] - 1s 14ms/step - loss: 0.0045 - mse: 0.0017 - val_loss: 0.0179 - val_mse: 0.0151\n",
      "Epoch 242/5000\n",
      "52/52 [==============================] - 1s 13ms/step - loss: 0.0048 - mse: 0.0020 - val_loss: 0.0182 - val_mse: 0.0154\n",
      "Epoch 243/5000\n",
      "52/52 [==============================] - 1s 14ms/step - loss: 0.0046 - mse: 0.0018 - val_loss: 0.0179 - val_mse: 0.0151\n",
      "Epoch 244/5000\n",
      "52/52 [==============================] - 1s 15ms/step - loss: 0.0045 - mse: 0.0017 - val_loss: 0.0180 - val_mse: 0.0153\n"
     ]
    },
    {
     "name": "stdout",
     "output_type": "stream",
     "text": [
      "Epoch 245/5000\n",
      "52/52 [==============================] - 1s 15ms/step - loss: 0.0043 - mse: 0.0016 - val_loss: 0.0178 - val_mse: 0.0151\n",
      "Epoch 246/5000\n",
      "52/52 [==============================] - 1s 16ms/step - loss: 0.0043 - mse: 0.0016 - val_loss: 0.0176 - val_mse: 0.0149\n",
      "Epoch 247/5000\n",
      "52/52 [==============================] - 1s 15ms/step - loss: 0.0044 - mse: 0.0017 - val_loss: 0.0177 - val_mse: 0.0149\n",
      "Epoch 248/5000\n",
      "52/52 [==============================] - 1s 15ms/step - loss: 0.0048 - mse: 0.0021 - val_loss: 0.0180 - val_mse: 0.0153\n",
      "Epoch 249/5000\n",
      "52/52 [==============================] - 1s 14ms/step - loss: 0.0045 - mse: 0.0017 - val_loss: 0.0177 - val_mse: 0.0149\n",
      "Epoch 250/5000\n",
      "52/52 [==============================] - 1s 14ms/step - loss: 0.0044 - mse: 0.0016 - val_loss: 0.0181 - val_mse: 0.0153\n",
      "Epoch 251/5000\n",
      "52/52 [==============================] - 1s 15ms/step - loss: 0.0044 - mse: 0.0017 - val_loss: 0.0184 - val_mse: 0.0157\n",
      "Epoch 252/5000\n",
      "52/52 [==============================] - 1s 15ms/step - loss: 0.0044 - mse: 0.0017 - val_loss: 0.0180 - val_mse: 0.0153\n",
      "Epoch 253/5000\n",
      "52/52 [==============================] - 1s 15ms/step - loss: 0.0050 - mse: 0.0022 - val_loss: 0.0181 - val_mse: 0.0153\n",
      "Epoch 254/5000\n",
      "52/52 [==============================] - 1s 14ms/step - loss: 0.0051 - mse: 0.0023 - val_loss: 0.0184 - val_mse: 0.0156\n",
      "Epoch 255/5000\n",
      "52/52 [==============================] - 1s 15ms/step - loss: 0.0050 - mse: 0.0022 - val_loss: 0.0187 - val_mse: 0.0159\n",
      "Epoch 256/5000\n",
      "52/52 [==============================] - 1s 15ms/step - loss: 0.0052 - mse: 0.0024 - val_loss: 0.0185 - val_mse: 0.0157\n",
      "Epoch 257/5000\n",
      "52/52 [==============================] - 1s 15ms/step - loss: 0.0049 - mse: 0.0021 - val_loss: 0.0186 - val_mse: 0.0158\n",
      "Epoch 258/5000\n",
      "52/52 [==============================] - 1s 15ms/step - loss: 0.0048 - mse: 0.0019 - val_loss: 0.0180 - val_mse: 0.0152\n",
      "Epoch 259/5000\n",
      "52/52 [==============================] - 1s 15ms/step - loss: 0.0043 - mse: 0.0016 - val_loss: 0.0177 - val_mse: 0.0150\n",
      "Epoch 260/5000\n",
      "52/52 [==============================] - 1s 16ms/step - loss: 0.0041 - mse: 0.0014 - val_loss: 0.0175 - val_mse: 0.0147\n",
      "Epoch 261/5000\n",
      "52/52 [==============================] - 1s 15ms/step - loss: 0.0041 - mse: 0.0014 - val_loss: 0.0181 - val_mse: 0.0154\n",
      "Epoch 262/5000\n",
      "52/52 [==============================] - 1s 16ms/step - loss: 0.0041 - mse: 0.0014 - val_loss: 0.0178 - val_mse: 0.0151\n",
      "Epoch 263/5000\n",
      "52/52 [==============================] - 1s 15ms/step - loss: 0.0041 - mse: 0.0014 - val_loss: 0.0177 - val_mse: 0.0150\n",
      "Epoch 264/5000\n",
      "52/52 [==============================] - 1s 15ms/step - loss: 0.0041 - mse: 0.0015 - val_loss: 0.0184 - val_mse: 0.0158\n",
      "Epoch 265/5000\n",
      "52/52 [==============================] - 1s 15ms/step - loss: 0.0045 - mse: 0.0018 - val_loss: 0.0178 - val_mse: 0.0151\n",
      "Epoch 266/5000\n",
      "52/52 [==============================] - 1s 14ms/step - loss: 0.0045 - mse: 0.0018 - val_loss: 0.0184 - val_mse: 0.0157\n",
      "Epoch 267/5000\n",
      "52/52 [==============================] - 1s 15ms/step - loss: 0.0074 - mse: 0.0046 - val_loss: 0.0213 - val_mse: 0.0183\n",
      "Epoch 268/5000\n",
      "52/52 [==============================] - 1s 15ms/step - loss: 0.0076 - mse: 0.0045 - val_loss: 0.0213 - val_mse: 0.0182\n",
      "Epoch 269/5000\n",
      "52/52 [==============================] - 1s 15ms/step - loss: 0.0070 - mse: 0.0039 - val_loss: 0.0195 - val_mse: 0.0164\n",
      "Epoch 270/5000\n",
      "52/52 [==============================] - 1s 15ms/step - loss: 0.0058 - mse: 0.0027 - val_loss: 0.0190 - val_mse: 0.0159\n",
      "Epoch 271/5000\n",
      "52/52 [==============================] - 1s 15ms/step - loss: 0.0050 - mse: 0.0019 - val_loss: 0.0180 - val_mse: 0.0150\n",
      "Epoch 272/5000\n",
      "52/52 [==============================] - 1s 15ms/step - loss: 0.0046 - mse: 0.0016 - val_loss: 0.0182 - val_mse: 0.0152\n",
      "Epoch 273/5000\n",
      "52/52 [==============================] - 1s 15ms/step - loss: 0.0045 - mse: 0.0015 - val_loss: 0.0180 - val_mse: 0.0150\n",
      "Epoch 274/5000\n",
      "52/52 [==============================] - 1s 15ms/step - loss: 0.0043 - mse: 0.0013 - val_loss: 0.0179 - val_mse: 0.0149\n",
      "Epoch 275/5000\n",
      "52/52 [==============================] - 1s 14ms/step - loss: 0.0041 - mse: 0.0012 - val_loss: 0.0174 - val_mse: 0.0145\n",
      "Epoch 276/5000\n",
      "52/52 [==============================] - 1s 15ms/step - loss: 0.0041 - mse: 0.0012 - val_loss: 0.0175 - val_mse: 0.0146\n",
      "Epoch 277/5000\n",
      "52/52 [==============================] - 1s 15ms/step - loss: 0.0041 - mse: 0.0012 - val_loss: 0.0180 - val_mse: 0.0152\n",
      "Epoch 278/5000\n",
      "52/52 [==============================] - 1s 15ms/step - loss: 0.0041 - mse: 0.0012 - val_loss: 0.0178 - val_mse: 0.0150\n",
      "Epoch 279/5000\n",
      "52/52 [==============================] - 1s 15ms/step - loss: 0.0043 - mse: 0.0015 - val_loss: 0.0176 - val_mse: 0.0148\n",
      "Epoch 280/5000\n",
      "52/52 [==============================] - 1s 16ms/step - loss: 0.0040 - mse: 0.0013 - val_loss: 0.0177 - val_mse: 0.0150\n",
      "Epoch 281/5000\n",
      "52/52 [==============================] - 1s 15ms/step - loss: 0.0046 - mse: 0.0019 - val_loss: 0.0177 - val_mse: 0.0150\n",
      "Epoch 282/5000\n",
      "52/52 [==============================] - 1s 14ms/step - loss: 0.0042 - mse: 0.0015 - val_loss: 0.0176 - val_mse: 0.0148\n",
      "Epoch 283/5000\n",
      "52/52 [==============================] - 1s 15ms/step - loss: 0.0040 - mse: 0.0013 - val_loss: 0.0178 - val_mse: 0.0150\n",
      "Epoch 284/5000\n",
      "52/52 [==============================] - 1s 15ms/step - loss: 0.0040 - mse: 0.0013 - val_loss: 0.0183 - val_mse: 0.0156\n",
      "Epoch 285/5000\n",
      "52/52 [==============================] - 1s 15ms/step - loss: 0.0044 - mse: 0.0017 - val_loss: 0.0182 - val_mse: 0.0154\n",
      "Epoch 286/5000\n",
      "52/52 [==============================] - 1s 15ms/step - loss: 0.0042 - mse: 0.0015 - val_loss: 0.0195 - val_mse: 0.0168\n",
      "Epoch 287/5000\n",
      "52/52 [==============================] - 1s 15ms/step - loss: 0.0043 - mse: 0.0016 - val_loss: 0.0176 - val_mse: 0.0149\n",
      "Epoch 288/5000\n",
      "52/52 [==============================] - 1s 15ms/step - loss: 0.0040 - mse: 0.0013 - val_loss: 0.0174 - val_mse: 0.0148\n",
      "Epoch 289/5000\n",
      "52/52 [==============================] - 1s 15ms/step - loss: 0.0040 - mse: 0.0013 - val_loss: 0.0175 - val_mse: 0.0149\n",
      "Epoch 290/5000\n",
      "52/52 [==============================] - 1s 15ms/step - loss: 0.0041 - mse: 0.0015 - val_loss: 0.0174 - val_mse: 0.0147\n",
      "Epoch 291/5000\n",
      "52/52 [==============================] - 1s 15ms/step - loss: 0.0041 - mse: 0.0015 - val_loss: 0.0176 - val_mse: 0.0150\n",
      "Epoch 292/5000\n",
      "52/52 [==============================] - 1s 15ms/step - loss: 0.0040 - mse: 0.0014 - val_loss: 0.0173 - val_mse: 0.0147\n",
      "Epoch 293/5000\n",
      "52/52 [==============================] - 1s 15ms/step - loss: 0.0039 - mse: 0.0013 - val_loss: 0.0175 - val_mse: 0.0149\n",
      "Epoch 294/5000\n",
      "52/52 [==============================] - 1s 16ms/step - loss: 0.0041 - mse: 0.0015 - val_loss: 0.0176 - val_mse: 0.0150\n",
      "Epoch 295/5000\n",
      "52/52 [==============================] - 1s 16ms/step - loss: 0.0040 - mse: 0.0014 - val_loss: 0.0179 - val_mse: 0.0153\n",
      "Epoch 296/5000\n",
      "52/52 [==============================] - 1s 15ms/step - loss: 0.0044 - mse: 0.0018 - val_loss: 0.0177 - val_mse: 0.0151\n",
      "Epoch 297/5000\n",
      "52/52 [==============================] - 1s 15ms/step - loss: 0.0044 - mse: 0.0018 - val_loss: 0.0180 - val_mse: 0.0154\n",
      "Epoch 298/5000\n",
      "52/52 [==============================] - 1s 15ms/step - loss: 0.0042 - mse: 0.0016 - val_loss: 0.0176 - val_mse: 0.0150\n",
      "Epoch 299/5000\n",
      "52/52 [==============================] - 1s 14ms/step - loss: 0.0044 - mse: 0.0018 - val_loss: 0.0183 - val_mse: 0.0157\n",
      "Epoch 300/5000\n",
      "52/52 [==============================] - 1s 15ms/step - loss: 0.0042 - mse: 0.0016 - val_loss: 0.0181 - val_mse: 0.0156\n",
      "Epoch 301/5000\n",
      "52/52 [==============================] - 1s 13ms/step - loss: 0.0043 - mse: 0.0017 - val_loss: 0.0178 - val_mse: 0.0152\n",
      "Epoch 302/5000\n",
      "52/52 [==============================] - 1s 15ms/step - loss: 0.0044 - mse: 0.0018 - val_loss: 0.0180 - val_mse: 0.0154\n",
      "Epoch 303/5000\n",
      "52/52 [==============================] - 1s 16ms/step - loss: 0.0043 - mse: 0.0016 - val_loss: 0.0176 - val_mse: 0.0150\n",
      "Epoch 304/5000\n",
      "52/52 [==============================] - 1s 15ms/step - loss: 0.0043 - mse: 0.0017 - val_loss: 0.0175 - val_mse: 0.0148\n",
      "Epoch 305/5000\n",
      "52/52 [==============================] - 1s 15ms/step - loss: 0.0041 - mse: 0.0015 - val_loss: 0.0175 - val_mse: 0.0149\n"
     ]
    },
    {
     "name": "stdout",
     "output_type": "stream",
     "text": [
      "Epoch 306/5000\n",
      "52/52 [==============================] - 1s 16ms/step - loss: 0.0039 - mse: 0.0014 - val_loss: 0.0174 - val_mse: 0.0148\n",
      "Epoch 307/5000\n",
      "52/52 [==============================] - 1s 16ms/step - loss: 0.0040 - mse: 0.0015 - val_loss: 0.0177 - val_mse: 0.0151\n",
      "Epoch 308/5000\n",
      "52/52 [==============================] - 1s 15ms/step - loss: 0.0040 - mse: 0.0014 - val_loss: 0.0175 - val_mse: 0.0149\n",
      "Epoch 309/5000\n",
      "52/52 [==============================] - 1s 15ms/step - loss: 0.0043 - mse: 0.0017 - val_loss: 0.0179 - val_mse: 0.0153\n",
      "Epoch 310/5000\n",
      "52/52 [==============================] - 1s 15ms/step - loss: 0.0042 - mse: 0.0016 - val_loss: 0.0181 - val_mse: 0.0155\n",
      "Epoch 311/5000\n",
      "52/52 [==============================] - 1s 16ms/step - loss: 0.0052 - mse: 0.0026 - val_loss: 0.0186 - val_mse: 0.0159\n",
      "Epoch 312/5000\n",
      "52/52 [==============================] - 1s 15ms/step - loss: 0.0050 - mse: 0.0023 - val_loss: 0.0185 - val_mse: 0.0158\n",
      "Epoch 313/5000\n",
      "52/52 [==============================] - 1s 15ms/step - loss: 0.0052 - mse: 0.0025 - val_loss: 0.0185 - val_mse: 0.0158\n",
      "Epoch 314/5000\n",
      "52/52 [==============================] - 1s 15ms/step - loss: 0.0047 - mse: 0.0019 - val_loss: 0.0181 - val_mse: 0.0154\n",
      "Epoch 315/5000\n",
      "52/52 [==============================] - 1s 14ms/step - loss: 0.0043 - mse: 0.0016 - val_loss: 0.0175 - val_mse: 0.0148\n",
      "Epoch 316/5000\n",
      "52/52 [==============================] - 1s 15ms/step - loss: 0.0042 - mse: 0.0015 - val_loss: 0.0175 - val_mse: 0.0148\n",
      "Epoch 317/5000\n",
      "52/52 [==============================] - 1s 15ms/step - loss: 0.0041 - mse: 0.0015 - val_loss: 0.0175 - val_mse: 0.0149\n",
      "Epoch 318/5000\n",
      "52/52 [==============================] - 1s 15ms/step - loss: 0.0041 - mse: 0.0014 - val_loss: 0.0171 - val_mse: 0.0144\n",
      "Epoch 319/5000\n",
      "52/52 [==============================] - 1s 15ms/step - loss: 0.0039 - mse: 0.0013 - val_loss: 0.0173 - val_mse: 0.0147\n",
      "Epoch 320/5000\n",
      "52/52 [==============================] - 1s 15ms/step - loss: 0.0039 - mse: 0.0014 - val_loss: 0.0178 - val_mse: 0.0152\n",
      "Epoch 321/5000\n",
      "52/52 [==============================] - 1s 15ms/step - loss: 0.0061 - mse: 0.0035 - val_loss: 0.0189 - val_mse: 0.0161\n",
      "Epoch 322/5000\n",
      "52/52 [==============================] - 1s 16ms/step - loss: 0.0055 - mse: 0.0028 - val_loss: 0.0185 - val_mse: 0.0157\n",
      "Epoch 323/5000\n",
      "52/52 [==============================] - 1s 15ms/step - loss: 0.0051 - mse: 0.0023 - val_loss: 0.0182 - val_mse: 0.0154\n",
      "Epoch 324/5000\n",
      "52/52 [==============================] - 1s 15ms/step - loss: 0.0045 - mse: 0.0017 - val_loss: 0.0181 - val_mse: 0.0154\n",
      "Epoch 325/5000\n",
      "52/52 [==============================] - 1s 15ms/step - loss: 0.0053 - mse: 0.0025 - val_loss: 0.0184 - val_mse: 0.0156\n",
      "Epoch 326/5000\n",
      "52/52 [==============================] - 1s 15ms/step - loss: 0.0047 - mse: 0.0019 - val_loss: 0.0180 - val_mse: 0.0152\n",
      "Epoch 327/5000\n",
      "52/52 [==============================] - 1s 16ms/step - loss: 0.0043 - mse: 0.0016 - val_loss: 0.0178 - val_mse: 0.0150\n",
      "Epoch 328/5000\n",
      "52/52 [==============================] - 1s 14ms/step - loss: 0.0040 - mse: 0.0013 - val_loss: 0.0181 - val_mse: 0.0154\n",
      "Epoch 329/5000\n",
      "52/52 [==============================] - 1s 15ms/step - loss: 0.0041 - mse: 0.0013 - val_loss: 0.0175 - val_mse: 0.0148\n",
      "Epoch 330/5000\n",
      "52/52 [==============================] - 1s 15ms/step - loss: 0.0040 - mse: 0.0013 - val_loss: 0.0175 - val_mse: 0.0149\n",
      "Epoch 331/5000\n",
      "52/52 [==============================] - 1s 16ms/step - loss: 0.0038 - mse: 0.0011 - val_loss: 0.0174 - val_mse: 0.0147\n",
      "Epoch 332/5000\n",
      "52/52 [==============================] - 1s 15ms/step - loss: 0.0038 - mse: 0.0011 - val_loss: 0.0174 - val_mse: 0.0148\n",
      "Epoch 333/5000\n",
      "52/52 [==============================] - 1s 16ms/step - loss: 0.0037 - mse: 0.0011 - val_loss: 0.0180 - val_mse: 0.0155\n",
      "Epoch 334/5000\n",
      "52/52 [==============================] - 1s 16ms/step - loss: 0.0040 - mse: 0.0015 - val_loss: 0.0174 - val_mse: 0.0148\n",
      "Epoch 335/5000\n",
      "52/52 [==============================] - 1s 16ms/step - loss: 0.0038 - mse: 0.0012 - val_loss: 0.0172 - val_mse: 0.0147\n",
      "Epoch 336/5000\n",
      "52/52 [==============================] - 1s 15ms/step - loss: 0.0037 - mse: 0.0012 - val_loss: 0.0173 - val_mse: 0.0147\n",
      "Epoch 337/5000\n",
      "52/52 [==============================] - 1s 15ms/step - loss: 0.0036 - mse: 0.0011 - val_loss: 0.0172 - val_mse: 0.0147\n",
      "Epoch 338/5000\n",
      "52/52 [==============================] - 1s 16ms/step - loss: 0.0036 - mse: 0.0011 - val_loss: 0.0172 - val_mse: 0.0147\n",
      "Epoch 339/5000\n",
      "52/52 [==============================] - 1s 16ms/step - loss: 0.0036 - mse: 0.0011 - val_loss: 0.0173 - val_mse: 0.0149\n",
      "Epoch 340/5000\n",
      "52/52 [==============================] - 1s 15ms/step - loss: 0.0037 - mse: 0.0012 - val_loss: 0.0177 - val_mse: 0.0152\n",
      "Epoch 341/5000\n",
      "52/52 [==============================] - 1s 16ms/step - loss: 0.0038 - mse: 0.0013 - val_loss: 0.0175 - val_mse: 0.0150\n",
      "Epoch 342/5000\n",
      "52/52 [==============================] - 1s 17ms/step - loss: 0.0039 - mse: 0.0014 - val_loss: 0.0173 - val_mse: 0.0148\n",
      "Epoch 343/5000\n",
      "52/52 [==============================] - 1s 11ms/step - loss: 0.0037 - mse: 0.0013 - val_loss: 0.0175 - val_mse: 0.0151\n",
      "Epoch 344/5000\n",
      "52/52 [==============================] - 1s 14ms/step - loss: 0.0041 - mse: 0.0016 - val_loss: 0.0178 - val_mse: 0.0153\n",
      "Epoch 345/5000\n",
      "52/52 [==============================] - 1s 13ms/step - loss: 0.0045 - mse: 0.0020 - val_loss: 0.0190 - val_mse: 0.0165\n",
      "Epoch 346/5000\n",
      "52/52 [==============================] - 1s 12ms/step - loss: 0.0052 - mse: 0.0026 - val_loss: 0.0190 - val_mse: 0.0164\n",
      "Epoch 347/5000\n",
      "52/52 [==============================] - 1s 12ms/step - loss: 0.0051 - mse: 0.0025 - val_loss: 0.0187 - val_mse: 0.0160\n",
      "Epoch 348/5000\n",
      "52/52 [==============================] - 1s 13ms/step - loss: 0.0055 - mse: 0.0029 - val_loss: 0.0191 - val_mse: 0.0164\n",
      "Epoch 349/5000\n",
      "52/52 [==============================] - 1s 14ms/step - loss: 0.0055 - mse: 0.0028 - val_loss: 0.0184 - val_mse: 0.0156\n",
      "Epoch 350/5000\n",
      "52/52 [==============================] - 1s 14ms/step - loss: 0.0047 - mse: 0.0020 - val_loss: 0.0182 - val_mse: 0.0155\n",
      "Epoch 351/5000\n",
      "52/52 [==============================] - 1s 15ms/step - loss: 0.0044 - mse: 0.0017 - val_loss: 0.0181 - val_mse: 0.0154\n",
      "Epoch 352/5000\n",
      "52/52 [==============================] - 1s 16ms/step - loss: 0.0046 - mse: 0.0019 - val_loss: 0.0182 - val_mse: 0.0155\n",
      "Epoch 353/5000\n",
      "52/52 [==============================] - 1s 15ms/step - loss: 0.0043 - mse: 0.0016 - val_loss: 0.0181 - val_mse: 0.0154\n",
      "Epoch 354/5000\n",
      "52/52 [==============================] - 1s 14ms/step - loss: 0.0041 - mse: 0.0014 - val_loss: 0.0180 - val_mse: 0.0153\n",
      "Epoch 355/5000\n",
      "52/52 [==============================] - 1s 13ms/step - loss: 0.0039 - mse: 0.0013 - val_loss: 0.0175 - val_mse: 0.0149\n",
      "Epoch 356/5000\n",
      "52/52 [==============================] - 1s 14ms/step - loss: 0.0039 - mse: 0.0012 - val_loss: 0.0182 - val_mse: 0.0156\n",
      "Epoch 357/5000\n",
      "52/52 [==============================] - 1s 14ms/step - loss: 0.0040 - mse: 0.0014 - val_loss: 0.0178 - val_mse: 0.0152\n",
      "Epoch 358/5000\n",
      "52/52 [==============================] - 1s 15ms/step - loss: 0.0038 - mse: 0.0012 - val_loss: 0.0175 - val_mse: 0.0149\n",
      "Epoch 359/5000\n",
      "52/52 [==============================] - 1s 15ms/step - loss: 0.0037 - mse: 0.0011 - val_loss: 0.0174 - val_mse: 0.0149\n",
      "Epoch 360/5000\n",
      "52/52 [==============================] - 1s 14ms/step - loss: 0.0041 - mse: 0.0016 - val_loss: 0.0179 - val_mse: 0.0153\n",
      "Epoch 361/5000\n",
      "52/52 [==============================] - 1s 15ms/step - loss: 0.0039 - mse: 0.0014 - val_loss: 0.0177 - val_mse: 0.0152\n",
      "Epoch 362/5000\n",
      "52/52 [==============================] - 1s 15ms/step - loss: 0.0038 - mse: 0.0012 - val_loss: 0.0177 - val_mse: 0.0152\n",
      "Epoch 363/5000\n",
      "52/52 [==============================] - 1s 14ms/step - loss: 0.0036 - mse: 0.0011 - val_loss: 0.0173 - val_mse: 0.0148\n",
      "Epoch 364/5000\n",
      "52/52 [==============================] - 1s 15ms/step - loss: 0.0035 - mse: 0.0010 - val_loss: 0.0171 - val_mse: 0.0147\n",
      "Epoch 365/5000\n",
      "52/52 [==============================] - 1s 16ms/step - loss: 0.0035 - mse: 0.0010 - val_loss: 0.0171 - val_mse: 0.0147\n",
      "Epoch 366/5000\n"
     ]
    },
    {
     "name": "stdout",
     "output_type": "stream",
     "text": [
      "52/52 [==============================] - 1s 15ms/step - loss: 0.0036 - mse: 0.0011 - val_loss: 0.0172 - val_mse: 0.0148\n",
      "Epoch 367/5000\n",
      "52/52 [==============================] - 1s 15ms/step - loss: 0.0035 - mse: 0.0011 - val_loss: 0.0172 - val_mse: 0.0148\n",
      "Epoch 368/5000\n",
      "52/52 [==============================] - 1s 15ms/step - loss: 0.0034 - mse: 9.6712e-04 - val_loss: 0.0175 - val_mse: 0.0151\n"
     ]
    }
   ],
   "source": [
    "es = tf.keras.callbacks.EarlyStopping(monitor='val_loss', mode='min', patience=50)\n",
    "               \n",
    "with tf.device('/device:GPU:2'):\n",
    "    hstry3 = model3.fit(x1_tr,y1_tr, epochs =5000,\n",
    "                        batch_size=128, shuffle=True,\n",
    "                validation_data=(x1_te,y1_te),callbacks=[es])\n"
   ]
  },
  {
   "cell_type": "code",
   "execution_count": 28,
   "metadata": {},
   "outputs": [
    {
     "data": {
      "image/png": "[encoded data removed]",
      "text/plain": [
       "<Figure size 432x288 with 1 Axes>"
      ]
     },
     "metadata": {
      "needs_background": "light"
     },
     "output_type": "display_data"
    }
   ],
   "source": [
    "plt.plot(hstry3.history['mse'],label='train')\n",
    "plt.plot(hstry3.history['val_mse'],label='val')\n",
    "plt.title('trg and val')\n",
    "plt.legend()\n",
    "plt.show()"
   ]
  },
  {
   "cell_type": "code",
   "execution_count": null,
   "metadata": {},
   "outputs": [],
   "source": []
  },
  {
   "cell_type": "code",
   "execution_count": 29,
   "metadata": {},
   "outputs": [
    {
     "name": "stdout",
     "output_type": "stream",
     "text": [
      "error= 0.015133031896118235\n",
      "Mean Squared Error (MSE): 0.015133031896118237\n",
      "Mean Absolute Error (MAE): 0.05824766703101941\n",
      "R2_score: 0.5618889544664233\n",
      "Adjusted_R2_score: 0.5247264535861729\n"
     ]
    }
   ],
   "source": [
    "from sklearn.metrics import mean_squared_error, mean_absolute_error, r2_score\n",
    "\n",
    "with tf.device('/device:GPU:2'):\n",
    "    y1_pre = model3.predict(x1_te)\n",
    "    err = np.mean((y1_te - y1_pre)**2)\n",
    "    print('error=',err)\n",
    "    \n",
    "mse = mean_squared_error(y1_te, y1_pre)\n",
    "mae = mean_absolute_error(y1_te, y1_pre)\n",
    "r2 = r2_score(y1_te, y1_pre)\n",
    "adj_r2 = (1 - (1 - r2) * ((y1_te.shape[0] - 1) / \n",
    "          (y1_te.shape[0] - y1_te.shape[1] - 1)))\n",
    "# Print the evaluation metrics\n",
    "print(\"Mean Squared Error (MSE):\", mse)\n",
    "print(\"Mean Absolute Error (MAE):\", mae)\n",
    "print(\"R2_score:\", r2)\n",
    "print(\"Adjusted_R2_score:\", adj_r2)"
   ]
  },
  {
   "cell_type": "code",
   "execution_count": 34,
   "metadata": {},
   "outputs": [
    {
     "name": "stdout",
     "output_type": "stream",
     "text": [
      "Saved model to disk\n"
     ]
    }
   ],
   "source": [
    "model3.save(\"model2.h5\")\n",
    "print(\"Saved model to disk\")"
   ]
  },
  {
   "cell_type": "code",
   "execution_count": 782,
   "metadata": {},
   "outputs": [
    {
     "name": "stdout",
     "output_type": "stream",
     "text": [
      "(array([1607, 1607, 1607, 1607, 1607, 1607, 1607]), array([ 86, 102, 103, 112, 115, 123, 124]))\n"
     ]
    },
    {
     "data": {
      "text/plain": [
       "(2047, 128)"
      ]
     },
     "execution_count": 782,
     "metadata": {},
     "output_type": "execute_result"
    }
   ],
   "source": [
    "# y3=np.loadtxt('ant128_S11_batch12K_1.txt',delimiter=',')\n",
    "# np.shape(y3)\n",
    "# print(np.where(y3>0))\n",
    "# y3 = np.delete(y3,[1607],axis=0)\n",
    "# np.shape(y3)"
   ]
  },
  {
   "cell_type": "code",
   "execution_count": 878,
   "metadata": {},
   "outputs": [
    {
     "data": {
      "text/plain": [
       "8.740763733681285e-06"
      ]
     },
     "execution_count": 878,
     "metadata": {},
     "output_type": "execute_result"
    }
   ],
   "source": [
    "# yy3= y3/10\n",
    "# yy3=10**yy3\n",
    "# np.min(yy3)"
   ]
  },
  {
   "cell_type": "code",
   "execution_count": 918,
   "metadata": {},
   "outputs": [
    {
     "data": {
      "text/plain": [
       "(2048, 16)"
      ]
     },
     "execution_count": 918,
     "metadata": {},
     "output_type": "execute_result"
    }
   ],
   "source": [
    "# X3=np.loadtxt('X_128f_batch12K_1.txt')\n",
    "# X3 = X3[:,0:8]\n",
    "# Y3=np.loadtxt('Y_128f_batch12K_1.txt')\n",
    "# Y3 = Y3[:,0:8]\n",
    "# XX=np.concatenate((X3,Y3),axis=1)\n",
    "# np.shape(XX)"
   ]
  },
  {
   "cell_type": "code",
   "execution_count": 919,
   "metadata": {},
   "outputs": [
    {
     "data": {
      "text/plain": [
       "(2047, 16)"
      ]
     },
     "execution_count": 919,
     "metadata": {},
     "output_type": "execute_result"
    }
   ],
   "source": [
    "# XX= np.delete(XX,[1607],axis=0)\n",
    "# np.shape(XX)"
   ]
  },
  {
   "cell_type": "code",
   "execution_count": 920,
   "metadata": {},
   "outputs": [
    {
     "data": {
      "text/plain": [
       "1.0"
      ]
     },
     "execution_count": 920,
     "metadata": {},
     "output_type": "execute_result"
    }
   ],
   "source": [
    "# xx1= np.zeros(np.shape(XX))\n",
    "# xx1 = (XX-np.min(XX))/(np.max(XX)-np.min(XX))\n",
    "# np.max(xx1)"
   ]
  },
  {
   "cell_type": "code",
   "execution_count": 6,
   "metadata": {},
   "outputs": [
    {
     "ename": "NameError",
     "evalue": "name 'model3' is not defined",
     "output_type": "error",
     "traceback": [
      "\u001b[0;31m---------------------------------------------------------------------------\u001b[0m",
      "\u001b[0;31mNameError\u001b[0m                                 Traceback (most recent call last)",
      "\u001b[0;32m/tmp/ipykernel_269730/1635718354.py\u001b[0m in \u001b[0;36m<module>\u001b[0;34m\u001b[0m\n\u001b[0;32m----> 1\u001b[0;31m \u001b[0mmodel3\u001b[0m\u001b[0;34m.\u001b[0m\u001b[0mload_weights\u001b[0m\u001b[0;34m(\u001b[0m\u001b[0;34m\"model.h5\"\u001b[0m\u001b[0;34m)\u001b[0m\u001b[0;34m\u001b[0m\u001b[0;34m\u001b[0m\u001b[0m\n\u001b[0m\u001b[1;32m      2\u001b[0m \u001b[0;31m# y2_pre = model3.predict(xx1)\u001b[0m\u001b[0;34m\u001b[0m\u001b[0;34m\u001b[0m\u001b[0m\n\u001b[1;32m      3\u001b[0m \u001b[0;31m# err = np.mean((yy3 - y2_pre)**2)\u001b[0m\u001b[0;34m\u001b[0m\u001b[0;34m\u001b[0m\u001b[0m\n\u001b[1;32m      4\u001b[0m \u001b[0;31m# print('error=',err)\u001b[0m\u001b[0;34m\u001b[0m\u001b[0;34m\u001b[0m\u001b[0m\n",
      "\u001b[0;31mNameError\u001b[0m: name 'model3' is not defined"
     ]
    }
   ],
   "source": [
    "# model3.load_weights(\"model.h5\")\n",
    "# y2_pre = model3.predict(xx1)\n",
    "# err = np.mean((yy3 - y2_pre)**2)\n",
    "# print('error=',err)"
   ]
  },
  {
   "cell_type": "code",
   "execution_count": null,
   "metadata": {},
   "outputs": [],
   "source": []
  },
  {
   "cell_type": "code",
   "execution_count": 30,
   "metadata": {},
   "outputs": [
    {
     "data": {
      "image/png": "[encoded data removed]",
      "text/plain": [
       "<Figure size 432x288 with 1 Axes>"
      ]
     },
     "metadata": {
      "needs_background": "light"
     },
     "output_type": "display_data"
    },
    {
     "name": "stdout",
     "output_type": "stream",
     "text": [
      "1360 out of 1638\n",
      "MSE_error< 0.03 = 83.02808302808303 %\n"
     ]
    }
   ],
   "source": [
    "prediction_error = np.mean(np.square(y1_te - y1_pre), axis=1)\n",
    "# prediction_error = np.mean(np.square(yy3 - y2_pre), axis=1)\n",
    "# Plot histogram of prediction error\n",
    "plt.hist(prediction_error, bins='auto', alpha=0.9, rwidth=0.8)\n",
    "plt.xlabel('Prediction Error (MSE)')\n",
    "plt.ylabel('No. of samples')\n",
    "plt.title('Model Prediction Error')\n",
    "plt.grid(True)\n",
    "plt.show()\n",
    "pred=np.size(np.where(prediction_error<0.03))\n",
    "sample=y1_te.shape[0]                     \n",
    "print(pred, 'out of',y1_te.shape[0])\n",
    "print('MSE_error< 0.03 =',pred*100/sample,'%')"
   ]
  },
  {
   "cell_type": "code",
   "execution_count": 28,
   "metadata": {},
   "outputs": [
    {
     "name": "stdout",
     "output_type": "stream",
     "text": [
      "41388\n"
     ]
    }
   ],
   "source": [
    "predy=np.argmax(y1_pre)\n",
    "print(predy)"
   ]
  },
  {
   "cell_type": "code",
   "execution_count": 33,
   "metadata": {},
   "outputs": [
    {
     "name": "stdout",
     "output_type": "stream",
     "text": [
      "666\n",
      "MSE_error= 0.0005419345816118407\n",
      "MAE_error= 0.017967866539256225\n",
      "true_max= 0.9761127824302128 true_min= 0.014440492323435524\n",
      "pred_max= 0.98546135 pred_min= 0.05079873\n"
     ]
    },
    {
     "data": {
      "image/png": "[encoded data removed]",
      "text/plain": [
       "<Figure size 432x288 with 1 Axes>"
      ]
     },
     "metadata": {
      "needs_background": "light"
     },
     "output_type": "display_data"
    }
   ],
   "source": [
    "rr = np.random.randint(0,1638)\n",
    "# rr=1261\n",
    "print(rr)\n",
    "err1 = np.mean((y1_te[rr] - y1_pre[rr])**2)\n",
    "print('MSE_error=',err1)\n",
    "err2 = np.mean(np.absolute(y1_te[rr] - y1_pre[rr]))\n",
    "print('MAE_error=',err2)\n",
    "print('true_max=',np.max(y1_te[rr]),'true_min=',np.min(y1_te[rr]))\n",
    "print('pred_max=',np.max(y1_pre[rr]),'pred_min=',np.min(y1_pre[rr]))\n",
    "plt.plot(y1_te[rr],label='actual')\n",
    "plt.plot(y1_pre[rr],label='Pred')\n",
    "plt.title('actual VS pred')\n",
    "plt.legend()\n",
    "plt.ylim(0,1)\n",
    "plt.show()"
   ]
  },
  {
   "cell_type": "code",
   "execution_count": 2923,
   "metadata": {},
   "outputs": [
    {
     "data": {
      "text/plain": [
       "<AxesSubplot:>"
      ]
     },
     "execution_count": 2923,
     "metadata": {},
     "output_type": "execute_result"
    },
    {
     "data": {
      "image/png": "[encoded data removed]",
      "text/plain": [
       "<Figure size 432x288 with 1 Axes>"
      ]
     },
     "metadata": {
      "needs_background": "light"
     },
     "output_type": "display_data"
    }
   ],
   "source": [
    "sns.scatterplot(data=yy2,legend=False)"
   ]
  },
  {
   "cell_type": "code",
   "execution_count": null,
   "metadata": {},
   "outputs": [],
   "source": []
  },
  {
   "cell_type": "markdown",
   "metadata": {},
   "source": [
    "# Custom loss functions"
   ]
  },
  {
   "cell_type": "code",
   "execution_count": 82,
   "metadata": {},
   "outputs": [],
   "source": [
    "def S11_reg(reg_fac):\n",
    "    # function that accepts the ground truth and predictions\n",
    "    def S11_Reg(y_true, y_pred):\n",
    "        error = y_true - y_pred\n",
    "        return tf.square(error) + reg_fac*tf.abs(error)\n",
    "    # return the inner function tuned by the hyperparameter\n",
    "    return S11_Reg"
   ]
  },
  {
   "cell_type": "code",
   "execution_count": 83,
   "metadata": {},
   "outputs": [],
   "source": [
    "def S11_huber(threshold):\n",
    "    # function that accepts the ground truth and predictions\n",
    "    def my_huber_loss(y_true, y_pred):\n",
    "        error = y_true - y_pred\n",
    "        is_small_error = tf.abs(error) <= threshold\n",
    "        small_error_loss = tf.square(error) / 2\n",
    "        big_error_loss = threshold * (tf.abs(error) - (threshold / 2))\n",
    "        return tf.where(is_small_error, small_error_loss, big_error_loss)\n",
    "    # return the inner function tuned by the hyperparameter\n",
    "    return my_huber_loss"
   ]
  },
  {
   "cell_type": "code",
   "execution_count": 70,
   "metadata": {},
   "outputs": [],
   "source": [
    "def S11_exp(y_true, y_pred):\n",
    "   squared_difference = tf.square(y_true - y_pred)\n",
    "   return tf.reduce_mean(squared_difference, axis=-1)"
   ]
  },
  {
   "cell_type": "markdown",
   "metadata": {},
   "source": [
    "# LSTM model"
   ]
  },
  {
   "cell_type": "code",
   "execution_count": 1240,
   "metadata": {},
   "outputs": [
    {
     "name": "stdout",
     "output_type": "stream",
     "text": [
      "Model: \"model_71\"\n",
      "_________________________________________________________________\n",
      "Layer (type)                 Output Shape              Param #   \n",
      "=================================================================\n",
      "input_72 (InputLayer)        [(None, 17, 1)]           0         \n",
      "_________________________________________________________________\n",
      "dense_369 (Dense)            (None, 17, 32)            64        \n",
      "_________________________________________________________________\n",
      "dense_370 (Dense)            (None, 17, 64)            2112      \n",
      "_________________________________________________________________\n",
      "dense_371 (Dense)            (None, 17, 128)           8320      \n",
      "_________________________________________________________________\n",
      "dense_372 (Dense)            (None, 17, 256)           33024     \n",
      "_________________________________________________________________\n",
      "lstm (LSTM)                  (None, 512)               1574912   \n",
      "_________________________________________________________________\n",
      "dropout_35 (Dropout)         (None, 512)               0         \n",
      "_________________________________________________________________\n",
      "dense_373 (Dense)            (None, 16)                8208      \n",
      "=================================================================\n",
      "Total params: 1,626,640\n",
      "Trainable params: 1,626,640\n",
      "Non-trainable params: 0\n",
      "_________________________________________________________________\n"
     ]
    }
   ],
   "source": [
    "\n",
    "with tf.device('/device:GPU:2'):\n",
    "   \n",
    "\n",
    "    input_shape = (17,1)\n",
    "    iput = Input(shape=input_shape)\n",
    "    dens1 = Dense(32, activation=\"relu\")(iput)\n",
    "    dens2 = Dense(64, activation=\"relu\")(dens1)\n",
    "    dens3 = Dense(128, activation=\"relu\")(dens2)\n",
    "    dens4 = Dense(256, activation=\"relu\")(dens3)\n",
    "#     dens5 = GRU(256,input_shape = (17,1))(dens4)\n",
    "#     d1 = Dropout(0.5)(dens5)\n",
    "    L1 = LSTM(512,input_shape = (17,1))(dens4)\n",
    "    d1 = Dropout(0.5)(L1)\n",
    "    \n",
    "    densf = Dense(16, activation='tanh')(d1)\n",
    "    oput = densf\n",
    "\n",
    "    model5 = Model(inputs=iput, outputs=oput)\n",
    "    model5.summary()\n",
    "\n",
    "    model5.compile(optimizer='adam', loss='mse', metrics=['mse'])\n",
    "   "
   ]
  },
  {
   "cell_type": "code",
   "execution_count": 4,
   "metadata": {},
   "outputs": [
    {
     "data": {
      "text/plain": [
       "'1.19.5'"
      ]
     },
     "execution_count": 4,
     "metadata": {},
     "output_type": "execute_result"
    }
   ],
   "source": [
    "np.__version__"
   ]
  },
  {
   "cell_type": "markdown",
   "metadata": {},
   "source": [
    "# Decision tree model"
   ]
  },
  {
   "cell_type": "code",
   "execution_count": 113,
   "metadata": {},
   "outputs": [],
   "source": [
    "from sklearn.model_selection import train_test_split\n",
    "x_train, x_test, y_train, y_test=train_test_split(xx2,yy2, test_size=0.2 ,random_state=42)\n",
    "# scaling \n",
    "from sklearn.preprocessing import StandardScaler\n",
    "sc=StandardScaler()\n",
    "x_train=sc.fit_transform(x_train)\n",
    "x_test=sc.fit_transform(x_test)\n",
    "# Training the Decision Tree Regression model on the whole dataset\n",
    "from sklearn.tree import DecisionTreeRegressor\n",
    "regressor = DecisionTreeRegressor(random_state = 42)\n",
    "regressor.fit(x_train, y_train)\n",
    "\n",
    "# Predicting a new result\n",
    "y_pred=regressor.predict(x_test)\n",
    "# y_pred"
   ]
  },
  {
   "cell_type": "code",
   "execution_count": 114,
   "metadata": {},
   "outputs": [
    {
     "data": {
      "text/plain": [
       "range(1, 820)"
      ]
     },
     "execution_count": 114,
     "metadata": {},
     "output_type": "execute_result"
    }
   ],
   "source": [
    "pred_len = range(1, len(y_test)+1)\n",
    "pred_len"
   ]
  },
  {
   "cell_type": "code",
   "execution_count": 115,
   "metadata": {},
   "outputs": [
    {
     "name": "stderr",
     "output_type": "stream",
     "text": [
      "No artists with labels found to put in legend.  Note that artists whose label start with an underscore are ignored when legend() is called with no argument.\n"
     ]
    },
    {
     "data": {
      "text/plain": [
       "<matplotlib.legend.Legend at 0x7ff954445400>"
      ]
     },
     "execution_count": 115,
     "metadata": {},
     "output_type": "execute_result"
    },
    {
     "data": {
      "image/png": "[encoded data removed]",
      "text/plain": [
       "<Figure size 432x288 with 1 Axes>"
      ]
     },
     "metadata": {
      "needs_background": "light"
     },
     "output_type": "display_data"
    }
   ],
   "source": [
    "plt.plot(pred_len, y_pred, 'y')\n",
    "plt.plot(pred_len, y_test, 'r')\n",
    "plt.title('y_test and y_pred')\n",
    "plt.legend()"
   ]
  },
  {
   "cell_type": "code",
   "execution_count": 137,
   "metadata": {},
   "outputs": [
    {
     "name": "stdout",
     "output_type": "stream",
     "text": [
      "309\n"
     ]
    },
    {
     "data": {
      "text/plain": [
       "[<matplotlib.lines.Line2D at 0x7ff85ff2cfd0>]"
      ]
     },
     "execution_count": 137,
     "metadata": {},
     "output_type": "execute_result"
    },
    {
     "data": {
      "image/png": "[encoded data removed]",
      "text/plain": [
       "<Figure size 432x288 with 1 Axes>"
      ]
     },
     "metadata": {
      "needs_background": "light"
     },
     "output_type": "display_data"
    }
   ],
   "source": [
    "rr = np.random.randint(0,820)\n",
    "print(rr)\n",
    "plt.plot(y_pred[rr])\n",
    "plt.plot(y_test[rr])"
   ]
  },
  {
   "cell_type": "markdown",
   "metadata": {},
   "source": [
    "# Cubic spline interpolation"
   ]
  },
  {
   "cell_type": "code",
   "execution_count": 1686,
   "metadata": {},
   "outputs": [
    {
     "name": "stdout",
     "output_type": "stream",
     "text": [
      "28640\n"
     ]
    },
    {
     "data": {
      "image/png": "[encoded data removed]",
      "text/plain": [
       "<Figure size 432x288 with 1 Axes>"
      ]
     },
     "metadata": {
      "needs_background": "light"
     },
     "output_type": "display_data"
    }
   ],
   "source": [
    "rr = np.random.randint(0,32768)\n",
    "print(rr)\n",
    "x= np.linspace(0,16,16)\n",
    "y=YY1[rr,:]\n",
    "x_vals=np.linspace(0,16,128) \n",
    "# f= interpolate.interp1d(x,y,'cubic')\n",
    "\n",
    "f = CubicSpline(x, y, bc_type='natural')\n",
    "y_vals=f(x_vals)\n",
    "plt.plot(x,y,'-o')\n",
    "plt.plot(x_vals,y_vals)\n",
    "plt.show()"
   ]
  },
  {
   "cell_type": "code",
   "execution_count": 1687,
   "metadata": {},
   "outputs": [
    {
     "data": {
      "image/png": "[encoded data removed]",
      "text/plain": [
       "<Figure size 432x288 with 1 Axes>"
      ]
     },
     "metadata": {
      "needs_background": "light"
     },
     "output_type": "display_data"
    }
   ],
   "source": [
    "f= interpolate.interp1d(x,y,'cubic')\n",
    "y_vals=f(x_vals)\n",
    "plt.plot(x,y,'-o')\n",
    "plt.plot(x_vals,y_vals)\n",
    "plt.show()"
   ]
  },
  {
   "cell_type": "code",
   "execution_count": 1688,
   "metadata": {},
   "outputs": [],
   "source": [
    "# err = np.mean((y_orig - y_vals)**2)\n",
    "# print(err)"
   ]
  },
  {
   "cell_type": "code",
   "execution_count": 40,
   "metadata": {},
   "outputs": [
    {
     "data": {
      "text/plain": [
       "tensorflow.python.framework.ops.Tensor"
      ]
     },
     "execution_count": 40,
     "metadata": {},
     "output_type": "execute_result"
    }
   ],
   "source": [
    "type(product)"
   ]
  },
  {
   "cell_type": "code",
   "execution_count": 46,
   "metadata": {},
   "outputs": [
    {
     "name": "stdout",
     "output_type": "stream",
     "text": [
      "True\n"
     ]
    },
    {
     "name": "stderr",
     "output_type": "stream",
     "text": [
      "2023-07-08 12:58:24.059867: I tensorflow/compiler/jit/xla_gpu_device.cc:99] Not creating XLA devices, tf_xla_enable_xla_devices not set\n"
     ]
    }
   ],
   "source": [
    "print(product.eval(session = tf.compat.v1.Session())[0][0]==12)"
   ]
  },
  {
   "cell_type": "code",
   "execution_count": 51,
   "metadata": {},
   "outputs": [],
   "source": []
  },
  {
   "cell_type": "code",
   "execution_count": null,
   "metadata": {},
   "outputs": [],
   "source": []
  },
  {
   "cell_type": "code",
   "execution_count": null,
   "metadata": {},
   "outputs": [],
   "source": []
  }
 ],
 "metadata": {
  "kernelspec": {
   "display_name": "Python 3 (ipykernel)",
   "language": "python",
   "name": "python3"
  },
  "language_info": {
   "codemirror_mode": {
    "name": "ipython",
    "version": 3
   },
   "file_extension": ".py",
   "mimetype": "text/x-python",
   "name": "python",
   "nbconvert_exporter": "python",
   "pygments_lexer": "ipython3",
   "version": "3.9.7"
  }
 },
 "nbformat": 4,
 "nbformat_minor": 2
}
